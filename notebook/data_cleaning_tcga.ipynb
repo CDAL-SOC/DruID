{
 "cells": [
  {
   "cell_type": "code",
   "execution_count": null,
   "id": "c2df53bd-00ad-47d0-bd8c-dda94e076a87",
   "metadata": {
    "execution": {
     "iopub.execute_input": "2022-09-26T01:28:18.428427Z",
     "iopub.status.busy": "2022-09-26T01:28:18.427731Z",
     "iopub.status.idle": "2022-09-26T01:28:18.445958Z",
     "shell.execute_reply": "2022-09-26T01:28:18.444865Z",
     "shell.execute_reply.started": "2022-09-26T01:28:18.428281Z"
    },
    "tags": []
   },
   "outputs": [],
   "source": [
    "import sys\n",
    "\n",
    "sys.path.append(\"../../vae_zinb_reprn/\")\n",
    "sys.path.append(\"../src/\")"
   ]
  },
  {
   "cell_type": "code",
   "execution_count": null,
   "id": "61d05ab2-879b-47d6-9040-9832b3fa7d7a",
   "metadata": {
    "execution": {
     "iopub.execute_input": "2022-09-26T01:28:19.132057Z",
     "iopub.status.busy": "2022-09-26T01:28:19.131437Z",
     "iopub.status.idle": "2022-09-26T01:28:19.791969Z",
     "shell.execute_reply": "2022-09-26T01:28:19.790829Z",
     "shell.execute_reply.started": "2022-09-26T01:28:19.132005Z"
    },
    "tags": []
   },
   "outputs": [],
   "source": [
    "import numpy as np\n",
    "import pandas as pd\n",
    "\n",
    "import datetime\n",
    "import logging\n",
    "import os\n",
    "import time\n",
    "from functools import cached_property\n",
    "\n",
    "from sklearn.metrics import average_precision_score, ndcg_score, roc_auc_score"
   ]
  },
  {
   "cell_type": "code",
   "execution_count": null,
   "id": "7b100ceb-433d-4749-8076-20b085d23714",
   "metadata": {
    "execution": {
     "iopub.execute_input": "2022-09-26T01:28:20.113763Z",
     "iopub.status.busy": "2022-09-26T01:28:20.112945Z",
     "iopub.status.idle": "2022-09-26T01:28:20.168842Z",
     "shell.execute_reply": "2022-09-26T01:28:20.167806Z",
     "shell.execute_reply.started": "2022-09-26T01:28:20.113684Z"
    },
    "tags": []
   },
   "outputs": [],
   "source": [
    "from data import (\n",
    "    construct_anno_features,\n",
    "    construct_raw_mutation_features,\n",
    "    construct_raw_cnv_features,\n",
    "    canonicalize_mutations,\n",
    "    construct_anno_features_xon17\n",
    ")"
   ]
  },
  {
   "cell_type": "code",
   "execution_count": null,
   "id": "e0b526a0-de1c-4cd1-807c-6546f95c019e",
   "metadata": {
    "execution": {
     "iopub.execute_input": "2022-09-26T01:28:21.159466Z",
     "iopub.status.busy": "2022-09-26T01:28:21.158790Z",
     "iopub.status.idle": "2022-09-26T01:28:21.225961Z",
     "shell.execute_reply": "2022-09-26T01:28:21.224401Z",
     "shell.execute_reply.started": "2022-09-26T01:28:21.159413Z"
    },
    "tags": []
   },
   "outputs": [],
   "source": [
    "tcga_mutations_df = pd.read_csv(\"../data/raw/tcga_point_mutations_incl_alive.csv\")\n",
    "tcga_mutations_df"
   ]
  },
  {
   "cell_type": "code",
   "execution_count": null,
   "id": "1135ef82-2904-4cb9-a5db-631c3e96c700",
   "metadata": {
    "execution": {
     "iopub.execute_input": "2022-09-26T01:28:22.339425Z",
     "iopub.status.busy": "2022-09-26T01:28:22.338599Z",
     "iopub.status.idle": "2022-09-26T01:28:22.368569Z",
     "shell.execute_reply": "2022-09-26T01:28:22.367597Z",
     "shell.execute_reply.started": "2022-09-26T01:28:22.339369Z"
    },
    "tags": []
   },
   "outputs": [],
   "source": [
    "tcga_response = pd.read_csv(\"../data/processed/TCGA_drug_response_010222.csv\")\n",
    "tcga_response.rename(\n",
    "    columns={\n",
    "        \"patient.arr\": \"submitter_id\",\n",
    "        \"drug\": \"drug_name\",\n",
    "        \"response\": \"response_description\",\n",
    "        \"response_cat\": \"response\",\n",
    "    },\n",
    "    inplace=True,\n",
    ")\n",
    "tcga_response"
   ]
  },
  {
   "cell_type": "code",
   "execution_count": null,
   "id": "36a0a797-b0d2-42a7-9086-350d1d8333f5",
   "metadata": {
    "execution": {
     "iopub.execute_input": "2022-09-26T01:28:23.726042Z",
     "iopub.status.busy": "2022-09-26T01:28:23.725386Z",
     "iopub.status.idle": "2022-09-26T01:28:23.749234Z",
     "shell.execute_reply": "2022-09-26T01:28:23.747601Z",
     "shell.execute_reply.started": "2022-09-26T01:28:23.725988Z"
    },
    "tags": []
   },
   "outputs": [],
   "source": [
    "tcga_mutations_df = tcga_mutations_df[tcga_mutations_df.submitter_id.isin(tcga_response.submitter_id.unique())].copy()\n",
    "tcga_mutations_df.shape"
   ]
  },
  {
   "cell_type": "markdown",
   "id": "7a3f0c9d-9b9c-4dec-b14b-c6f822aa7e61",
   "metadata": {
    "execution": {
     "iopub.execute_input": "2022-08-24T16:17:32.044263Z",
     "iopub.status.busy": "2022-08-24T16:17:32.043625Z",
     "iopub.status.idle": "2022-08-24T16:17:32.050209Z",
     "shell.execute_reply": "2022-08-24T16:17:32.048982Z",
     "shell.execute_reply.started": "2022-08-24T16:17:32.044209Z"
    },
    "tags": []
   },
   "source": [
    "## Variant Annotations with Annovar/Transvar"
   ]
  },
  {
   "cell_type": "code",
   "execution_count": null,
   "id": "e31d3b84-4ff8-4e9e-a2db-3b0bf940278a",
   "metadata": {
    "execution": {
     "iopub.execute_input": "2022-09-26T01:28:27.779524Z",
     "iopub.status.busy": "2022-09-26T01:28:27.778708Z",
     "iopub.status.idle": "2022-09-26T01:28:27.790764Z",
     "shell.execute_reply": "2022-09-26T01:28:27.789278Z",
     "shell.execute_reply.started": "2022-09-26T01:28:27.779466Z"
    },
    "tags": []
   },
   "outputs": [],
   "source": [
    "genes_324 = pd.read_csv(\"../../data/druid_1.3_data/gene2ind.txt\", header=None)[\n",
    "    0\n",
    "].tolist()"
   ]
  },
  {
   "cell_type": "code",
   "execution_count": null,
   "id": "86a5ec71-5769-4052-ae9b-6470fca12117",
   "metadata": {
    "execution": {
     "iopub.execute_input": "2022-09-26T01:28:29.394130Z",
     "iopub.status.busy": "2022-09-26T01:28:29.393331Z",
     "iopub.status.idle": "2022-09-26T01:28:30.027802Z",
     "shell.execute_reply": "2022-09-26T01:28:30.026352Z",
     "shell.execute_reply.started": "2022-09-26T01:28:29.394075Z"
    },
    "tags": []
   },
   "outputs": [],
   "source": [
    "# Extract point mutations for the 324 F1 genes\n",
    "tcga_mutations = []\n",
    "for submitter_id in tcga_mutations_df.submitter_id.unique():\n",
    "    filtered_df = tcga_mutations_df[tcga_mutations_df.submitter_id == submitter_id]\n",
    "    point_mutations = filtered_df.input.values\n",
    "    point_mutations = canonicalize_mutations(point_mutations)\n",
    "    for gene in genes_324:\n",
    "        for point_mutation in point_mutations:\n",
    "            if f\"{gene} \" in point_mutation:\n",
    "                tcga_mutations.append((submitter_id, point_mutation.strip()))\n",
    "                \n",
    "tcga_mutations_filtered = pd.DataFrame(\n",
    "    tcga_mutations, columns=[\"submitter_id\", \"point_mutation\"]\n",
    ")\n",
    "tcga_mutations_filtered"
   ]
  },
  {
   "cell_type": "code",
   "execution_count": null,
   "id": "b8766abd-7fb8-4e93-8621-1335eb889370",
   "metadata": {
    "execution": {
     "iopub.execute_input": "2022-09-26T01:28:31.028266Z",
     "iopub.status.busy": "2022-09-26T01:28:31.027396Z",
     "iopub.status.idle": "2022-09-26T01:28:32.553834Z",
     "shell.execute_reply": "2022-09-26T01:28:32.551267Z",
     "shell.execute_reply.started": "2022-09-26T01:28:31.028203Z"
    },
    "tags": []
   },
   "outputs": [],
   "source": [
    "# import dask\n",
    "\n",
    "# from tqdm import tqdm\n",
    "# from dask.distributed import Client\n",
    "\n",
    "\n",
    "# client = Client()\n",
    "# client.cluster.scale(30)"
   ]
  },
  {
   "cell_type": "code",
   "execution_count": null,
   "id": "658af8a2-d303-49a8-afef-dc9e956e3b89",
   "metadata": {
    "execution": {
     "iopub.execute_input": "2022-09-26T01:28:32.558744Z",
     "iopub.status.busy": "2022-09-26T01:28:32.557590Z",
     "iopub.status.idle": "2022-09-26T01:28:32.588552Z",
     "shell.execute_reply": "2022-09-26T01:28:32.586845Z",
     "shell.execute_reply.started": "2022-09-26T01:28:32.558679Z"
    },
    "tags": []
   },
   "outputs": [],
   "source": [
    "# %load_ext jupyterlab_notify"
   ]
  },
  {
   "cell_type": "code",
   "execution_count": null,
   "id": "6fa61c09-e7b8-4d45-a719-d2e6158e9e8b",
   "metadata": {
    "scrolled": true,
    "tags": []
   },
   "outputs": [],
   "source": [
    "# %%notify\n",
    "\n",
    "# futures = []\n",
    "# for submitter_id in tcga_mutations_filtered.submitter_id.unique():\n",
    "#     filtered_df = tcga_mutations_filtered[\n",
    "#         tcga_mutations_filtered.submitter_id == submitter_id\n",
    "#     ]\n",
    "#     point_mutations = list(filtered_df.point_mutation.values)\n",
    "#     future = client.submit(construct_anno_features_xon17, submitter_id, point_mutations, False)\n",
    "#     futures.append(future)\n",
    "\n",
    "# anno_features_combined = client.gather(futures, errors=\"skip\")\n",
    "# client.shutdown()"
   ]
  },
  {
   "cell_type": "code",
   "execution_count": null,
   "id": "729172ef",
   "metadata": {},
   "outputs": [],
   "source": [
    "# variant annotation on these point mutations\n",
    "import sys\n",
    "sys.path.append(\"../src/\")\n",
    "from data import (construct_anno_features, \n",
    "                  construct_raw_cnv_features, \n",
    "                  construct_raw_mutation_features, \n",
    "                  canonicalize_mutations,\n",
    "                  ALIAS_TO_CANONICAL_NAME_MAP, \n",
    "                  _is_valid_point_mutations,\n",
    "                  get_annotation_features,\n",
    "                  preprocess_annotation_features,\n",
    "                  MICEData\n",
    "                 )"
   ]
  },
  {
   "cell_type": "code",
   "execution_count": null,
   "id": "d2332bac",
   "metadata": {},
   "outputs": [],
   "source": [
    "import logging\n",
    "import re\n",
    "import subprocess\n",
    "import tempfile\n",
    "import itertools\n",
    "import json"
   ]
  },
  {
   "cell_type": "code",
   "execution_count": null,
   "id": "5c4658d5",
   "metadata": {},
   "outputs": [],
   "source": [
    "REQUIRED_ANNOTATION_COLUMNS = [\n",
    "    \"SIFT_score\",\n",
    "    \"SIFT_converted_rankscore\",\n",
    "    \"SIFT_pred\",\n",
    "    \"SIFT4G_score\",\n",
    "    \"SIFT4G_converted_rankscore\",\n",
    "    \"SIFT4G_pred\",\n",
    "    \"LRT_score\",\n",
    "    \"LRT_converted_rankscore\",\n",
    "    \"LRT_pred\",\n",
    "    \"MutationTaster_score\",\n",
    "    \"MutationTaster_converted_rankscore\",\n",
    "    \"MutationTaster_pred\",\n",
    "    \"MutationAssessor_score\",\n",
    "    \"MutationAssessor_rankscore\",\n",
    "    \"MutationAssessor_pred\",\n",
    "    \"FATHMM_score\",\n",
    "    \"FATHMM_converted_rankscore\",\n",
    "    \"FATHMM_pred\",\n",
    "    \"PROVEAN_score\",\n",
    "    \"PROVEAN_converted_rankscore\",\n",
    "    \"PROVEAN_pred\",\n",
    "    \"MetaSVM_pred\",\n",
    "    \"M-CAP_score\",\n",
    "    \"M-CAP_rankscore\",\n",
    "    \"M-CAP_pred\",\n",
    "    \"MVP_score\",\n",
    "    \"MVP_rankscore\",\n",
    "    \"MPC_score\",\n",
    "    \"MPC_rankscore\",\n",
    "    \"PrimateAI_score\",\n",
    "    \"PrimateAI_rankscore\",\n",
    "    \"PrimateAI_pred\",\n",
    "    \"DEOGEN2_score\",\n",
    "    \"DEOGEN2_rankscore\",\n",
    "    \"DEOGEN2_pred\",\n",
    "    \"BayesDel_addAF_score\",\n",
    "    \"BayesDel_addAF_pred\",\n",
    "    \"BayesDel_noAF_score\",\n",
    "    \"BayesDel_noAF_rankscore\",\n",
    "    \"BayesDel_noAF_pred\",\n",
    "    \"ClinPred_score\",\n",
    "    \"ClinPred_rankscore\",\n",
    "    \"ClinPred_pred\",\n",
    "    \"LIST-S2_score\",\n",
    "    \"LIST-S2_rankscore\",\n",
    "    \"LIST-S2_pred\",\n",
    "    \"DANN_score\",\n",
    "    \"DANN_rankscore\",\n",
    "    \"fathmm-MKL_coding_score\",\n",
    "    \"fathmm-MKL_coding_rankscore\",\n",
    "    \"fathmm-MKL_coding_pred\",\n",
    "    \"fathmm-XF_coding_score\",\n",
    "    \"fathmm-XF_coding_rankscore\",\n",
    "    \"fathmm-XF_coding_pred\",\n",
    "    \"Eigen-raw_coding\",\n",
    "    \"Eigen-raw_coding_rankscore\",\n",
    "    \"Eigen-PC-raw_coding\",\n",
    "    \"Eigen-PC-raw_coding_rankscore\",\n",
    "]\n",
    "CATEGORICAL_COLUMNS = [\n",
    "    \"sift_pred\",\n",
    "    \"sift4g_pred\",\n",
    "    \"lrt_pred\",\n",
    "    \"mutationtaster_pred\",\n",
    "    \"mutationassessor_pred\",\n",
    "    \"fathmm_pred\",\n",
    "    \"provean_pred\",\n",
    "    \"metasvm_pred\",\n",
    "    \"m_cap_pred\",\n",
    "    \"primateai_pred\",\n",
    "    \"deogen2_pred\",\n",
    "    \"bayesdel_addaf_pred\",\n",
    "    \"bayesdel_noaf_pred\",\n",
    "    \"clinpred_pred\",\n",
    "    \"list_s2_pred\",\n",
    "    \"fathmm_mkl_coding_pred\",\n",
    "    \"fathmm_xf_coding_pred\",\n",
    "]\n",
    "\n",
    "# The thresholds used in PREDICTOR_LAMBDA_MAP are taken from the corresponding\n",
    "# technique's published paper/web page\n",
    "PREDICTOR_LAMBDA_MAP = {\n",
    "    \"sift_pred\": (\"sift_score\", lambda v: \"D\" if v <= 0.05 else \"T\"),\n",
    "    \"sift4g_pred\": (\"sift4g_score\", lambda v: \"D\" if v <= 0.05 else \"T\"),\n",
    "    \"lrt_pred\": (\"lrt_score\", lambda v: \"D\" if v <= 0.001 else \"U\"),\n",
    "    \"mutationtaster_pred\": (\n",
    "        \"mutationtaster_score\",\n",
    "        lambda v: None,\n",
    "    ),  # Threshold is not available and couldn't be derived from available values as well\n",
    "    \"mutationassessor_pred\": (\n",
    "        \"mutationassessor_score\",\n",
    "        lambda v: \"H\" if v >= 3.5 else (\"M\" if v >= 1.94 else \"L\"),\n",
    "    ),\n",
    "    \"fathmm_pred\": (\"fathmm_score\", lambda v: \"D\" if v < 1.5 else \"T\"),\n",
    "    \"provean_pred\": (\"provean_score\", lambda v: \"D\" if v <= 2.282 else \"N\"),\n",
    "    \"metasvm_pred\": (\n",
    "        \"metasvm_pred\",\n",
    "        lambda v: None,\n",
    "    ),  # No corresponding numeric score available for this method\n",
    "    \"m_cap_pred\": (\"m_cap_score\", lambda v: \"D\" if v >= 0.025 else \"T\"),\n",
    "    \"primateai_pred\": (\"primateai_score\", lambda v: \"D\" if v >= 0.803 else \"T\"),\n",
    "    \"deogen2_pred\": (\"deogen2_score\", lambda v: \"D\" if v >= 0.45 else \"T\"),\n",
    "    \"bayesdel_addaf_pred\": (\n",
    "        \"bayesdel_addaf_score\",\n",
    "        lambda v: \"D\" if v >= 0.0692 else \"T\",\n",
    "    ),\n",
    "    \"bayesdel_noaf_pred\": (\n",
    "        \"bayesdel_noaf_score\",\n",
    "        lambda v: \"D\" if v >= -0.0570 else \"T\",\n",
    "    ),\n",
    "    \"clinpred_pred\": (\"clinpred_score\", lambda v: \"D\" if v >= 0.5 else \"T\"),\n",
    "    \"list_s2_pred\": (\"list_s2_score\", lambda v: \"D\" if v >= 0.85 else \"T\"),\n",
    "    \"fathmm_mkl_coding_pred\": (\n",
    "        \"fathmm_mkl_coding_score\",\n",
    "        lambda v: \"D\" if v >= 0.5 else \"N\",\n",
    "    ),\n",
    "    \"fathmm_xf_coding_pred\": (\n",
    "        \"fathmm_xf_coding_score\",\n",
    "        lambda v: \"D\" if v >= 0.5 else \"N\",\n",
    "    ),\n",
    "}\n",
    "\n",
    "DELETERIOUS_VALUES = [\"D\", \"A\", \"H\", \"M\"]\n",
    "\n",
    "CNV_PATTERN = r\"loss|amplification\"\n",
    "\n",
    "GENES_324 = pd.read_csv(\"../../data/druid_1.3_data/gene2ind.txt\", header=None)[\n",
    "    0\n",
    "].tolist()\n",
    "\n",
    "ANNOTATION_SCRIPT_PATH = \"../script/goAAtoGv2.sh\"\n",
    "SPECIAL_CASES = r\"rearrangement|truncation|fs|del|ins\""
   ]
  },
  {
   "cell_type": "code",
   "execution_count": null,
   "id": "95666347",
   "metadata": {},
   "outputs": [],
   "source": [
    "def construct_anno_features_xon17_gpd(patient_id, patient_mutations, agg_features=False):\n",
    "    \"\"\"\n",
    "    TODO: Add support for other agg functions (mean, OR, etc) - as of 202209, only\n",
    "    sum is supported\n",
    "    Here, the aggregation is done as an average over all variants over all 17 algorithms.\n",
    "    \"\"\"\n",
    "    if agg_features:\n",
    "        logging.warn(\n",
    "            \"\"\"\n",
    "        Received agg_features=True -> As of now, construct_anno_features only supports sum aggregation.\n",
    "        Please ensure that the agg used in dataset definition is sum - if it is not sum, please pass\n",
    "        agg_features=False and perform agg in dataset definition\n",
    "        \"\"\"\n",
    "        )\n",
    "\n",
    "    if not _is_valid_point_mutations(patient_mutations):\n",
    "        return None\n",
    "\n",
    "    anno_features_combined_imputed_df = pd.read_csv(\n",
    "        \"../data/processed/anno_features_combined_imputed.csv\"\n",
    "    )\n",
    "    logging.info(anno_features_combined_imputed_df.shape)\n",
    "    anno_features_combined_imputed_df.set_index([\"input\"], inplace=True)\n",
    "    anno_features_combined_imputed_df.head()\n",
    "\n",
    "    canonical_mutations = canonicalize_mutations(patient_mutations)\n",
    "\n",
    "    mutations_with_missing_annotations = []\n",
    "    available_mutations = []\n",
    "    for mutation in canonical_mutations:\n",
    "        if mutation in anno_features_combined_imputed_df.index:\n",
    "            available_mutations.append(mutation)\n",
    "        elif not re.search(CNV_PATTERN, mutation, re.IGNORECASE):\n",
    "            mutations_with_missing_annotations.append(mutation)\n",
    "\n",
    "    if available_mutations:\n",
    "        patient_anno_features = anno_features_combined_imputed_df.loc[\n",
    "            available_mutations\n",
    "        ]\n",
    "        patient_anno_features = patient_anno_features[CATEGORICAL_COLUMNS].copy()\n",
    "    else:\n",
    "        patient_anno_features = None\n",
    "\n",
    "    if len(mutations_with_missing_annotations) != 0:\n",
    "        logging.info(\n",
    "            f\"Found mutations with missing annotations - {mutations_with_missing_annotations}\"\n",
    "        )\n",
    "        missing_annotations = get_annotation_features(\n",
    "            mutations_with_missing_annotations\n",
    "        )\n",
    "        if missing_annotations is not None:\n",
    "            missing_annotations = missing_annotations[\n",
    "                REQUIRED_ANNOTATION_COLUMNS\n",
    "            ].copy()\n",
    "            missing_annotations.reset_index(inplace=True)\n",
    "            missing_annotations = preprocess_annotation_features(missing_annotations)\n",
    "            missing_annotations = missing_annotations[~missing_annotations.duplicated()]\n",
    "            missing_annotations.reset_index(drop=True, inplace=True)\n",
    "            missing_annotations.set_index(\"input\", inplace=True)\n",
    "\n",
    "            numeric_columns = list(\n",
    "                column\n",
    "                for column in missing_annotations.columns\n",
    "                if pd.api.types.is_numeric_dtype(missing_annotations[column])\n",
    "            )\n",
    "            # Prepare mask by identifying rows that have all na values for numeric_columns\n",
    "            na_mask = None\n",
    "            for col in numeric_columns:\n",
    "                if type(na_mask) == pd.Series:\n",
    "                    na_mask = na_mask & missing_annotations[col].isna()\n",
    "                else:\n",
    "                    na_mask = missing_annotations[col].isna()\n",
    "\n",
    "            missing_annotations = missing_annotations[~na_mask]\n",
    "            numeric_df = missing_annotations[numeric_columns].copy()\n",
    "            logging.info(numeric_df.shape)\n",
    "            numeric_df.head()\n",
    "            numeric_df = pd.concat(\n",
    "                [numeric_df, anno_features_combined_imputed_df[numeric_columns]],\n",
    "            )\n",
    "\n",
    "            categorical_columns = [\n",
    "                column\n",
    "                for column in missing_annotations.columns\n",
    "                if column not in numeric_columns\n",
    "            ]\n",
    "            categorical_missing_annotations = missing_annotations[\n",
    "                categorical_columns\n",
    "            ].copy()\n",
    "            logging.info(categorical_missing_annotations.shape)\n",
    "            categorical_missing_annotations.head()\n",
    "\n",
    "            imp = MICEData(numeric_df)\n",
    "            # Impute missing values in numeric columns - Expensive!!\n",
    "            imp.update_all()\n",
    "            imputed_df = imp.data\n",
    "            assert numeric_df.shape == imputed_df.shape\n",
    "            imputed_df.index = numeric_df.index\n",
    "            imputed_df = imputed_df[\n",
    "                imputed_df.index.isin(mutations_with_missing_annotations)\n",
    "            ].copy()\n",
    "            numeric_imputed_df = pd.concat(\n",
    "                [categorical_missing_annotations, imputed_df,], axis=1,\n",
    "            )\n",
    "            logging.info(numeric_imputed_df.shape)\n",
    "            for column in CATEGORICAL_COLUMNS:\n",
    "                logging.info(\n",
    "                    column,\n",
    "                    numeric_imputed_df[column].unique(),\n",
    "                    len(numeric_imputed_df[numeric_imputed_df[column].isna()]),\n",
    "                )\n",
    "                col_na_mask = numeric_imputed_df[column].isna()\n",
    "                numeric_imputed_df.loc[col_na_mask, column] = numeric_imputed_df[\n",
    "                    col_na_mask\n",
    "                ][PREDICTOR_LAMBDA_MAP[column][0]].apply(\n",
    "                    PREDICTOR_LAMBDA_MAP[column][1]\n",
    "                )\n",
    "\n",
    "                # logging.info(\n",
    "                #     column,\n",
    "                #     numeric_imputed_df[column].unique(),\n",
    "                #     len(numeric_imputed_df[numeric_imputed_df[column].isna()]),\n",
    "                # )\n",
    "\n",
    "            numeric_imputed_df = numeric_imputed_df.dropna()\n",
    "            logging.info(numeric_imputed_df.shape)\n",
    "            missing_anno_features_df = numeric_imputed_df[CATEGORICAL_COLUMNS].copy()\n",
    "\n",
    "            patient_anno_features = pd.concat(\n",
    "                [missing_anno_features_df, patient_anno_features]\n",
    "            )\n",
    "            \n",
    "    if patient_anno_features is not None:\n",
    "        for col in patient_anno_features.columns:\n",
    "            patient_anno_features[col] = patient_anno_features[col].apply(\n",
    "                lambda v: 1 if v in DELETERIOUS_VALUES else 0\n",
    "            )\n",
    "\n",
    "        patient_anno_features.reset_index(inplace=True)\n",
    "        patient_anno_features[\"gene\"] = patient_anno_features.input.apply(\n",
    "            lambda gene_mut: gene_mut.split(\" \")[0]\n",
    "        )\n",
    "    return patient_anno_features"
   ]
  },
  {
   "cell_type": "code",
   "execution_count": null,
   "id": "d97353c2",
   "metadata": {},
   "outputs": [],
   "source": [
    "tcga_mutations_filtered"
   ]
  },
  {
   "cell_type": "code",
   "execution_count": null,
   "id": "b4fc7788",
   "metadata": {
    "scrolled": true,
    "tags": []
   },
   "outputs": [],
   "source": [
    "# %%notify\n",
    "\n",
    "# futures = []\n",
    "anno_features_combined = pd.DataFrame()\n",
    "for patient_id in tcga_mutations_filtered.submitter_id.unique():\n",
    "    filtered_df = tcga_mutations_filtered[\n",
    "        tcga_mutations_filtered.submitter_id == submitter_id\n",
    "    ]\n",
    "    point_mutations = list(filtered_df.point_mutation.values)\n",
    "    res = construct_anno_features_xon17_gpd(patient_id, point_mutations, False)\n",
    "    anno_features_combined = pd.concat([anno_features_combined, res], ignore_index = True)\n",
    "#     future = client.submit(construct_anno_features_xon17_gpd, patient_id, point_mutations, False)\n",
    "#     futures.append(future)\n",
    "\n",
    "# anno_features_combined = client.gather(futures, errors=\"skip\")\n",
    "# client.shutdown()"
   ]
  },
  {
   "cell_type": "code",
   "execution_count": null,
   "id": "1c13cadc",
   "metadata": {},
   "outputs": [],
   "source": [
    "anno_features_combined"
   ]
  },
  {
   "cell_type": "code",
   "execution_count": null,
   "id": "3c1e4366-6b06-422b-9c22-130303ddb982",
   "metadata": {
    "execution": {
     "iopub.execute_input": "2022-09-26T01:37:19.119095Z",
     "iopub.status.busy": "2022-09-26T01:37:19.118753Z",
     "iopub.status.idle": "2022-09-26T01:37:19.615142Z",
     "shell.execute_reply": "2022-09-26T01:37:19.614188Z",
     "shell.execute_reply.started": "2022-09-26T01:37:19.119073Z"
    },
    "tags": []
   },
   "outputs": [],
   "source": [
    "agg_anno_features_combined_df = anno_features_combined#pd.concat(anno_features_combined).reset_index()\n",
    "agg_anno_features_combined_df.set_index(\"input\", inplace=True)\n",
    "agg_anno_features_combined_df"
   ]
  },
  {
   "cell_type": "code",
   "execution_count": null,
   "id": "208f9689",
   "metadata": {},
   "outputs": [],
   "source": [
    "# HERE!! - Now merge with original and save\n",
    "merged_1 = pd.merge(tcga_mutations_filtered, agg_anno_features_combined_df.reset_index(), left_on = \"point_mutation\", right_on=\"input\", how=\"left\")\n",
    "merged_1"
   ]
  },
  {
   "cell_type": "code",
   "execution_count": null,
   "id": "667fe6f4",
   "metadata": {},
   "outputs": [],
   "source": [
    "merged_1.drop(\"input\", axis = 1, inplace=True)\n",
    "merged_1.isna().sum()"
   ]
  },
  {
   "cell_type": "code",
   "execution_count": null,
   "id": "6fc963f8",
   "metadata": {},
   "outputs": [],
   "source": [
    "# For those point mutations without annotations\n",
    "merged_1.fillna(0, inplace=True)"
   ]
  },
  {
   "cell_type": "code",
   "execution_count": null,
   "id": "a0c44bae",
   "metadata": {},
   "outputs": [],
   "source": [
    "merged_1[\"gene\"] = merged_1[\"point_mutation\"].apply(lambda x: x.split(\" \")[0])"
   ]
  },
  {
   "cell_type": "code",
   "execution_count": null,
   "id": "5c8673c4",
   "metadata": {},
   "outputs": [],
   "source": [
    "merged_1[\"gene\"].value_counts()"
   ]
  },
  {
   "cell_type": "code",
   "execution_count": null,
   "id": "f8de2eb5",
   "metadata": {},
   "outputs": [],
   "source": [
    "merged_1[\"1plusxon17_score\"] = 1 + merged_1[CATEGORICAL_COLUMNS].sum(axis=1)/17\n",
    "merged_1"
   ]
  },
  {
   "cell_type": "markdown",
   "id": "0973cb8e",
   "metadata": {},
   "source": [
    "### Output: Xon17 annotation"
   ]
  },
  {
   "cell_type": "code",
   "execution_count": null,
   "id": "7e647050",
   "metadata": {},
   "outputs": [],
   "source": [
    "patient_gene_matrix_xon17 = merged_1.pivot_table(index=\"submitter_id\", columns=\"gene\", values=\"1plusxon17_score\", aggfunc=\"max\")\n",
    "patient_gene_matrix_xon17.fillna(0, inplace=True)\n",
    "patient_gene_matrix_xon17"
   ]
  },
  {
   "cell_type": "code",
   "execution_count": null,
   "id": "33f8bf0d",
   "metadata": {},
   "outputs": [],
   "source": [
    "for g in GENES_324:\n",
    "    if g not in patient_gene_matrix_xon17.columns:\n",
    "        patient_gene_matrix_xon17[g] = 0\n",
    "patient_gene_matrix_xon17.shape"
   ]
  },
  {
   "cell_type": "code",
   "execution_count": null,
   "id": "3c0087eb",
   "metadata": {},
   "outputs": [],
   "source": [
    "patient_gene_matrix_xon17[GENES_324].reset_index().to_csv(\"../data/processed/tcga_anno_features_xon17.csv\", index=False)"
   ]
  },
  {
   "cell_type": "code",
   "execution_count": null,
   "id": "637e1074",
   "metadata": {},
   "outputs": [],
   "source": [
    "patient_gene_matrix_xon17 = pd.read_csv(\"../data/processed/tcga_anno_features_xon17.csv\", index_col = 0)\n",
    "patient_gene_matrix_xon17"
   ]
  },
  {
   "cell_type": "markdown",
   "id": "30b99355-8b99-46d3-a218-7abeb7ef33dc",
   "metadata": {},
   "source": [
    "### Annovar annotation"
   ]
  },
  {
   "cell_type": "code",
   "execution_count": null,
   "id": "af5ca113",
   "metadata": {
    "scrolled": true
   },
   "outputs": [],
   "source": [
    "annotated_df = pd.DataFrame(columns=['input', 'sift_pred', 'sift4g_pred', 'lrt_pred', 'mutationtaster_pred',\n",
    "       'mutationassessor_pred', 'fathmm_pred', 'provean_pred', 'metasvm_pred',\n",
    "       'm_cap_pred', 'primateai_pred', 'deogen2_pred', 'bayesdel_addaf_pred',\n",
    "       'bayesdel_noaf_pred', 'clinpred_pred', 'list_s2_pred',\n",
    "       'fathmm_mkl_coding_pred', 'fathmm_xf_coding_pred', 'gene'])\n",
    "for submitter_id in tcga_mutations_filtered.submitter_id.unique():\n",
    "    filtered_df = tcga_mutations_filtered[\n",
    "        tcga_mutations_filtered.submitter_id == submitter_id\n",
    "    ]\n",
    "    point_mutations = list(filtered_df.point_mutation.values)\n",
    "    _, annot_df = construct_anno_features_xon17(submitter_id, point_mutations, False)\n",
    "    annotated_df = pd.concat([annotated_df, annot_df])"
   ]
  },
  {
   "cell_type": "code",
   "execution_count": null,
   "id": "0a57f951",
   "metadata": {},
   "outputs": [],
   "source": [
    "annotated_df.head()"
   ]
  },
  {
   "cell_type": "code",
   "execution_count": null,
   "id": "310f618d",
   "metadata": {},
   "outputs": [],
   "source": [
    "annotated_df.shape"
   ]
  },
  {
   "cell_type": "code",
   "execution_count": null,
   "id": "b353fff0",
   "metadata": {},
   "outputs": [],
   "source": [
    "# annotated_df.to_csv(\"../data/processed/anno_features_per_mutation_tcga.csv\")"
   ]
  },
  {
   "cell_type": "markdown",
   "id": "1efb35da",
   "metadata": {},
   "source": [
    "#### Clinvar annotations"
   ]
  },
  {
   "cell_type": "code",
   "execution_count": null,
   "id": "d6004925",
   "metadata": {},
   "outputs": [],
   "source": [
    "# Also get Clinvar annotations for these mutations\n",
    "annotated_df = pd.read_csv(\"../data/processed/anno_features_per_mutation_tcga.csv\", index_col = 0)\n",
    "annotated_df"
   ]
  },
  {
   "cell_type": "code",
   "execution_count": null,
   "id": "0eff345a",
   "metadata": {},
   "outputs": [],
   "source": [
    "ANNOTATION_SCRIPT_PATH_CLINVAR = \"../script/goAAtoGv2_clinvar.sh\""
   ]
  },
  {
   "cell_type": "code",
   "execution_count": null,
   "id": "d7c3875d",
   "metadata": {},
   "outputs": [],
   "source": [
    "results = []\n",
    "for mutation in list(annotated_df[\"input\"]):\n",
    "    try:\n",
    "        # Run annotation script within a temp file and extract features as DataFrame\n",
    "        with tempfile.TemporaryDirectory() as tmpdirname:\n",
    "            input_file_path = tmpdirname + \"anno_input.txt\"\n",
    "            with open(input_file_path, \"w+\") as input_file:\n",
    "                mutation_cleaned = [part for part in mutation.split(\" \") if part]\n",
    "                input_file.write(\":p.\".join(mutation_cleaned))\n",
    "                input_file.write(\"\\n\")\n",
    "\n",
    "            # Execute script\n",
    "            cmd = \"bash {0} {1}\".format(ANNOTATION_SCRIPT_PATH_CLINVAR, input_file_path)\n",
    "\n",
    "            logging.info(f\"Executing command {cmd}\")\n",
    "            subprocess.call(cmd, shell=True, executable=\"/bin/bash\")\n",
    "            out_file_path = f\"{input_file_path}.annot.hg38_finalannot.txt\"\n",
    "            res = pd.read_table(out_file_path)\n",
    "    # Some inputs lead to errors, such as \"PTEN loss\" - ignore and continue processing\n",
    "    except Exception as e:\n",
    "        logging.error(\n",
    "            f\"Encountered error while processing mutation {mutation} - {e}\"\n",
    "        )\n",
    "        continue\n",
    "    res[\"input\"] = mutation\n",
    "    res = res[~res.duplicated()]\n",
    "    results.append(res)\n",
    "clinvar_annot_df = pd.concat(results)\n",
    "clinvar_annot_df.set_index([\"input\"], inplace=True)\n",
    "clinvar_annot_df.drop(columns=[\"Otherinfo1\"], inplace=True)"
   ]
  },
  {
   "cell_type": "code",
   "execution_count": null,
   "id": "887ef837",
   "metadata": {},
   "outputs": [],
   "source": [
    "clinvar_annot_df"
   ]
  },
  {
   "cell_type": "code",
   "execution_count": null,
   "id": "5016e646",
   "metadata": {},
   "outputs": [],
   "source": [
    "clinvar_annot_df.CLNSIG.value_counts()"
   ]
  },
  {
   "cell_type": "code",
   "execution_count": null,
   "id": "8bea2c7a",
   "metadata": {},
   "outputs": [],
   "source": [
    "clinvar_annot_df.to_csv(\"../data/processed/clinvar_anno_features_per_mutation_tcga.csv\")"
   ]
  },
  {
   "cell_type": "markdown",
   "id": "d4d65ad4",
   "metadata": {},
   "source": [
    "### Variant Annotations from GPD"
   ]
  },
  {
   "cell_type": "code",
   "execution_count": null,
   "id": "30a1f60d",
   "metadata": {},
   "outputs": [],
   "source": [
    "merged_1 = pd.read_csv(\"../data/processed/tcga_annovar_gpd_annot_per_patient_per_mutation.csv\", index_col = 0)\n",
    "merged_1"
   ]
  },
  {
   "cell_type": "code",
   "execution_count": null,
   "id": "18cffbed",
   "metadata": {},
   "outputs": [],
   "source": [
    "# Load intermediate GPD files for NPC and PC"
   ]
  },
  {
   "cell_type": "code",
   "execution_count": null,
   "id": "355f55d1",
   "metadata": {},
   "outputs": [],
   "source": [
    "npc_mutations = pd.read_csv(\"../data/processed/tcga_gpd_results/tcga_mutation_npc.tsv\", sep=\"\\t\")\n",
    "npc_mutations"
   ]
  },
  {
   "cell_type": "code",
   "execution_count": null,
   "id": "e00e2905",
   "metadata": {},
   "outputs": [],
   "source": [
    "npc_mutations[\"HGVSp\"].value_counts(dropna=False)"
   ]
  },
  {
   "cell_type": "code",
   "execution_count": null,
   "id": "0fbd6899",
   "metadata": {},
   "outputs": [],
   "source": [
    "npc_mutations[\"Variant_Classification\"].value_counts(dropna=False)"
   ]
  },
  {
   "cell_type": "code",
   "execution_count": null,
   "id": "3055a683",
   "metadata": {},
   "outputs": [],
   "source": [
    "pc_mutations = pd.read_csv(\"../data/processed/tcga_gpd_results/tcga_mutation_pc_pos.tsv\", sep=\"\\t\")\n",
    "pc_mutations"
   ]
  },
  {
   "cell_type": "code",
   "execution_count": null,
   "id": "7b0ae08d",
   "metadata": {},
   "outputs": [],
   "source": [
    "pc_mutations[\"Variant_Classification\"].value_counts(dropna=False)"
   ]
  },
  {
   "cell_type": "code",
   "execution_count": null,
   "id": "ca8fdb6f",
   "metadata": {},
   "outputs": [],
   "source": [
    "# To get PIU vs LU, we used the locations in ptm_pfam_combine.csv which is used in the GPD implementation\n",
    "ptm_pfam_df = pd.read_csv(\"/data/ajayago/druid/datasets/ptm_pfam_combine.csv\", index_col = 0)\n",
    "ptm_pfam_df"
   ]
  },
  {
   "cell_type": "code",
   "execution_count": null,
   "id": "d67aa256",
   "metadata": {},
   "outputs": [],
   "source": [
    "GPD_unit = []\n",
    "for idx, row in pc_mutations.iterrows():\n",
    "    subset_ptm = ptm_pfam_df[ptm_pfam_df.gene_id == row[\"Gene\"]]\n",
    "    x = \"LU\"\n",
    "    for idx, r in subset_ptm.iterrows():\n",
    "        if (row[\"prot_start_pos\"] >= r[\"start_position\"]) & (row[\"prot_start_pos\"] <= r[\"end_position\"]) \\\n",
    "    | (row[\"prot_end_pos\"] >= r[\"start_position\"]) & (row[\"prot_end_pos\"] <= r[\"end_position\"]):\n",
    "            x = \"PIU\"\n",
    "            break\n",
    "    GPD_unit.append(x)\n",
    "\n",
    "pc_mutations[\"GPD_unit\"] = GPD_unit"
   ]
  },
  {
   "cell_type": "code",
   "execution_count": null,
   "id": "501d9ba8",
   "metadata": {},
   "outputs": [],
   "source": [
    "pc_mutations[\"GPD_unit\"].value_counts()"
   ]
  },
  {
   "cell_type": "code",
   "execution_count": null,
   "id": "cfa208e9",
   "metadata": {},
   "outputs": [],
   "source": [
    "piu_mutations = set(pc_mutations[pc_mutations[\"GPD_unit\"] == \"PIU\"][\"Hugo_Symbol\"] + \" \" + pc_mutations[pc_mutations[\"GPD_unit\"] == \"PIU\"][\"HGVSp\"].apply(lambda x: x.split(\"p.\")[1]))\n",
    "lu_mutations = set(pc_mutations[pc_mutations[\"GPD_unit\"] == \"LU\"][\"Hugo_Symbol\"] + \" \" + pc_mutations[pc_mutations[\"GPD_unit\"] == \"LU\"][\"HGVSp\"].apply(lambda x: x.split(\"p.\")[1]))\n",
    "len(piu_mutations), len(lu_mutations)"
   ]
  },
  {
   "cell_type": "code",
   "execution_count": null,
   "id": "3bc5c1f2",
   "metadata": {},
   "outputs": [],
   "source": [
    "# Map each point mutation to PIU/LU or NCU\n",
    "GPD_unit_merged1 = []\n",
    "for idx, row in merged_1.iterrows():\n",
    "    if row[\"point_mutation\"] in (piu_mutations):\n",
    "        GPD_unit_merged1.append(\"PIU\")\n",
    "    elif row[\"point_mutation\"] in (lu_mutations):\n",
    "        GPD_unit_merged1.append(\"LU\")\n",
    "    else:\n",
    "        GPD_unit_merged1.append(\"NCU\")"
   ]
  },
  {
   "cell_type": "code",
   "execution_count": null,
   "id": "efff8c74",
   "metadata": {},
   "outputs": [],
   "source": [
    "merged_1[\"GPD_unit\"] = GPD_unit_merged1"
   ]
  },
  {
   "cell_type": "code",
   "execution_count": null,
   "id": "c0deda8c",
   "metadata": {},
   "outputs": [],
   "source": [
    "merged_1"
   ]
  },
  {
   "cell_type": "markdown",
   "id": "d3ed927b",
   "metadata": {},
   "source": [
    "### Output: GPD + Annovar annotation"
   ]
  },
  {
   "cell_type": "code",
   "execution_count": null,
   "id": "286e9eba",
   "metadata": {},
   "outputs": [],
   "source": [
    "patient_gene_matrix_xon17_piu = merged_1[merged_1.GPD_unit == \"PIU\"].pivot_table(index=\"submitter_id\", columns=\"gene\", values=\"1plusxon17_score\", aggfunc=\"max\")\n",
    "patient_gene_matrix_xon17_piu.fillna(0, inplace=True)\n",
    "for g in genes_324:\n",
    "    if g not in patient_gene_matrix_xon17_piu.columns:\n",
    "        patient_gene_matrix_xon17_piu[g] = 0\n",
    "\n",
    "patient_gene_matrix_xon17_piu"
   ]
  },
  {
   "cell_type": "code",
   "execution_count": null,
   "id": "4a3c9d6a",
   "metadata": {},
   "outputs": [],
   "source": [
    "patient_gene_matrix_xon17_lu = merged_1[merged_1.GPD_unit == \"LU\"].pivot_table(index=\"submitter_id\", columns=\"gene\", values=\"1plusxon17_score\", aggfunc=\"max\")\n",
    "patient_gene_matrix_xon17_lu.fillna(0, inplace=True)\n",
    "for g in genes_324:\n",
    "    if g not in patient_gene_matrix_xon17_lu.columns:\n",
    "        patient_gene_matrix_xon17_lu[g] = 0\n",
    "patient_gene_matrix_xon17_lu"
   ]
  },
  {
   "cell_type": "code",
   "execution_count": null,
   "id": "e78ca37c",
   "metadata": {},
   "outputs": [],
   "source": [
    "patient_gene_matrix_xon17_ncu = merged_1[merged_1.GPD_unit == \"NCU\"].pivot_table(index=\"submitter_id\", columns=\"gene\", values=\"1plusxon17_score\", aggfunc=\"max\")\n",
    "patient_gene_matrix_xon17_ncu.fillna(0, inplace=True)\n",
    "for g in genes_324:\n",
    "    if g not in patient_gene_matrix_xon17_ncu.columns:\n",
    "        patient_gene_matrix_xon17_ncu[g] = 0\n",
    "patient_gene_matrix_xon17_ncu"
   ]
  },
  {
   "cell_type": "code",
   "execution_count": null,
   "id": "38d0e9b4",
   "metadata": {},
   "outputs": [],
   "source": [
    "patient_gene_matrix_xon17_piu.shape, patient_gene_matrix_xon17_lu.shape, patient_gene_matrix_xon17_ncu.shape"
   ]
  },
  {
   "cell_type": "code",
   "execution_count": null,
   "id": "9150a65b",
   "metadata": {},
   "outputs": [],
   "source": [
    "len(set(patient_gene_matrix_xon17.index) - set(patient_gene_matrix_xon17_piu.index))"
   ]
  },
  {
   "cell_type": "code",
   "execution_count": null,
   "id": "d2443870",
   "metadata": {},
   "outputs": [],
   "source": [
    "# Add in missing patient IDs in each matrix\n",
    "patient_gene_matrix_xon17_piu.reset_index(inplace=True)\n",
    "patient_gene_matrix_xon17_lu.reset_index(inplace=True)\n",
    "patient_gene_matrix_xon17_ncu.reset_index(inplace=True)\n",
    "for t in set(patient_gene_matrix_xon17.index) - set(patient_gene_matrix_xon17_piu.submitter_id):\n",
    "    patient_gene_matrix_xon17_piu = (patient_gene_matrix_xon17_piu.append({\"submitter_id\": t}, ignore_index=True))\n",
    "patient_gene_matrix_xon17_piu.set_index(\"submitter_id\", inplace=True)    \n",
    "for t in set(patient_gene_matrix_xon17.index) - set(patient_gene_matrix_xon17_lu.submitter_id):\n",
    "    patient_gene_matrix_xon17_lu = (patient_gene_matrix_xon17_lu.append({\"submitter_id\": t}, ignore_index=True))\n",
    "patient_gene_matrix_xon17_lu.set_index(\"submitter_id\", inplace=True)\n",
    "for t in set(patient_gene_matrix_xon17.index) - set(patient_gene_matrix_xon17_ncu.submitter_id):\n",
    "    patient_gene_matrix_xon17_ncu = (patient_gene_matrix_xon17_ncu.append({\"submitter_id\": t}, ignore_index=True))\n",
    "patient_gene_matrix_xon17_ncu.set_index(\"submitter_id\", inplace=True)  "
   ]
  },
  {
   "cell_type": "code",
   "execution_count": null,
   "id": "ea12e517",
   "metadata": {},
   "outputs": [],
   "source": [
    "patient_gene_matrix_xon17_piu.shape, patient_gene_matrix_xon17_lu.shape, patient_gene_matrix_xon17_ncu.shape"
   ]
  },
  {
   "cell_type": "code",
   "execution_count": null,
   "id": "9b0d4790",
   "metadata": {},
   "outputs": [],
   "source": [
    "patient_gene_matrix_xon17_piu.fillna(0, inplace=True)\n",
    "patient_gene_matrix_xon17_lu.fillna(0, inplace=True)\n",
    "patient_gene_matrix_xon17_ncu.fillna(0, inplace=True)"
   ]
  },
  {
   "cell_type": "code",
   "execution_count": null,
   "id": "a93180b2",
   "metadata": {},
   "outputs": [],
   "source": [
    "patient_gene_matrix_xon17_piu.loc[patient_gene_matrix_xon17.index][genes_324].to_csv(\"../data/processed/xon17_gpd_annotations/tcga_piu_annotated_df.csv\")"
   ]
  },
  {
   "cell_type": "code",
   "execution_count": null,
   "id": "ccff9834",
   "metadata": {},
   "outputs": [],
   "source": [
    "patient_gene_matrix_xon17_lu.loc[patient_gene_matrix_xon17.index][genes_324].to_csv(\"../data/processed/xon17_gpd_annotations/tcga_lu_annotated_df.csv\")"
   ]
  },
  {
   "cell_type": "code",
   "execution_count": null,
   "id": "a0635cab",
   "metadata": {},
   "outputs": [],
   "source": [
    "patient_gene_matrix_xon17_ncu.loc[patient_gene_matrix_xon17.index][genes_324].to_csv(\"../data/processed/xon17_gpd_annotations/tcga_ncu_annotated_df.csv\")"
   ]
  },
  {
   "cell_type": "code",
   "execution_count": null,
   "id": "532771f0",
   "metadata": {},
   "outputs": [],
   "source": [
    "merged_1.to_csv(\"../data/processed/tcga_annovar_gpd_annot_per_patient_per_mutation.csv\",)"
   ]
  },
  {
   "cell_type": "code",
   "execution_count": null,
   "id": "8937cd95",
   "metadata": {},
   "outputs": [],
   "source": [
    "merged_1"
   ]
  },
  {
   "cell_type": "markdown",
   "id": "d4ea7a90",
   "metadata": {},
   "source": [
    "#### Combine Clinvar annotations, GPD and Annovar annotations"
   ]
  },
  {
   "cell_type": "code",
   "execution_count": null,
   "id": "a4e530c0",
   "metadata": {},
   "outputs": [],
   "source": [
    "merged_clinvar_df = pd.merge(merged_1, clinvar_annot_df.reset_index(), left_on=\"point_mutation\", right_on=\"input\").groupby(\"input\").aggregate(max)\n",
    "merged_clinvar_df"
   ]
  },
  {
   "cell_type": "code",
   "execution_count": null,
   "id": "dfa927dc",
   "metadata": {},
   "outputs": [],
   "source": [
    "merged_clinvar_df.groupby([\"GPD_unit\", \"CLNSIG\"]).aggregate(\"count\")"
   ]
  },
  {
   "cell_type": "code",
   "execution_count": null,
   "id": "3408b69c",
   "metadata": {},
   "outputs": [],
   "source": []
  }
 ],
 "metadata": {
  "kernelspec": {
   "display_name": "base2",
   "language": "python",
   "name": "base2"
  },
  "language_info": {
   "codemirror_mode": {
    "name": "ipython",
    "version": 3
   },
   "file_extension": ".py",
   "mimetype": "text/x-python",
   "name": "python",
   "nbconvert_exporter": "python",
   "pygments_lexer": "ipython3",
   "version": "3.9.12"
  }
 },
 "nbformat": 4,
 "nbformat_minor": 5
}
