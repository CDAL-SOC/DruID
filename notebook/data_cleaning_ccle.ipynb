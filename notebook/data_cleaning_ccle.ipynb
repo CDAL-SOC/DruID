{
 "cells": [
  {
   "cell_type": "markdown",
   "id": "664e3a5f",
   "metadata": {},
   "source": [
    "This notebook generates the xon17 annotations, i.e. each gene is annotated as follows:\n",
    "* 0 if the gene has no mutation\n",
    "* 1 if the gene is mutated but has no deleterious mutations\n",
    "* 1 + (x/17) if the mutation is deleterious according to `x` algorithms of Annovar. In reality first a sum over all 17 algorithms for each protein mutation is computed, followed by an average over the entire gene across all protein mutations."
   ]
  },
  {
   "cell_type": "code",
   "execution_count": null,
   "id": "670d3b28-f4a2-47f3-95d4-6044bade9c8c",
   "metadata": {
    "execution": {
     "iopub.execute_input": "2022-09-20T07:53:06.680911Z",
     "iopub.status.busy": "2022-09-20T07:53:06.680248Z",
     "iopub.status.idle": "2022-09-20T07:53:06.700531Z",
     "shell.execute_reply": "2022-09-20T07:53:06.699344Z",
     "shell.execute_reply.started": "2022-09-20T07:53:06.680766Z"
    },
    "tags": []
   },
   "outputs": [],
   "source": [
    "import sys\n",
    "\n",
    "sys.path.append(\"../../vae_zinb_reprn/\")\n",
    "sys.path.append(\"../src/\")"
   ]
  },
  {
   "cell_type": "code",
   "execution_count": null,
   "id": "325eca0a-625d-4b94-a66f-696d6f7b54e2",
   "metadata": {
    "execution": {
     "iopub.execute_input": "2022-09-20T07:53:06.703872Z",
     "iopub.status.busy": "2022-09-20T07:53:06.703188Z",
     "iopub.status.idle": "2022-09-20T07:53:07.357454Z",
     "shell.execute_reply": "2022-09-20T07:53:07.356609Z",
     "shell.execute_reply.started": "2022-09-20T07:53:06.703820Z"
    },
    "tags": []
   },
   "outputs": [],
   "source": [
    "import numpy as np\n",
    "import pandas as pd\n",
    "\n",
    "import datetime\n",
    "import logging\n",
    "import os\n",
    "import time\n",
    "from functools import cached_property\n",
    "\n",
    "from sklearn.metrics import average_precision_score, ndcg_score, roc_auc_score"
   ]
  },
  {
   "cell_type": "code",
   "execution_count": null,
   "id": "fe9f033a-c7ef-497a-82c7-a4760b4f6ab2",
   "metadata": {
    "execution": {
     "iopub.execute_input": "2022-09-20T07:53:07.359027Z",
     "iopub.status.busy": "2022-09-20T07:53:07.358760Z",
     "iopub.status.idle": "2022-09-20T07:53:07.393306Z",
     "shell.execute_reply": "2022-09-20T07:53:07.392715Z",
     "shell.execute_reply.started": "2022-09-20T07:53:07.359008Z"
    },
    "tags": []
   },
   "outputs": [],
   "source": [
    "from data import (\n",
    "    construct_anno_features,\n",
    "    construct_raw_mutation_features,\n",
    "    construct_raw_cnv_features,\n",
    "    canonicalize_mutations,\n",
    "    ALIAS_TO_CANONICAL_NAME_MAP,\n",
    "    construct_anno_features_xon17\n",
    ")\n",
    "\n",
    "genes_324 = pd.read_csv(\"../../data/druid_1.3_data/gene2ind.txt\", header=None)[\n",
    "    0\n",
    "].tolist()"
   ]
  },
  {
   "cell_type": "code",
   "execution_count": null,
   "id": "96a646f9-f559-4af8-8e7b-d047a1792353",
   "metadata": {
    "execution": {
     "iopub.execute_input": "2022-09-20T07:53:07.395287Z",
     "iopub.status.busy": "2022-09-20T07:53:07.394977Z",
     "iopub.status.idle": "2022-09-20T07:53:07.869318Z",
     "shell.execute_reply": "2022-09-20T07:53:07.868625Z",
     "shell.execute_reply.started": "2022-09-20T07:53:07.395270Z"
    },
    "tags": []
   },
   "outputs": [],
   "source": [
    "%matplotlib inline"
   ]
  },
  {
   "cell_type": "code",
   "execution_count": null,
   "id": "f29a845e-7276-4911-8f47-19ffeb6ccb62",
   "metadata": {
    "execution": {
     "iopub.execute_input": "2022-09-20T07:53:07.870403Z",
     "iopub.status.busy": "2022-09-20T07:53:07.870138Z",
     "iopub.status.idle": "2022-09-20T07:53:07.875169Z",
     "shell.execute_reply": "2022-09-20T07:53:07.874281Z",
     "shell.execute_reply.started": "2022-09-20T07:53:07.870384Z"
    },
    "tags": []
   },
   "outputs": [],
   "source": [
    "# Set default logging level\n",
    "# Change to logging.INFO to see related output\n",
    "logging.basicConfig(level=logging.WARNING, force=True)\n",
    "pd.set_option(\"display.max_columns\", 20)"
   ]
  },
  {
   "cell_type": "code",
   "execution_count": null,
   "id": "76d5fb72-0217-4e56-a490-55a744166804",
   "metadata": {
    "execution": {
     "iopub.execute_input": "2022-09-20T07:53:07.876253Z",
     "iopub.status.busy": "2022-09-20T07:53:07.876066Z",
     "iopub.status.idle": "2022-09-20T07:53:17.052896Z",
     "shell.execute_reply": "2022-09-20T07:53:17.051856Z",
     "shell.execute_reply.started": "2022-09-20T07:53:07.876236Z"
    },
    "tags": []
   },
   "outputs": [],
   "source": [
    "df = pd.read_table(\n",
    "    \"../data/raw/CCLE.hg38.DepMap21Q3.annot.subset.cols.txt\", low_memory=False,\n",
    ")\n",
    "print(df.shape)\n",
    "df.head()"
   ]
  },
  {
   "cell_type": "code",
   "execution_count": null,
   "id": "8c4f8e11-a547-4872-bb01-e4b049c001e3",
   "metadata": {
    "execution": {
     "iopub.execute_input": "2022-09-20T08:47:26.227317Z",
     "iopub.status.busy": "2022-09-20T08:47:26.226620Z",
     "iopub.status.idle": "2022-09-20T08:47:34.212324Z",
     "shell.execute_reply": "2022-09-20T08:47:34.210784Z",
     "shell.execute_reply.started": "2022-09-20T08:47:26.227263Z"
    },
    "tags": []
   },
   "outputs": [],
   "source": [
    "ccle_mutations_df = pd.read_csv(\"../data/raw/CCLE_mutations.csv\", low_memory=False,)\n",
    "print(ccle_mutations_df.shape)\n",
    "ccle_mutations_df.head()"
   ]
  },
  {
   "cell_type": "code",
   "execution_count": null,
   "id": "aeebae92-142f-46f6-9e88-575b0a4070c9",
   "metadata": {
    "execution": {
     "iopub.execute_input": "2022-09-20T08:36:16.244520Z",
     "iopub.status.busy": "2022-09-20T08:36:16.243827Z",
     "iopub.status.idle": "2022-09-20T08:36:56.982137Z",
     "shell.execute_reply": "2022-09-20T08:36:56.981345Z",
     "shell.execute_reply.started": "2022-09-20T08:36:16.244464Z"
    },
    "tags": []
   },
   "outputs": [],
   "source": [
    "# ccle_cnv_df = pd.read_csv(\n",
    "#     \"../data/raw/CCLE_cn_segments_annotated_21Q3.txt\", delimiter=\"\\t\"\n",
    "# )\n",
    "# ccle_cnv_df.rename(columns={\"DepMap-ID\": \"depmap_id\"}, inplace=True)\n",
    "# print(ccle_cnv_df.shape)\n",
    "# ccle_cnv_df.head()"
   ]
  },
  {
   "cell_type": "code",
   "execution_count": null,
   "id": "6f4c40ec-bc3d-46e3-b2fc-fbde79ef4a9e",
   "metadata": {
    "execution": {
     "iopub.execute_input": "2022-09-20T08:32:43.043793Z",
     "iopub.status.busy": "2022-09-20T08:32:43.043188Z",
     "iopub.status.idle": "2022-09-20T08:33:37.857543Z",
     "shell.execute_reply": "2022-09-20T08:33:37.856842Z",
     "shell.execute_reply.started": "2022-09-20T08:32:43.043743Z"
    },
    "tags": []
   },
   "outputs": [],
   "source": [
    "# ccle_cnv_pvt = pd.pivot_table(\n",
    "#     ccle_cnv_df, \"status\", index=[\"depmap_id\"], columns=[\"genesymbol\"], aggfunc=\"first\"\n",
    "# )\n",
    "\n",
    "# #\n",
    "# # ccle_cnv_pvt = ccle_cnv_pvt.replace({'U':0, '+':1, '-':-1})\n",
    "\n",
    "# # Binary\n",
    "# ccle_cnv_pvt = ccle_cnv_pvt.replace({\"U\": 0, \"+\": 1, \"-\": 1})\n",
    "# print(\n",
    "#     \"number of intersecting genes:\",\n",
    "#     np.intersect1d(ccle_cnv_pvt.columns.tolist(), genes_324).size,\n",
    "# )\n",
    "\n",
    "# missing_columns = np.setdiff1d(genes_324, ccle_cnv_pvt.columns.tolist())\n",
    "# print(\n",
    "#     \"genes that are missing from depmap: \",\n",
    "#     missing_columns,\n",
    "# )"
   ]
  },
  {
   "cell_type": "code",
   "execution_count": null,
   "id": "6b8871f2-d97b-45f1-be7e-7ae0ad9c7910",
   "metadata": {
    "execution": {
     "iopub.execute_input": "2022-09-20T08:33:37.859146Z",
     "iopub.status.busy": "2022-09-20T08:33:37.858955Z",
     "iopub.status.idle": "2022-09-20T08:33:37.867454Z",
     "shell.execute_reply": "2022-09-20T08:33:37.866918Z",
     "shell.execute_reply.started": "2022-09-20T08:33:37.859129Z"
    },
    "scrolled": true,
    "tags": []
   },
   "outputs": [],
   "source": [
    "# ccle_cnv_pvt.columns = [col.upper() for col in ccle_cnv_pvt.columns]"
   ]
  },
  {
   "cell_type": "code",
   "execution_count": null,
   "id": "da76bad4-cf19-4d9d-82d8-3b5d180f59b8",
   "metadata": {
    "execution": {
     "iopub.execute_input": "2022-09-20T08:33:42.685187Z",
     "iopub.status.busy": "2022-09-20T08:33:42.684451Z",
     "iopub.status.idle": "2022-09-20T08:33:43.172284Z",
     "shell.execute_reply": "2022-09-20T08:33:43.171590Z",
     "shell.execute_reply.started": "2022-09-20T08:33:42.685130Z"
    },
    "tags": []
   },
   "outputs": [],
   "source": [
    "# # mapping 'missing genes' to synonyms {ccle:324genes}\n",
    "# # cnv_dict = {\n",
    "# #     \"GID4\": \"C17ORF39\",\n",
    "# #     \"AMER1\": \"FAM123B\",\n",
    "# #     \"KMT2A\": \"MLL\",\n",
    "# #     \"KMT2D\": \"MLL2\",\n",
    "# #     \"MYCL\": \"MYCL1\",\n",
    "# #     \"MRE11\": \"MRE11A\",\n",
    "# #     \"TENT5C\": \"FAM46C\",\n",
    "# #     \"PRKN\": \"PARK2\",\n",
    "# #     \"NSD2\": \"WHSC1\",\n",
    "# #     \"NSD3\": \"WHSC1L1\",\n",
    "# # }\n",
    "# # NOTE: use ALIAS_TO_CANONICAL_NAME_MAP instead of the above as it covers\n",
    "# # lot more aliases than this list\n",
    "\n",
    "# columns_to_rename = {\n",
    "#     k: v for k, v in ALIAS_TO_CANONICAL_NAME_MAP.items() if v in missing_columns\n",
    "# }\n",
    "# ccle_cnv_pvt_renamed = ccle_cnv_pvt.rename(columns=columns_to_rename)"
   ]
  },
  {
   "cell_type": "code",
   "execution_count": null,
   "id": "81406180-80e5-4a10-ae37-ce0b83df60d7",
   "metadata": {
    "execution": {
     "iopub.execute_input": "2022-09-20T08:33:43.174062Z",
     "iopub.status.busy": "2022-09-20T08:33:43.173731Z",
     "iopub.status.idle": "2022-09-20T08:33:43.197404Z",
     "shell.execute_reply": "2022-09-20T08:33:43.196371Z",
     "shell.execute_reply.started": "2022-09-20T08:33:43.174045Z"
    },
    "tags": []
   },
   "outputs": [],
   "source": [
    "# print(\n",
    "#     \"genes that are missing from depmap: \",\n",
    "#     np.setdiff1d(genes_324, ccle_cnv_pvt_renamed.columns.tolist()),\n",
    "# )"
   ]
  },
  {
   "cell_type": "code",
   "execution_count": null,
   "id": "48fa526d-5b5c-4b85-ad31-a507f29131a6",
   "metadata": {
    "execution": {
     "iopub.execute_input": "2022-09-20T08:33:46.957177Z",
     "iopub.status.busy": "2022-09-20T08:33:46.956348Z",
     "iopub.status.idle": "2022-09-20T08:33:46.998143Z",
     "shell.execute_reply": "2022-09-20T08:33:46.997380Z",
     "shell.execute_reply.started": "2022-09-20T08:33:46.957122Z"
    },
    "tags": []
   },
   "outputs": [],
   "source": [
    "# ccle_cnv_pvt_renamed[\"TERC\"] = 0\n",
    "# ccle_cnv_pvt_324 = ccle_cnv_pvt_renamed.loc[:, ccle_cnv_pvt_renamed.columns.isin(genes_324)].copy()"
   ]
  },
  {
   "cell_type": "code",
   "execution_count": null,
   "id": "59cb27ec-85f5-4f88-b789-b23477da89b0",
   "metadata": {
    "execution": {
     "iopub.execute_input": "2022-09-20T08:33:56.805631Z",
     "iopub.status.busy": "2022-09-20T08:33:56.804965Z",
     "iopub.status.idle": "2022-09-20T08:33:56.815413Z",
     "shell.execute_reply": "2022-09-20T08:33:56.814069Z",
     "shell.execute_reply.started": "2022-09-20T08:33:56.805576Z"
    },
    "tags": []
   },
   "outputs": [],
   "source": [
    "# ccle_cnv_pvt_324.shape"
   ]
  },
  {
   "cell_type": "code",
   "execution_count": null,
   "id": "5346c0b0-be3e-4515-8cdd-6561515877ef",
   "metadata": {
    "execution": {
     "iopub.execute_input": "2022-09-20T08:03:57.480488Z",
     "iopub.status.busy": "2022-09-20T08:03:57.479811Z",
     "iopub.status.idle": "2022-09-20T08:03:57.486635Z",
     "shell.execute_reply": "2022-09-20T08:03:57.485132Z",
     "shell.execute_reply.started": "2022-09-20T08:03:57.480433Z"
    },
    "tags": []
   },
   "outputs": [],
   "source": [
    "# for col in genes_324:\n",
    "#     if len(ccle_cnv_pvt_324[col].shape) > 1:\n",
    "#         print(col)"
   ]
  },
  {
   "cell_type": "code",
   "execution_count": null,
   "id": "8f470f87-dc14-4475-a541-56b8695214f3",
   "metadata": {
    "execution": {
     "iopub.execute_input": "2022-09-20T08:34:02.327467Z",
     "iopub.status.busy": "2022-09-20T08:34:02.326850Z",
     "iopub.status.idle": "2022-09-20T08:34:02.334553Z",
     "shell.execute_reply": "2022-09-20T08:34:02.333082Z",
     "shell.execute_reply.started": "2022-09-20T08:34:02.327415Z"
    },
    "tags": []
   },
   "outputs": [],
   "source": [
    "# duplicated_columns = [\n",
    "#     \"BRIP1\",\n",
    "#     \"CHEK2\",\n",
    "#     \"CXCR4\",\n",
    "#     \"DDR2\",\n",
    "#     \"ERCC4\",\n",
    "#     \"FANCA\",\n",
    "#     \"FBXW7\",\n",
    "#     \"FGFR1\",\n",
    "#     \"GNAQ\",\n",
    "#     \"HNF1A\",\n",
    "#     \"IRF4\",\n",
    "#     \"KDM5A\",\n",
    "#     \"MED12\",\n",
    "#     \"MEN1\",\n",
    "#     \"NFE2L2\",\n",
    "#     \"NKX2-1\",\n",
    "#     \"PTEN\",\n",
    "#     \"SOX9\",\n",
    "#     \"XPO1\",\n",
    "# ]\n",
    "\n",
    "# {k:v for k,v in ALIAS_TO_CANONICAL_NAME_MAP.items() if ((v in duplicated_columns)  and (k in ccle_cnv_pvt.columns))}"
   ]
  },
  {
   "cell_type": "code",
   "execution_count": null,
   "id": "4dd7b3c4-9756-4b7a-8f42-ffb2860fd65a",
   "metadata": {
    "execution": {
     "iopub.execute_input": "2022-09-20T08:34:06.724403Z",
     "iopub.status.busy": "2022-09-20T08:34:06.723729Z",
     "iopub.status.idle": "2022-09-20T08:34:07.259469Z",
     "shell.execute_reply": "2022-09-20T08:34:07.258796Z",
     "shell.execute_reply.started": "2022-09-20T08:34:06.724350Z"
    },
    "tags": []
   },
   "outputs": [],
   "source": [
    "# for col in ccle_cnv_pvt_324.columns:\n",
    "#     ccle_cnv_pvt_324.loc[:, col] = ccle_cnv_pvt_324[col].astype(np.integer)"
   ]
  },
  {
   "cell_type": "code",
   "execution_count": null,
   "id": "3554949a-4685-4e8c-917a-5d2dfbab9aaa",
   "metadata": {
    "execution": {
     "iopub.execute_input": "2022-09-20T08:34:08.815398Z",
     "iopub.status.busy": "2022-09-20T08:34:08.814754Z",
     "iopub.status.idle": "2022-09-20T08:34:08.853995Z",
     "shell.execute_reply": "2022-09-20T08:34:08.853335Z",
     "shell.execute_reply.started": "2022-09-20T08:34:08.815344Z"
    },
    "tags": []
   },
   "outputs": [],
   "source": [
    "# ccle_cnv_pvt_324"
   ]
  },
  {
   "cell_type": "markdown",
   "id": "a7969df7-9e87-4056-bf44-3e8ea9fbb222",
   "metadata": {},
   "source": [
    "## Sample validation"
   ]
  },
  {
   "cell_type": "code",
   "execution_count": null,
   "id": "4e202dba-45f2-4e81-9b54-cd550b2c3da9",
   "metadata": {
    "execution": {
     "iopub.execute_input": "2022-09-20T08:41:53.133017Z",
     "iopub.status.busy": "2022-09-20T08:41:53.132395Z",
     "iopub.status.idle": "2022-09-20T08:43:36.514136Z",
     "shell.execute_reply": "2022-09-20T08:43:36.512777Z",
     "shell.execute_reply.started": "2022-09-20T08:41:53.132980Z"
    },
    "tags": []
   },
   "outputs": [],
   "source": [
    "# ccle_cnv_df.genesymbol = ccle_cnv_df.genesymbol.replace(\n",
    "#     list(columns_to_rename.keys()), list(columns_to_rename.values())\n",
    "# )"
   ]
  },
  {
   "cell_type": "code",
   "execution_count": null,
   "id": "e6c17148-5074-48a8-bf85-83143007682b",
   "metadata": {
    "execution": {
     "iopub.execute_input": "2022-09-20T08:43:51.325175Z",
     "iopub.status.busy": "2022-09-20T08:43:51.324546Z",
     "iopub.status.idle": "2022-09-20T08:43:53.203363Z",
     "shell.execute_reply": "2022-09-20T08:43:53.202725Z",
     "shell.execute_reply.started": "2022-09-20T08:43:51.325122Z"
    },
    "tags": []
   },
   "outputs": [],
   "source": [
    "# unique_depmap_ids = ccle_cnv_pvt_324.index.get_level_values(0)\n",
    "# rand_patient_idx = np.random.randint(0, len(unique_depmap_ids))\n",
    "# depmap_id = unique_depmap_ids[rand_patient_idx]\n",
    "# temp_df = ccle_cnv_df[ccle_cnv_df.depmap_id == depmap_id]\n",
    "# display(temp_df[(temp_df.genesymbol.isin(genes_324)) & temp_df.status.isin([\"+\", \"-\"])])\n",
    "\n",
    "# ccle_cnv_pvt_324.columns[ccle_cnv_pvt_324.loc[depmap_id].values != 0]"
   ]
  },
  {
   "cell_type": "code",
   "execution_count": null,
   "id": "f16bedd2-3601-4ef1-9d5e-f07d7cf9a495",
   "metadata": {
    "execution": {
     "iopub.execute_input": "2022-09-20T08:44:28.076451Z",
     "iopub.status.busy": "2022-09-20T08:44:28.075843Z",
     "iopub.status.idle": "2022-09-20T08:44:28.172812Z",
     "shell.execute_reply": "2022-09-20T08:44:28.172069Z",
     "shell.execute_reply.started": "2022-09-20T08:44:28.076401Z"
    },
    "tags": []
   },
   "outputs": [],
   "source": [
    "# ccle_cnv_pvt_324.to_csv(\"../data/processed/ccle_cnv_binary.csv\")"
   ]
  },
  {
   "cell_type": "code",
   "execution_count": null,
   "id": "f800716c-59b5-441e-91e9-bd206c761204",
   "metadata": {
    "execution": {
     "iopub.execute_input": "2022-09-20T08:47:13.953084Z",
     "iopub.status.busy": "2022-09-20T08:47:13.952480Z",
     "iopub.status.idle": "2022-09-20T08:47:14.029453Z",
     "shell.execute_reply": "2022-09-20T08:47:14.028779Z",
     "shell.execute_reply.started": "2022-09-20T08:47:13.953035Z"
    },
    "tags": []
   },
   "outputs": [],
   "source": [
    "df_auc = pd.read_csv(\"../../data/druid_1.3_data/cell_drug_auc_final_1111.csv\")\n",
    "df_auc[\"depmap_id\"] = df_auc[\"ARXSPAN_ID\"].astype(\"string\")\n",
    "df_auc.drop(\"ARXSPAN_ID\", axis=1, inplace=True)\n",
    "df_auc.set_index([\"depmap_id\"], inplace=True)\n",
    "df_auc.head()"
   ]
  },
  {
   "cell_type": "code",
   "execution_count": null,
   "id": "0e0e6885-8c1d-4133-ba3b-eb2afde60e19",
   "metadata": {
    "execution": {
     "iopub.execute_input": "2022-09-20T08:47:41.080548Z",
     "iopub.status.busy": "2022-09-20T08:47:41.079915Z",
     "iopub.status.idle": "2022-09-20T08:47:41.698196Z",
     "shell.execute_reply": "2022-09-20T08:47:41.697560Z",
     "shell.execute_reply.started": "2022-09-20T08:47:41.080493Z"
    },
    "tags": []
   },
   "outputs": [],
   "source": [
    "ccle_mutations_df"
   ]
  },
  {
   "cell_type": "code",
   "execution_count": null,
   "id": "06fffba4-749d-4f87-984a-a4c6e700e99f",
   "metadata": {
    "execution": {
     "iopub.execute_input": "2022-09-20T08:47:42.648890Z",
     "iopub.status.busy": "2022-09-20T08:47:42.648258Z",
     "iopub.status.idle": "2022-09-20T08:47:42.848480Z",
     "shell.execute_reply": "2022-09-20T08:47:42.847841Z",
     "shell.execute_reply.started": "2022-09-20T08:47:42.648839Z"
    },
    "tags": []
   },
   "outputs": [],
   "source": [
    "# mutations_needed = [\"damaging\", \"other non-conserving\"]\n",
    "\n",
    "ccle_mutations_df = ccle_mutations_df[\n",
    "    [\"Hugo_Symbol\", \"DepMap_ID\", \"Protein_Change\", \"Variant_annotation\"]\n",
    "].copy()\n",
    "print(ccle_mutations_df.shape)\n",
    "ccle_mutations_filtered = ccle_mutations_df#[\n",
    "#     ccle_mutations_df[\"Variant_annotation\"].isin(mutations_needed)\n",
    "# ].copy()\n",
    "print(ccle_mutations_filtered.shape)\n",
    "ccle_mutations_filtered.head()"
   ]
  },
  {
   "cell_type": "code",
   "execution_count": null,
   "id": "f2a85ae9-4485-451b-9c94-65c472c6d733",
   "metadata": {
    "execution": {
     "iopub.execute_input": "2022-09-20T08:47:44.063291Z",
     "iopub.status.busy": "2022-09-20T08:47:44.062609Z",
     "iopub.status.idle": "2022-09-20T08:47:44.150870Z",
     "shell.execute_reply": "2022-09-20T08:47:44.150003Z",
     "shell.execute_reply.started": "2022-09-20T08:47:44.063239Z"
    },
    "tags": []
   },
   "outputs": [],
   "source": [
    "# Not filtering out any cell lines or mutations at this point\n",
    "\n",
    "# ccle_mutations_filtered.rename(columns={\"DepMap_ID\": \"depmap_id\"}, inplace=True)\n",
    "# ccle_mutations_filtered = ccle_mutations_filtered[\n",
    "#     ccle_mutations_filtered.depmap_id.isin(df_auc.index.get_level_values(0))\n",
    "# ]\n",
    "# ccle_mutations_filtered"
   ]
  },
  {
   "cell_type": "code",
   "execution_count": null,
   "id": "483ad49b-861a-4f2a-b0b4-69944e3809d6",
   "metadata": {
    "execution": {
     "iopub.execute_input": "2022-09-20T08:47:45.618554Z",
     "iopub.status.busy": "2022-09-20T08:47:45.617903Z",
     "iopub.status.idle": "2022-09-20T08:47:45.794242Z",
     "shell.execute_reply": "2022-09-20T08:47:45.793524Z",
     "shell.execute_reply.started": "2022-09-20T08:47:45.618502Z"
    },
    "tags": []
   },
   "outputs": [],
   "source": [
    "ccle_mutations_filtered.Hugo_Symbol = ccle_mutations_filtered.Hugo_Symbol.str.upper()"
   ]
  },
  {
   "cell_type": "code",
   "execution_count": null,
   "id": "088af2cc-db41-42df-99b0-0f21dbbda4db",
   "metadata": {
    "execution": {
     "iopub.execute_input": "2022-09-20T08:47:47.241759Z",
     "iopub.status.busy": "2022-09-20T08:47:47.240874Z",
     "iopub.status.idle": "2022-09-20T08:47:47.855604Z",
     "shell.execute_reply": "2022-09-20T08:47:47.854922Z",
     "shell.execute_reply.started": "2022-09-20T08:47:47.241703Z"
    },
    "tags": []
   },
   "outputs": [],
   "source": [
    "print(\n",
    "    \"number of intersecting genes:\",\n",
    "    np.intersect1d(ccle_mutations_filtered.Hugo_Symbol.unique(), genes_324).size,\n",
    ")\n",
    "\n",
    "missing_genes_in_mutations = np.setdiff1d(genes_324, ccle_mutations_filtered.Hugo_Symbol.unique())\n",
    "print(\n",
    "    \"genes that are missing from depmap: \",\n",
    "    missing_genes_in_mutations,\n",
    ")"
   ]
  },
  {
   "cell_type": "code",
   "execution_count": null,
   "id": "abdbe907-c3b1-4393-b8fc-93c744d37e11",
   "metadata": {
    "execution": {
     "iopub.execute_input": "2022-09-20T08:47:48.327705Z",
     "iopub.status.busy": "2022-09-20T08:47:48.326891Z",
     "iopub.status.idle": "2022-09-20T08:47:48.857096Z",
     "shell.execute_reply": "2022-09-20T08:47:48.856119Z",
     "shell.execute_reply.started": "2022-09-20T08:47:48.327651Z"
    },
    "tags": []
   },
   "outputs": [],
   "source": [
    "# mut_dict = {\n",
    "#     \"GID4\": \"C17ORF39\",\n",
    "#     \"C11orf30\": \"EMSY\",\n",
    "#     \"AMER1\": \"FAM123B\",\n",
    "#     \"KMT2A\": \"MLL\",\n",
    "#     \"KMT2D\": \"MLL2\",\n",
    "#     \"MYCL\": \"MYCL1\",\n",
    "# }\n",
    "rows_to_rename_in_mutations = {\n",
    "    k: v for k, v in ALIAS_TO_CANONICAL_NAME_MAP.items() if v in missing_genes_in_mutations\n",
    "}\n",
    "ccle_mutations_filtered.Hugo_Symbol.replace(\n",
    "    list(rows_to_rename_in_mutations.keys()), list(rows_to_rename_in_mutations.values()), inplace=True\n",
    ")"
   ]
  },
  {
   "cell_type": "code",
   "execution_count": null,
   "id": "7954b313-cc6d-406d-b2db-e4c7a82f919c",
   "metadata": {
    "execution": {
     "iopub.execute_input": "2022-09-20T08:47:50.105990Z",
     "iopub.status.busy": "2022-09-20T08:47:50.105338Z",
     "iopub.status.idle": "2022-09-20T08:47:50.755467Z",
     "shell.execute_reply": "2022-09-20T08:47:50.754739Z",
     "shell.execute_reply.started": "2022-09-20T08:47:50.105935Z"
    },
    "tags": []
   },
   "outputs": [],
   "source": [
    "print(\n",
    "    \"number of intersecting genes:\",\n",
    "    np.intersect1d(ccle_mutations_filtered.Hugo_Symbol.unique(), genes_324).size,\n",
    ")\n",
    "\n",
    "print(\n",
    "    \"genes that are missing from depmap: \",\n",
    "    np.setdiff1d(genes_324, ccle_mutations_filtered.Hugo_Symbol.unique()),\n",
    ")"
   ]
  },
  {
   "cell_type": "code",
   "execution_count": null,
   "id": "7bf89d4a-6b32-4d2b-b1ca-d8deaa51cd0e",
   "metadata": {
    "execution": {
     "iopub.execute_input": "2022-09-20T08:47:55.802210Z",
     "iopub.status.busy": "2022-09-20T08:47:55.801520Z",
     "iopub.status.idle": "2022-09-20T08:47:55.939609Z",
     "shell.execute_reply": "2022-09-20T08:47:55.938899Z",
     "shell.execute_reply.started": "2022-09-20T08:47:55.802154Z"
    },
    "tags": []
   },
   "outputs": [],
   "source": [
    "# Filtering out and using only the F1 genes\n",
    "ccle_mutations_filtered = ccle_mutations_filtered[\n",
    "    ccle_mutations_filtered.Hugo_Symbol.isin(genes_324)\n",
    "]\n",
    "# Not filtering out NaN protein mutations\n",
    "# ccle_mutations_filtered = ccle_mutations_filtered[\n",
    "#     ~ccle_mutations_filtered.Protein_Change.isna()\n",
    "# ]\n",
    "ccle_mutations_filtered[\"mutation\"] = (\n",
    "    ccle_mutations_filtered[\"Hugo_Symbol\"]\n",
    "    + \" \"\n",
    "    + ccle_mutations_filtered[\"Protein_Change\"].apply(lambda val: val[2:] if val is not np.NaN else \"\")\n",
    ")\n",
    "ccle_mutations_filtered[\"mutation\"] = ccle_mutations_filtered[\"mutation\"].str.strip(\" \")\n",
    "ccle_mutations_filtered"
   ]
  },
  {
   "cell_type": "code",
   "execution_count": null,
   "id": "d870aa06",
   "metadata": {},
   "outputs": [],
   "source": [
    "# annotated_df = pd.DataFrame(columns=['input', 'sift_pred', 'sift4g_pred', 'lrt_pred', 'mutationtaster_pred',\n",
    "#        'mutationassessor_pred', 'fathmm_pred', 'provean_pred', 'metasvm_pred',\n",
    "#        'm_cap_pred', 'primateai_pred', 'deogen2_pred', 'bayesdel_addaf_pred',\n",
    "#        'bayesdel_noaf_pred', 'clinpred_pred', 'list_s2_pred',\n",
    "#        'fathmm_mkl_coding_pred', 'fathmm_xf_coding_pred', 'gene'])\n",
    "# for depmap_id in ccle_mutations_filtered.depmap_id.unique():\n",
    "#     filtered_df = ccle_mutations_filtered[\n",
    "#         ccle_mutations_filtered.depmap_id == depmap_id\n",
    "#     ]\n",
    "#     point_mutations = list(filtered_df.mutation.values)\n",
    "#     _, annot_df = construct_anno_features_xon17_gpd(depmap_id, point_mutations, False)\n",
    "#     annotated_df = pd.concat([annotated_df, annot_df])"
   ]
  },
  {
   "cell_type": "code",
   "execution_count": null,
   "id": "5306bca1",
   "metadata": {},
   "outputs": [],
   "source": [
    "# annotated_df.to_csv(\"../data/processed/anno_features_per_mutation_ccle.csv\")"
   ]
  },
  {
   "cell_type": "code",
   "execution_count": null,
   "id": "30830ea5-813e-4fa1-8698-34eec002527f",
   "metadata": {
    "execution": {
     "iopub.execute_input": "2022-09-20T08:47:59.080496Z",
     "iopub.status.busy": "2022-09-20T08:47:59.079817Z",
     "iopub.status.idle": "2022-09-20T08:48:03.636815Z",
     "shell.execute_reply": "2022-09-20T08:48:03.635694Z",
     "shell.execute_reply.started": "2022-09-20T08:47:59.080442Z"
    },
    "tags": []
   },
   "outputs": [],
   "source": [
    "# raw_mutations_combined = []\n",
    "# for depmap_id in ccle_mutations_filtered.depmap_id.unique():\n",
    "#     filtered_df = ccle_mutations_filtered[\n",
    "#         ccle_mutations_filtered.depmap_id == depmap_id\n",
    "#     ]\n",
    "#     point_mutations = list(filtered_df.mutation.values)\n",
    "#     raw_mutations_combined.append(\n",
    "#         construct_raw_mutation_features(depmap_id, point_mutations)\n",
    "#     )\n",
    "# raw_mutations_combined_df = pd.concat(raw_mutations_combined)\n",
    "# raw_mutations_combined_df.index.name = \"depmap_id\"\n",
    "# raw_mutations_combined_df"
   ]
  },
  {
   "cell_type": "code",
   "execution_count": null,
   "id": "e9b5199c-9097-4231-9bd3-5d318cb560d1",
   "metadata": {
    "execution": {
     "iopub.execute_input": "2022-09-20T08:49:15.365236Z",
     "iopub.status.busy": "2022-09-20T08:49:15.364615Z",
     "iopub.status.idle": "2022-09-20T08:49:15.389274Z",
     "shell.execute_reply": "2022-09-20T08:49:15.388314Z",
     "shell.execute_reply.started": "2022-09-20T08:49:15.365184Z"
    },
    "tags": []
   },
   "outputs": [],
   "source": [
    "# rand_patient_idx = np.random.randint(0, 691)\n",
    "# display(\n",
    "#     ccle_mutations_filtered[\n",
    "#         ccle_mutations_filtered.depmap_id\n",
    "#         == raw_mutations_combined_df.iloc[rand_patient_idx].name\n",
    "#     ]\n",
    "# )\n",
    "\n",
    "# raw_mutations_combined_df.columns[\n",
    "#     raw_mutations_combined_df.iloc[rand_patient_idx].values != 0\n",
    "# ]"
   ]
  },
  {
   "cell_type": "code",
   "execution_count": null,
   "id": "943ed9a4-3a68-485f-8bc6-0bde89531f07",
   "metadata": {
    "execution": {
     "iopub.execute_input": "2022-09-20T09:21:21.371661Z",
     "iopub.status.busy": "2022-09-20T09:21:21.371019Z",
     "iopub.status.idle": "2022-09-20T09:21:21.418451Z",
     "shell.execute_reply": "2022-09-20T09:21:21.417845Z",
     "shell.execute_reply.started": "2022-09-20T09:21:21.371606Z"
    },
    "tags": []
   },
   "outputs": [],
   "source": [
    "# raw_mutations_combined_df.to_csv(\"../data/processed/ccle_raw_mutation.csv\")"
   ]
  },
  {
   "cell_type": "markdown",
   "id": "c8ae6bf9-aa7b-432e-b2b2-26a677ec628b",
   "metadata": {},
   "source": [
    "## Variant Annotations with Transvar/Annovar"
   ]
  },
  {
   "cell_type": "code",
   "execution_count": null,
   "id": "729172ef",
   "metadata": {},
   "outputs": [],
   "source": [
    "# variant annotation on these point mutations\n",
    "import sys\n",
    "sys.path.append(\"../src/\")\n",
    "from data import (construct_anno_features, \n",
    "                  construct_raw_cnv_features, \n",
    "                  construct_raw_mutation_features, \n",
    "                  canonicalize_mutations,\n",
    "                  ALIAS_TO_CANONICAL_NAME_MAP, \n",
    "                  _is_valid_point_mutations,\n",
    "                  get_annotation_features,\n",
    "                  preprocess_annotation_features,\n",
    "                  MICEData\n",
    "                 )"
   ]
  },
  {
   "cell_type": "code",
   "execution_count": null,
   "id": "d2332bac",
   "metadata": {},
   "outputs": [],
   "source": [
    "import logging\n",
    "import re\n",
    "import subprocess\n",
    "import tempfile\n",
    "import itertools\n",
    "import json"
   ]
  },
  {
   "cell_type": "code",
   "execution_count": null,
   "id": "5c4658d5",
   "metadata": {},
   "outputs": [],
   "source": [
    "REQUIRED_ANNOTATION_COLUMNS = [\n",
    "    \"SIFT_score\",\n",
    "    \"SIFT_converted_rankscore\",\n",
    "    \"SIFT_pred\",\n",
    "    \"SIFT4G_score\",\n",
    "    \"SIFT4G_converted_rankscore\",\n",
    "    \"SIFT4G_pred\",\n",
    "    \"LRT_score\",\n",
    "    \"LRT_converted_rankscore\",\n",
    "    \"LRT_pred\",\n",
    "    \"MutationTaster_score\",\n",
    "    \"MutationTaster_converted_rankscore\",\n",
    "    \"MutationTaster_pred\",\n",
    "    \"MutationAssessor_score\",\n",
    "    \"MutationAssessor_rankscore\",\n",
    "    \"MutationAssessor_pred\",\n",
    "    \"FATHMM_score\",\n",
    "    \"FATHMM_converted_rankscore\",\n",
    "    \"FATHMM_pred\",\n",
    "    \"PROVEAN_score\",\n",
    "    \"PROVEAN_converted_rankscore\",\n",
    "    \"PROVEAN_pred\",\n",
    "    \"MetaSVM_pred\",\n",
    "    \"M-CAP_score\",\n",
    "    \"M-CAP_rankscore\",\n",
    "    \"M-CAP_pred\",\n",
    "    \"MVP_score\",\n",
    "    \"MVP_rankscore\",\n",
    "    \"MPC_score\",\n",
    "    \"MPC_rankscore\",\n",
    "    \"PrimateAI_score\",\n",
    "    \"PrimateAI_rankscore\",\n",
    "    \"PrimateAI_pred\",\n",
    "    \"DEOGEN2_score\",\n",
    "    \"DEOGEN2_rankscore\",\n",
    "    \"DEOGEN2_pred\",\n",
    "    \"BayesDel_addAF_score\",\n",
    "    \"BayesDel_addAF_pred\",\n",
    "    \"BayesDel_noAF_score\",\n",
    "    \"BayesDel_noAF_rankscore\",\n",
    "    \"BayesDel_noAF_pred\",\n",
    "    \"ClinPred_score\",\n",
    "    \"ClinPred_rankscore\",\n",
    "    \"ClinPred_pred\",\n",
    "    \"LIST-S2_score\",\n",
    "    \"LIST-S2_rankscore\",\n",
    "    \"LIST-S2_pred\",\n",
    "    \"DANN_score\",\n",
    "    \"DANN_rankscore\",\n",
    "    \"fathmm-MKL_coding_score\",\n",
    "    \"fathmm-MKL_coding_rankscore\",\n",
    "    \"fathmm-MKL_coding_pred\",\n",
    "    \"fathmm-XF_coding_score\",\n",
    "    \"fathmm-XF_coding_rankscore\",\n",
    "    \"fathmm-XF_coding_pred\",\n",
    "    \"Eigen-raw_coding\",\n",
    "    \"Eigen-raw_coding_rankscore\",\n",
    "    \"Eigen-PC-raw_coding\",\n",
    "    \"Eigen-PC-raw_coding_rankscore\",\n",
    "]\n",
    "CATEGORICAL_COLUMNS = [\n",
    "    \"sift_pred\",\n",
    "    \"sift4g_pred\",\n",
    "    \"lrt_pred\",\n",
    "    \"mutationtaster_pred\",\n",
    "    \"mutationassessor_pred\",\n",
    "    \"fathmm_pred\",\n",
    "    \"provean_pred\",\n",
    "    \"metasvm_pred\",\n",
    "    \"m_cap_pred\",\n",
    "    \"primateai_pred\",\n",
    "    \"deogen2_pred\",\n",
    "    \"bayesdel_addaf_pred\",\n",
    "    \"bayesdel_noaf_pred\",\n",
    "    \"clinpred_pred\",\n",
    "    \"list_s2_pred\",\n",
    "    \"fathmm_mkl_coding_pred\",\n",
    "    \"fathmm_xf_coding_pred\",\n",
    "]\n",
    "\n",
    "# The thresholds used in PREDICTOR_LAMBDA_MAP are taken from the corresponding\n",
    "# technique's published paper/web page\n",
    "PREDICTOR_LAMBDA_MAP = {\n",
    "    \"sift_pred\": (\"sift_score\", lambda v: \"D\" if v <= 0.05 else \"T\"),\n",
    "    \"sift4g_pred\": (\"sift4g_score\", lambda v: \"D\" if v <= 0.05 else \"T\"),\n",
    "    \"lrt_pred\": (\"lrt_score\", lambda v: \"D\" if v <= 0.001 else \"U\"),\n",
    "    \"mutationtaster_pred\": (\n",
    "        \"mutationtaster_score\",\n",
    "        lambda v: None,\n",
    "    ),  # Threshold is not available and couldn't be derived from available values as well\n",
    "    \"mutationassessor_pred\": (\n",
    "        \"mutationassessor_score\",\n",
    "        lambda v: \"H\" if v >= 3.5 else (\"M\" if v >= 1.94 else \"L\"),\n",
    "    ),\n",
    "    \"fathmm_pred\": (\"fathmm_score\", lambda v: \"D\" if v < 1.5 else \"T\"),\n",
    "    \"provean_pred\": (\"provean_score\", lambda v: \"D\" if v <= 2.282 else \"N\"),\n",
    "    \"metasvm_pred\": (\n",
    "        \"metasvm_pred\",\n",
    "        lambda v: None,\n",
    "    ),  # No corresponding numeric score available for this method\n",
    "    \"m_cap_pred\": (\"m_cap_score\", lambda v: \"D\" if v >= 0.025 else \"T\"),\n",
    "    \"primateai_pred\": (\"primateai_score\", lambda v: \"D\" if v >= 0.803 else \"T\"),\n",
    "    \"deogen2_pred\": (\"deogen2_score\", lambda v: \"D\" if v >= 0.45 else \"T\"),\n",
    "    \"bayesdel_addaf_pred\": (\n",
    "        \"bayesdel_addaf_score\",\n",
    "        lambda v: \"D\" if v >= 0.0692 else \"T\",\n",
    "    ),\n",
    "    \"bayesdel_noaf_pred\": (\n",
    "        \"bayesdel_noaf_score\",\n",
    "        lambda v: \"D\" if v >= -0.0570 else \"T\",\n",
    "    ),\n",
    "    \"clinpred_pred\": (\"clinpred_score\", lambda v: \"D\" if v >= 0.5 else \"T\"),\n",
    "    \"list_s2_pred\": (\"list_s2_score\", lambda v: \"D\" if v >= 0.85 else \"T\"),\n",
    "    \"fathmm_mkl_coding_pred\": (\n",
    "        \"fathmm_mkl_coding_score\",\n",
    "        lambda v: \"D\" if v >= 0.5 else \"N\",\n",
    "    ),\n",
    "    \"fathmm_xf_coding_pred\": (\n",
    "        \"fathmm_xf_coding_score\",\n",
    "        lambda v: \"D\" if v >= 0.5 else \"N\",\n",
    "    ),\n",
    "}\n",
    "\n",
    "DELETERIOUS_VALUES = [\"D\", \"A\", \"H\", \"M\"]\n",
    "\n",
    "CNV_PATTERN = r\"loss|amplification\"\n",
    "\n",
    "GENES_324 = pd.read_csv(\"../../data/druid_1.3_data/gene2ind.txt\", header=None)[\n",
    "    0\n",
    "].tolist()\n",
    "\n",
    "ANNOTATION_SCRIPT_PATH = \"../script/goAAtoGv2.sh\"\n",
    "SPECIAL_CASES = r\"rearrangement|truncation|fs|del|ins\""
   ]
  },
  {
   "cell_type": "code",
   "execution_count": null,
   "id": "87f859e7",
   "metadata": {},
   "outputs": [],
   "source": [
    "# variant annotation on these point mutations\n",
    "import sys\n",
    "sys.path.append(\"../src/\")\n",
    "from data import (construct_anno_features, \n",
    "                  construct_raw_cnv_features, \n",
    "                  construct_raw_mutation_features, \n",
    "                  canonicalize_mutations,\n",
    "                  ALIAS_TO_CANONICAL_NAME_MAP, \n",
    "                  _is_valid_point_mutations,\n",
    "                  get_annotation_features,\n",
    "                  preprocess_annotation_features,\n",
    "                  MICEData\n",
    "                 )\n",
    "\n",
    "import logging\n",
    "import re\n",
    "import subprocess\n",
    "import tempfile\n",
    "import itertools\n",
    "import json\n",
    "\n",
    "REQUIRED_ANNOTATION_COLUMNS = [\n",
    "    \"SIFT_score\",\n",
    "    \"SIFT_converted_rankscore\",\n",
    "    \"SIFT_pred\",\n",
    "    \"SIFT4G_score\",\n",
    "    \"SIFT4G_converted_rankscore\",\n",
    "    \"SIFT4G_pred\",\n",
    "    \"LRT_score\",\n",
    "    \"LRT_converted_rankscore\",\n",
    "    \"LRT_pred\",\n",
    "    \"MutationTaster_score\",\n",
    "    \"MutationTaster_converted_rankscore\",\n",
    "    \"MutationTaster_pred\",\n",
    "    \"MutationAssessor_score\",\n",
    "    \"MutationAssessor_rankscore\",\n",
    "    \"MutationAssessor_pred\",\n",
    "    \"FATHMM_score\",\n",
    "    \"FATHMM_converted_rankscore\",\n",
    "    \"FATHMM_pred\",\n",
    "    \"PROVEAN_score\",\n",
    "    \"PROVEAN_converted_rankscore\",\n",
    "    \"PROVEAN_pred\",\n",
    "    \"MetaSVM_pred\",\n",
    "    \"M-CAP_score\",\n",
    "    \"M-CAP_rankscore\",\n",
    "    \"M-CAP_pred\",\n",
    "    \"MVP_score\",\n",
    "    \"MVP_rankscore\",\n",
    "    \"MPC_score\",\n",
    "    \"MPC_rankscore\",\n",
    "    \"PrimateAI_score\",\n",
    "    \"PrimateAI_rankscore\",\n",
    "    \"PrimateAI_pred\",\n",
    "    \"DEOGEN2_score\",\n",
    "    \"DEOGEN2_rankscore\",\n",
    "    \"DEOGEN2_pred\",\n",
    "    \"BayesDel_addAF_score\",\n",
    "    \"BayesDel_addAF_pred\",\n",
    "    \"BayesDel_noAF_score\",\n",
    "    \"BayesDel_noAF_rankscore\",\n",
    "    \"BayesDel_noAF_pred\",\n",
    "    \"ClinPred_score\",\n",
    "    \"ClinPred_rankscore\",\n",
    "    \"ClinPred_pred\",\n",
    "    \"LIST-S2_score\",\n",
    "    \"LIST-S2_rankscore\",\n",
    "    \"LIST-S2_pred\",\n",
    "    \"DANN_score\",\n",
    "    \"DANN_rankscore\",\n",
    "    \"fathmm-MKL_coding_score\",\n",
    "    \"fathmm-MKL_coding_rankscore\",\n",
    "    \"fathmm-MKL_coding_pred\",\n",
    "    \"fathmm-XF_coding_score\",\n",
    "    \"fathmm-XF_coding_rankscore\",\n",
    "    \"fathmm-XF_coding_pred\",\n",
    "    \"Eigen-raw_coding\",\n",
    "    \"Eigen-raw_coding_rankscore\",\n",
    "    \"Eigen-PC-raw_coding\",\n",
    "    \"Eigen-PC-raw_coding_rankscore\",\n",
    "]\n",
    "CATEGORICAL_COLUMNS = [\n",
    "    \"sift_pred\",\n",
    "    \"sift4g_pred\",\n",
    "    \"lrt_pred\",\n",
    "    \"mutationtaster_pred\",\n",
    "    \"mutationassessor_pred\",\n",
    "    \"fathmm_pred\",\n",
    "    \"provean_pred\",\n",
    "    \"metasvm_pred\",\n",
    "    \"m_cap_pred\",\n",
    "    \"primateai_pred\",\n",
    "    \"deogen2_pred\",\n",
    "    \"bayesdel_addaf_pred\",\n",
    "    \"bayesdel_noaf_pred\",\n",
    "    \"clinpred_pred\",\n",
    "    \"list_s2_pred\",\n",
    "    \"fathmm_mkl_coding_pred\",\n",
    "    \"fathmm_xf_coding_pred\",\n",
    "]\n",
    "\n",
    "# The thresholds used in PREDICTOR_LAMBDA_MAP are taken from the corresponding\n",
    "# technique's published paper/web page\n",
    "PREDICTOR_LAMBDA_MAP = {\n",
    "    \"sift_pred\": (\"sift_score\", lambda v: \"D\" if v <= 0.05 else \"T\"),\n",
    "    \"sift4g_pred\": (\"sift4g_score\", lambda v: \"D\" if v <= 0.05 else \"T\"),\n",
    "    \"lrt_pred\": (\"lrt_score\", lambda v: \"D\" if v <= 0.001 else \"U\"),\n",
    "    \"mutationtaster_pred\": (\n",
    "        \"mutationtaster_score\",\n",
    "        lambda v: None,\n",
    "    ),  # Threshold is not available and couldn't be derived from available values as well\n",
    "    \"mutationassessor_pred\": (\n",
    "        \"mutationassessor_score\",\n",
    "        lambda v: \"H\" if v >= 3.5 else (\"M\" if v >= 1.94 else \"L\"),\n",
    "    ),\n",
    "    \"fathmm_pred\": (\"fathmm_score\", lambda v: \"D\" if v < 1.5 else \"T\"),\n",
    "    \"provean_pred\": (\"provean_score\", lambda v: \"D\" if v <= 2.282 else \"N\"),\n",
    "    \"metasvm_pred\": (\n",
    "        \"metasvm_pred\",\n",
    "        lambda v: None,\n",
    "    ),  # No corresponding numeric score available for this method\n",
    "    \"m_cap_pred\": (\"m_cap_score\", lambda v: \"D\" if v >= 0.025 else \"T\"),\n",
    "    \"primateai_pred\": (\"primateai_score\", lambda v: \"D\" if v >= 0.803 else \"T\"),\n",
    "    \"deogen2_pred\": (\"deogen2_score\", lambda v: \"D\" if v >= 0.45 else \"T\"),\n",
    "    \"bayesdel_addaf_pred\": (\n",
    "        \"bayesdel_addaf_score\",\n",
    "        lambda v: \"D\" if v >= 0.0692 else \"T\",\n",
    "    ),\n",
    "    \"bayesdel_noaf_pred\": (\n",
    "        \"bayesdel_noaf_score\",\n",
    "        lambda v: \"D\" if v >= -0.0570 else \"T\",\n",
    "    ),\n",
    "    \"clinpred_pred\": (\"clinpred_score\", lambda v: \"D\" if v >= 0.5 else \"T\"),\n",
    "    \"list_s2_pred\": (\"list_s2_score\", lambda v: \"D\" if v >= 0.85 else \"T\"),\n",
    "    \"fathmm_mkl_coding_pred\": (\n",
    "        \"fathmm_mkl_coding_score\",\n",
    "        lambda v: \"D\" if v >= 0.5 else \"N\",\n",
    "    ),\n",
    "    \"fathmm_xf_coding_pred\": (\n",
    "        \"fathmm_xf_coding_score\",\n",
    "        lambda v: \"D\" if v >= 0.5 else \"N\",\n",
    "    ),\n",
    "}\n",
    "\n",
    "DELETERIOUS_VALUES = [\"D\", \"A\", \"H\", \"M\"]\n",
    "\n",
    "CNV_PATTERN = r\"loss|amplification\"\n",
    "\n",
    "GENES_324 = pd.read_csv(\"../../data/druid_1.3_data/gene2ind.txt\", header=None)[\n",
    "    0\n",
    "].tolist()\n",
    "\n",
    "ANNOTATION_SCRIPT_PATH = \"../script/goAAtoGv2.sh\"\n",
    "SPECIAL_CASES = r\"rearrangement|truncation|fs|del|ins\""
   ]
  },
  {
   "cell_type": "code",
   "execution_count": null,
   "id": "1435c5ae",
   "metadata": {},
   "outputs": [],
   "source": [
    "def construct_anno_features_xon17_gpd(patient_id, patient_mutations, agg_features=False):\n",
    "    \"\"\"\n",
    "    TODO: Add support for other agg functions (mean, OR, etc) - as of 202209, only\n",
    "    sum is supported\n",
    "    Here, the aggregation is done as an average over all variants over all 17 algorithms.\n",
    "    \"\"\"\n",
    "    if agg_features:\n",
    "        logging.warn(\n",
    "            \"\"\"\n",
    "        Received agg_features=True -> As of now, construct_anno_features only supports sum aggregation.\n",
    "        Please ensure that the agg used in dataset definition is sum - if it is not sum, please pass\n",
    "        agg_features=False and perform agg in dataset definition\n",
    "        \"\"\"\n",
    "        )\n",
    "\n",
    "#     if not _is_valid_point_mutations(patient_mutations):\n",
    "#         return None\n",
    "\n",
    "    anno_features_combined_imputed_df = pd.read_csv(\n",
    "        \"../data/processed/anno_features_combined_imputed.csv\"\n",
    "    )\n",
    "    logging.info(anno_features_combined_imputed_df.shape)\n",
    "    anno_features_combined_imputed_df.set_index([\"input\"], inplace=True)\n",
    "    anno_features_combined_imputed_df.head()\n",
    "\n",
    "    canonical_mutations = canonicalize_mutations(patient_mutations)\n",
    "\n",
    "    mutations_with_missing_annotations = []\n",
    "    available_mutations = []\n",
    "    for mutation in canonical_mutations:\n",
    "        if mutation in anno_features_combined_imputed_df.index:\n",
    "            available_mutations.append(mutation)\n",
    "        elif not re.search(CNV_PATTERN, mutation, re.IGNORECASE):\n",
    "            mutations_with_missing_annotations.append(mutation)\n",
    "\n",
    "    if available_mutations:\n",
    "        patient_anno_features = anno_features_combined_imputed_df.loc[\n",
    "            available_mutations\n",
    "        ]\n",
    "        patient_anno_features = patient_anno_features[CATEGORICAL_COLUMNS].copy()\n",
    "    else:\n",
    "        patient_anno_features = None\n",
    "\n",
    "    if len(mutations_with_missing_annotations) != 0:\n",
    "        logging.info(\n",
    "            f\"Found mutations with missing annotations - {mutations_with_missing_annotations}\"\n",
    "        )\n",
    "        missing_annotations = get_annotation_features(\n",
    "            mutations_with_missing_annotations\n",
    "        )\n",
    "        if missing_annotations is not None:\n",
    "            missing_annotations = missing_annotations[\n",
    "                REQUIRED_ANNOTATION_COLUMNS\n",
    "            ].copy()\n",
    "            missing_annotations.reset_index(inplace=True)\n",
    "            missing_annotations = preprocess_annotation_features(missing_annotations)\n",
    "            missing_annotations = missing_annotations[~missing_annotations.duplicated()]\n",
    "            missing_annotations.reset_index(drop=True, inplace=True)\n",
    "            missing_annotations.set_index(\"input\", inplace=True)\n",
    "\n",
    "            numeric_columns = list(\n",
    "                column\n",
    "                for column in missing_annotations.columns\n",
    "                if pd.api.types.is_numeric_dtype(missing_annotations[column])\n",
    "            )\n",
    "            # Prepare mask by identifying rows that have all na values for numeric_columns\n",
    "            na_mask = None\n",
    "            for col in numeric_columns:\n",
    "                if type(na_mask) == pd.Series:\n",
    "                    na_mask = na_mask & missing_annotations[col].isna()\n",
    "                else:\n",
    "                    na_mask = missing_annotations[col].isna()\n",
    "\n",
    "            missing_annotations = missing_annotations[~na_mask]\n",
    "            numeric_df = missing_annotations[numeric_columns].copy()\n",
    "            logging.info(numeric_df.shape)\n",
    "            numeric_df.head()\n",
    "            numeric_df = pd.concat(\n",
    "                [numeric_df, anno_features_combined_imputed_df[numeric_columns]],\n",
    "            )\n",
    "\n",
    "            categorical_columns = [\n",
    "                column\n",
    "                for column in missing_annotations.columns\n",
    "                if column not in numeric_columns\n",
    "            ]\n",
    "            categorical_missing_annotations = missing_annotations[\n",
    "                categorical_columns\n",
    "            ].copy()\n",
    "            logging.info(categorical_missing_annotations.shape)\n",
    "            categorical_missing_annotations.head()\n",
    "\n",
    "            imp = MICEData(numeric_df)\n",
    "            # Impute missing values in numeric columns - Expensive!!\n",
    "            imp.update_all()\n",
    "            imputed_df = imp.data\n",
    "            assert numeric_df.shape == imputed_df.shape\n",
    "            imputed_df.index = numeric_df.index\n",
    "            imputed_df = imputed_df[\n",
    "                imputed_df.index.isin(mutations_with_missing_annotations)\n",
    "            ].copy()\n",
    "            numeric_imputed_df = pd.concat(\n",
    "                [categorical_missing_annotations, imputed_df,], axis=1,\n",
    "            )\n",
    "            logging.info(numeric_imputed_df.shape)\n",
    "            for column in CATEGORICAL_COLUMNS:\n",
    "                logging.info(\n",
    "                    column,\n",
    "                    numeric_imputed_df[column].unique(),\n",
    "                    len(numeric_imputed_df[numeric_imputed_df[column].isna()]),\n",
    "                )\n",
    "                col_na_mask = numeric_imputed_df[column].isna()\n",
    "                numeric_imputed_df.loc[col_na_mask, column] = numeric_imputed_df[\n",
    "                    col_na_mask\n",
    "                ][PREDICTOR_LAMBDA_MAP[column][0]].apply(\n",
    "                    PREDICTOR_LAMBDA_MAP[column][1]\n",
    "                )\n",
    "\n",
    "                # logging.info(\n",
    "                #     column,\n",
    "                #     numeric_imputed_df[column].unique(),\n",
    "                #     len(numeric_imputed_df[numeric_imputed_df[column].isna()]),\n",
    "                # )\n",
    "\n",
    "            numeric_imputed_df = numeric_imputed_df.dropna()\n",
    "            logging.info(numeric_imputed_df.shape)\n",
    "            missing_anno_features_df = numeric_imputed_df[CATEGORICAL_COLUMNS].copy()\n",
    "\n",
    "            patient_anno_features = pd.concat(\n",
    "                [missing_anno_features_df, patient_anno_features]\n",
    "            )\n",
    "            \n",
    "    if patient_anno_features is not None:\n",
    "        for col in patient_anno_features.columns:\n",
    "            patient_anno_features[col] = patient_anno_features[col].apply(\n",
    "                lambda v: 1 if v in DELETERIOUS_VALUES else 0\n",
    "            )\n",
    "\n",
    "        patient_anno_features.reset_index(inplace=True)\n",
    "        patient_anno_features[\"gene\"] = patient_anno_features.input.apply(\n",
    "            lambda gene_mut: gene_mut.split(\" \")[0]\n",
    "        )\n",
    "    return patient_anno_features"
   ]
  },
  {
   "cell_type": "code",
   "execution_count": null,
   "id": "834a118d",
   "metadata": {},
   "outputs": [],
   "source": [
    "# annotated_df = pd.read_csv(\"../data/processed/anno_features_per_mutation_ccle.csv\", index_col = 0)\n",
    "# annotated_df"
   ]
  },
  {
   "cell_type": "code",
   "execution_count": null,
   "id": "007cc40f",
   "metadata": {},
   "outputs": [],
   "source": [
    "# len(set(ccle_mutations_filtered[\"mutation\"]) - set(annotated_df[\"input\"]))"
   ]
  },
  {
   "cell_type": "code",
   "execution_count": null,
   "id": "779e3100",
   "metadata": {},
   "outputs": [],
   "source": [
    "# set(ccle_mutations_filtered[\"mutation\"]) - set(annotated_df[\"input\"])"
   ]
  },
  {
   "cell_type": "code",
   "execution_count": null,
   "id": "e03b67de-d4af-4789-b01a-b82b2f9ce8c3",
   "metadata": {
    "execution": {
     "iopub.execute_input": "2022-09-20T08:49:36.714016Z",
     "iopub.status.busy": "2022-09-20T08:49:36.713386Z",
     "iopub.status.idle": "2022-09-20T08:49:41.478343Z",
     "shell.execute_reply": "2022-09-20T08:49:41.475876Z",
     "shell.execute_reply.started": "2022-09-20T08:49:36.713962Z"
    },
    "tags": []
   },
   "outputs": [],
   "source": [
    "import dask\n",
    "\n",
    "from tqdm import tqdm\n",
    "from dask.distributed import Client\n",
    "\n",
    "\n",
    "client = Client()\n",
    "client.cluster.scale(10)"
   ]
  },
  {
   "cell_type": "code",
   "execution_count": null,
   "id": "ebeba082-26cf-4ed8-af04-263c4135bdd4",
   "metadata": {
    "execution": {
     "iopub.execute_input": "2022-09-20T08:49:41.484062Z",
     "iopub.status.busy": "2022-09-20T08:49:41.482637Z",
     "iopub.status.idle": "2022-09-20T08:49:41.538787Z",
     "shell.execute_reply": "2022-09-20T08:49:41.537062Z",
     "shell.execute_reply.started": "2022-09-20T08:49:41.484004Z"
    },
    "tags": []
   },
   "outputs": [],
   "source": [
    "%load_ext jupyterlab_notify"
   ]
  },
  {
   "cell_type": "code",
   "execution_count": null,
   "id": "a31c51ec-8313-43ad-9819-3b5fc2e581ff",
   "metadata": {
    "scrolled": true,
    "tags": []
   },
   "outputs": [],
   "source": [
    "%%notify\n",
    "\n",
    "# futures = []\n",
    "anno_features_combined = pd.DataFrame()\n",
    "for depmap_id in ccle_mutations_filtered.DepMap_ID.unique():\n",
    "    filtered_df = ccle_mutations_filtered[\n",
    "        ccle_mutations_filtered.DepMap_ID == depmap_id\n",
    "    ]\n",
    "    point_mutations = list(filtered_df.mutation.values)\n",
    "    res = construct_anno_features_xon17_gpd(depmap_id, point_mutations, False)\n",
    "    anno_features_combined = pd.concat([anno_features_combined, res], ignore_index = False)\n",
    "#     future = client.submit(construct_anno_features_xon17_gpd, depmap_id, point_mutations, False)\n",
    "#     futures.append(future)\n",
    "\n",
    "# anno_features_combined = client.gather(futures, errors=\"skip\")\n",
    "# client.shutdown()"
   ]
  },
  {
   "cell_type": "code",
   "execution_count": null,
   "id": "844d958e",
   "metadata": {},
   "outputs": [],
   "source": [
    "anno_features_combined"
   ]
  },
  {
   "cell_type": "code",
   "execution_count": null,
   "id": "852538d8",
   "metadata": {},
   "outputs": [],
   "source": [
    "# filtered_df = ccle_mutations_filtered[\n",
    "#     ccle_mutations_filtered.depmap_id == \"ACH-001716\"\n",
    "# ]\n",
    "# point_mutations = list(filtered_df.mutation.values)\n",
    "# test = construct_anno_features_xon17(\"ACH-001716\", point_mutations, False)"
   ]
  },
  {
   "cell_type": "code",
   "execution_count": null,
   "id": "69368e84",
   "metadata": {},
   "outputs": [],
   "source": [
    "# point_mutations"
   ]
  },
  {
   "cell_type": "code",
   "execution_count": null,
   "id": "b8a36b92",
   "metadata": {},
   "outputs": [],
   "source": [
    "# test"
   ]
  },
  {
   "cell_type": "code",
   "execution_count": null,
   "id": "5867648a-3571-49c0-a86e-b1ff4b0cef8f",
   "metadata": {
    "execution": {
     "iopub.execute_input": "2022-09-20T09:19:32.449150Z",
     "iopub.status.busy": "2022-09-20T09:19:32.448409Z",
     "iopub.status.idle": "2022-09-20T09:19:32.982254Z",
     "shell.execute_reply": "2022-09-20T09:19:32.981593Z",
     "shell.execute_reply.started": "2022-09-20T09:19:32.449098Z"
    },
    "tags": []
   },
   "outputs": [],
   "source": [
    "agg_anno_features_combined_df = anno_features_combined#pd.concat(anno_features_combined).reset_index()\n",
    "# agg_anno_features_combined_df.rename(columns={\"patient_id\": \"depmap_id\"}, inplace=True)\n",
    "agg_anno_features_combined_df.set_index(\"input\", inplace=True)\n",
    "agg_anno_features_combined_df"
   ]
  },
  {
   "cell_type": "code",
   "execution_count": null,
   "id": "4f1fa4ae",
   "metadata": {},
   "outputs": [],
   "source": [
    "ccle_mutations_filtered"
   ]
  },
  {
   "cell_type": "code",
   "execution_count": null,
   "id": "d86546fa",
   "metadata": {},
   "outputs": [],
   "source": [
    "# one more round of annotation to confirm\n",
    "append_df = pd.DataFrame()\n",
    "for mut in set(ccle_mutations_filtered.mutation) - set(agg_anno_features_combined_df.index):\n",
    "    res_df = construct_anno_features_xon17_gpd(\"dummy_patient\", [mut], False)\n",
    "    append_df = pd.concat([append_df, res_df], ignore_index=True)"
   ]
  },
  {
   "cell_type": "code",
   "execution_count": null,
   "id": "3a738871",
   "metadata": {},
   "outputs": [],
   "source": [
    "append_df # Run interrupted to check if there is any update happening"
   ]
  },
  {
   "cell_type": "code",
   "execution_count": null,
   "id": "8906dfcf",
   "metadata": {},
   "outputs": [],
   "source": [
    "len(set(ccle_mutations_filtered.mutation) - (set(agg_anno_features_combined_df.index)) | set(append_df.input))"
   ]
  },
  {
   "cell_type": "code",
   "execution_count": null,
   "id": "b05eee86",
   "metadata": {},
   "outputs": [],
   "source": [
    "# whatever is left ~ 22k mutations\n",
    "\n",
    "remaining_df = pd.DataFrame()\n",
    "for mut in set(ccle_mutations_filtered.mutation) - (set(agg_anno_features_combined_df.index) | set(append_df.input)):\n",
    "    res_df = construct_anno_features_xon17_gpd(\"dummy_patient\", [mut], False)\n",
    "    remaining_df = pd.concat([remaining_df, res_df], ignore_index=True)"
   ]
  },
  {
   "cell_type": "code",
   "execution_count": null,
   "id": "40ddbc7d",
   "metadata": {},
   "outputs": [],
   "source": [
    "remaining_df"
   ]
  },
  {
   "cell_type": "code",
   "execution_count": null,
   "id": "e92e73e8",
   "metadata": {},
   "outputs": [],
   "source": [
    "## HERE!!!"
   ]
  },
  {
   "cell_type": "code",
   "execution_count": null,
   "id": "4e17c8ee",
   "metadata": {},
   "outputs": [],
   "source": [
    "# mutations without annotations\n",
    "len(set(ccle_mutations_filtered.mutation) - (set(agg_anno_features_combined_df.index) | set(append_df.input) | set(remaining_df.input)))"
   ]
  },
  {
   "cell_type": "code",
   "execution_count": null,
   "id": "408ea4bc",
   "metadata": {},
   "outputs": [],
   "source": [
    "len(set(pd.read_csv(\"../data/processed/anno_features_per_mutation_ccle.csv\")[\"input\"].unique())), \\\n",
    "len(set(agg_anno_features_combined_df.index) | set(append_df.input) | set(remaining_df.input))"
   ]
  },
  {
   "cell_type": "code",
   "execution_count": null,
   "id": "5584a6db",
   "metadata": {},
   "outputs": [],
   "source": [
    "set(pd.read_csv(\"../data/processed/anno_features_per_mutation_ccle.csv\")[\"input\"].unique()) - \\\n",
    "(set(agg_anno_features_combined_df.index) | set(append_df.input) | set(remaining_df.input))"
   ]
  },
  {
   "cell_type": "code",
   "execution_count": null,
   "id": "731ec065",
   "metadata": {},
   "outputs": [],
   "source": [
    "# Overwriting existing anno_features_per_mutation_ccle.csv file\n",
    "concatenated_df = pd.concat([agg_anno_features_combined_df.reset_index(), append_df, remaining_df],ignore_index=True)\n",
    "concatenated_df"
   ]
  },
  {
   "cell_type": "code",
   "execution_count": null,
   "id": "7b789e0e",
   "metadata": {},
   "outputs": [],
   "source": [
    "len(set(concatenated_df[\"input\"]))"
   ]
  },
  {
   "cell_type": "code",
   "execution_count": null,
   "id": "56a8d06c",
   "metadata": {},
   "outputs": [],
   "source": [
    "len(set(ccle_mutations_filtered[\"mutation\"])) # There are ~ 12k mutations that are missing annotations"
   ]
  },
  {
   "cell_type": "code",
   "execution_count": null,
   "id": "0b638df4",
   "metadata": {},
   "outputs": [],
   "source": [
    "concatenated_df.set_index(\"input\", inplace=True, drop=True)"
   ]
  },
  {
   "cell_type": "code",
   "execution_count": null,
   "id": "00f005b9",
   "metadata": {},
   "outputs": [],
   "source": [
    "# concatenated_df.to_csv(\"../data/processed/anno_features_per_mutation_ccle.csv\")"
   ]
  },
  {
   "cell_type": "code",
   "execution_count": null,
   "id": "eef61949",
   "metadata": {},
   "outputs": [],
   "source": [
    "concatenated_df = pd.read_csv(\"../data/processed/anno_features_per_mutation_ccle.csv\", index_col = 0)\n",
    "concatenated_df"
   ]
  },
  {
   "cell_type": "code",
   "execution_count": null,
   "id": "e9cb66f0",
   "metadata": {},
   "outputs": [],
   "source": [
    "ccle_mutations_filtered"
   ]
  },
  {
   "cell_type": "code",
   "execution_count": null,
   "id": "cba81549",
   "metadata": {},
   "outputs": [],
   "source": [
    "len(ccle_mutations_filtered[\"DepMap_ID\"].unique()), ccle_mutations_filtered.shape"
   ]
  },
  {
   "cell_type": "code",
   "execution_count": null,
   "id": "362f1532",
   "metadata": {},
   "outputs": [],
   "source": [
    "merged_1 = pd.merge(ccle_mutations_filtered, concatenated_df.reset_index(), left_on = \"mutation\", right_on=\"input\", how=\"left\")\n",
    "merged_1"
   ]
  },
  {
   "cell_type": "code",
   "execution_count": null,
   "id": "7f53298a",
   "metadata": {},
   "outputs": [],
   "source": [
    "merged_1.drop(\"input\", axis = 1, inplace=True)\n",
    "merged_1.isna().sum()"
   ]
  },
  {
   "cell_type": "code",
   "execution_count": null,
   "id": "c2e3f547",
   "metadata": {},
   "outputs": [],
   "source": [
    "# For those point mutations without annotations\n",
    "merged_1.fillna(0, inplace=True)"
   ]
  },
  {
   "cell_type": "code",
   "execution_count": null,
   "id": "063bb52b",
   "metadata": {},
   "outputs": [],
   "source": [
    "merged_1"
   ]
  },
  {
   "cell_type": "code",
   "execution_count": null,
   "id": "f6968129",
   "metadata": {},
   "outputs": [],
   "source": [
    "merged_1[\"HGVSp\"] = merged_1[\"mutation\"].apply(lambda x: \"p.\" + x.split(\" \")[1] if len(x.split(\" \")) >= 2 else \"p.\")"
   ]
  },
  {
   "cell_type": "code",
   "execution_count": null,
   "id": "e7eb4061",
   "metadata": {},
   "outputs": [],
   "source": [
    "len(merged_1[\"HGVSp\"].unique())"
   ]
  },
  {
   "cell_type": "code",
   "execution_count": null,
   "id": "49f21989",
   "metadata": {},
   "outputs": [],
   "source": [
    "len(merged_1[\"mutation\"].unique()) # this includes gene name as well"
   ]
  },
  {
   "cell_type": "markdown",
   "id": "9c03da0a",
   "metadata": {},
   "source": [
    "### ClinVar annotations"
   ]
  },
  {
   "cell_type": "code",
   "execution_count": null,
   "id": "91d5d269",
   "metadata": {},
   "outputs": [],
   "source": [
    "import tempfile\n",
    "import logging\n",
    "import subprocess\n",
    "ANNOTATION_SCRIPT_PATH_CLINVAR = \"../script/goAAtoGv2_clinvar.sh\""
   ]
  },
  {
   "cell_type": "code",
   "execution_count": null,
   "id": "f8febcb6",
   "metadata": {},
   "outputs": [],
   "source": [
    "results = []\n",
    "for mutation in list(merged_1[\"mutation\"]):\n",
    "    try:\n",
    "        # Run annotation script within a temp file and extract features as DataFrame\n",
    "        with tempfile.TemporaryDirectory() as tmpdirname:\n",
    "            input_file_path = tmpdirname + \"anno_input.txt\"\n",
    "            with open(input_file_path, \"w+\") as input_file:\n",
    "                mutation_cleaned = [part for part in mutation.split(\" \") if part]\n",
    "                input_file.write(\":p.\".join(mutation_cleaned))\n",
    "                input_file.write(\"\\n\")\n",
    "\n",
    "            # Execute script\n",
    "            cmd = \"bash {0} {1}\".format(ANNOTATION_SCRIPT_PATH_CLINVAR, input_file_path)\n",
    "\n",
    "            logging.info(f\"Executing command {cmd}\")\n",
    "            subprocess.call(cmd, shell=True, executable=\"/bin/bash\")\n",
    "            out_file_path = f\"{input_file_path}.annot.hg38_finalannot.txt\"\n",
    "            res = pd.read_table(out_file_path)\n",
    "    # Some inputs lead to errors, such as \"PTEN loss\" - ignore and continue processing\n",
    "    except Exception as e:\n",
    "        logging.error(\n",
    "            f\"Encountered error while processing mutation {mutation} - {e}\"\n",
    "        )\n",
    "        continue\n",
    "    res[\"input\"] = mutation\n",
    "    res = res[~res.duplicated()]\n",
    "    results.append(res)\n",
    "clinvar_annot_df = pd.concat(results)\n",
    "clinvar_annot_df.set_index([\"input\"], inplace=True)\n",
    "clinvar_annot_df.drop(columns=[\"Otherinfo1\"], inplace=True)"
   ]
  },
  {
   "cell_type": "code",
   "execution_count": null,
   "id": "e741cdd1",
   "metadata": {},
   "outputs": [],
   "source": [
    "len(results)"
   ]
  },
  {
   "cell_type": "code",
   "execution_count": null,
   "id": "3cc1b0e7",
   "metadata": {},
   "outputs": [],
   "source": [
    "clinvar_annot_df = pd.concat(results)\n",
    "clinvar_annot_df.set_index([\"input\"], inplace=True)\n",
    "clinvar_annot_df.drop(columns=[\"Otherinfo1\"], inplace=True)"
   ]
  },
  {
   "cell_type": "code",
   "execution_count": null,
   "id": "3391120d",
   "metadata": {},
   "outputs": [],
   "source": [
    "clinvar_annot_df"
   ]
  },
  {
   "cell_type": "code",
   "execution_count": null,
   "id": "9214d504",
   "metadata": {},
   "outputs": [],
   "source": [
    "clinvar_annot_df.CLNSIG.value_counts()"
   ]
  },
  {
   "cell_type": "code",
   "execution_count": null,
   "id": "336e78fd",
   "metadata": {},
   "outputs": [],
   "source": [
    "remaining_mut = list(set(merged_1[\"mutation\"]) - set(clinvar_annot_df.index))\n",
    "len(set(merged_1[\"mutation\"]) - set(clinvar_annot_df.index))"
   ]
  },
  {
   "cell_type": "code",
   "execution_count": null,
   "id": "4fc9a8d6",
   "metadata": {},
   "outputs": [],
   "source": [
    "# one more round with all the mutations that were missed out before the earlier interrupt\n",
    "results2 = []\n",
    "for mutation in remaining_mut:\n",
    "    try:\n",
    "        # Run annotation script within a temp file and extract features as DataFrame\n",
    "        with tempfile.TemporaryDirectory() as tmpdirname:\n",
    "            input_file_path = tmpdirname + \"anno_input.txt\"\n",
    "            with open(input_file_path, \"w+\") as input_file:\n",
    "                mutation_cleaned = [part for part in mutation.split(\" \") if part]\n",
    "                input_file.write(\":p.\".join(mutation_cleaned))\n",
    "                input_file.write(\"\\n\")\n",
    "\n",
    "            # Execute script\n",
    "            cmd = \"bash {0} {1}\".format(ANNOTATION_SCRIPT_PATH_CLINVAR, input_file_path)\n",
    "\n",
    "            logging.info(f\"Executing command {cmd}\")\n",
    "            subprocess.call(cmd, shell=True, executable=\"/bin/bash\")\n",
    "            out_file_path = f\"{input_file_path}.annot.hg38_finalannot.txt\"\n",
    "            res = pd.read_table(out_file_path)\n",
    "    # Some inputs lead to errors, such as \"PTEN loss\" - ignore and continue processing\n",
    "    except Exception as e:\n",
    "        logging.error(\n",
    "            f\"Encountered error while processing mutation {mutation} - {e}\"\n",
    "        )\n",
    "        continue\n",
    "    res[\"input\"] = mutation\n",
    "    res = res[~res.duplicated()]\n",
    "    results2.append(res)"
   ]
  },
  {
   "cell_type": "code",
   "execution_count": null,
   "id": "f2e28630",
   "metadata": {},
   "outputs": [],
   "source": [
    "clinvar_annot_df2 = pd.concat(results2)\n",
    "clinvar_annot_df2.set_index([\"input\"], inplace=True)\n",
    "clinvar_annot_df2.drop(columns=[\"Otherinfo1\"], inplace=True)\n",
    "clinvar_annot_df2"
   ]
  },
  {
   "cell_type": "code",
   "execution_count": null,
   "id": "cdfc8cd2",
   "metadata": {},
   "outputs": [],
   "source": [
    "clinvar_annot_df_overall = pd.concat([clinvar_annot_df, clinvar_annot_df2], axis = 0)\n",
    "clinvar_annot_df_overall"
   ]
  },
  {
   "cell_type": "code",
   "execution_count": null,
   "id": "93b36af2",
   "metadata": {},
   "outputs": [],
   "source": [
    "clinvar_annot_df_overall.CLNSIG.value_counts()"
   ]
  },
  {
   "cell_type": "code",
   "execution_count": null,
   "id": "d34a21fd",
   "metadata": {},
   "outputs": [],
   "source": [
    "clinvar_annot_df_overall.to_csv(\"../data/processed/clinvar_anno_features_per_mutation_ccle.csv\")"
   ]
  },
  {
   "cell_type": "markdown",
   "id": "d7ba6be4",
   "metadata": {},
   "source": [
    "### Output: Revised Annovar Xon17 score"
   ]
  },
  {
   "cell_type": "code",
   "execution_count": null,
   "id": "84f80a1d",
   "metadata": {},
   "outputs": [],
   "source": [
    "merged_1[\"1plusxon17_score\"] = 1 + merged_1[CATEGORICAL_COLUMNS].sum(axis=1)/17\n",
    "merged_1"
   ]
  },
  {
   "cell_type": "code",
   "execution_count": null,
   "id": "c09ee96b",
   "metadata": {},
   "outputs": [],
   "source": [
    "patient_gene_matrix_xon17 = merged_1.pivot_table(index=\"DepMap_ID\", columns=\"Hugo_Symbol\", values=\"1plusxon17_score\", aggfunc=\"max\")\n",
    "patient_gene_matrix_xon17.fillna(0, inplace=True)\n",
    "patient_gene_matrix_xon17"
   ]
  },
  {
   "cell_type": "code",
   "execution_count": null,
   "id": "37150628",
   "metadata": {},
   "outputs": [],
   "source": [
    "for g in GENES_324:\n",
    "    if g not in patient_gene_matrix_xon17.columns:\n",
    "        patient_gene_matrix_xon17[g] = 0\n",
    "patient_gene_matrix_xon17.shape"
   ]
  },
  {
   "cell_type": "code",
   "execution_count": null,
   "id": "2b9eb157",
   "metadata": {},
   "outputs": [],
   "source": [
    "# patient_gene_matrix_xon17[GENES_324].reset_index().rename(columns={\"DepMap_ID\": \"depmap_id\"}).to_csv(\"../data/processed/ccle_anno_features_xon17.csv\", index=False)"
   ]
  },
  {
   "cell_type": "markdown",
   "id": "ba7b7e7c",
   "metadata": {},
   "source": [
    "### Variant Annotations from GPD"
   ]
  },
  {
   "cell_type": "code",
   "execution_count": null,
   "id": "18cffbed",
   "metadata": {},
   "outputs": [],
   "source": [
    "# Load intermediate GPD files for NPC and PC"
   ]
  },
  {
   "cell_type": "code",
   "execution_count": null,
   "id": "355f55d1",
   "metadata": {},
   "outputs": [],
   "source": [
    "npc_mutations = pd.read_csv(\"../data/processed/ccle_21q3_gpd_results/ccle_21q3_mutation_npc.tsv\", sep=\"\\t\")\n",
    "npc_mutations"
   ]
  },
  {
   "cell_type": "code",
   "execution_count": null,
   "id": "e00e2905",
   "metadata": {},
   "outputs": [],
   "source": [
    "npc_mutations[\"HGVSp\"].value_counts(dropna=False)"
   ]
  },
  {
   "cell_type": "code",
   "execution_count": null,
   "id": "0fbd6899",
   "metadata": {},
   "outputs": [],
   "source": [
    "npc_mutations[\"Variant_Classification\"].value_counts(dropna=False)"
   ]
  },
  {
   "cell_type": "code",
   "execution_count": null,
   "id": "3055a683",
   "metadata": {},
   "outputs": [],
   "source": [
    "pc_mutations = pd.read_csv(\"../data/processed/ccle_21q3_gpd_results/ccle_21q3_mutation_pc_pos.tsv\", sep=\"\\t\")\n",
    "pc_mutations"
   ]
  },
  {
   "cell_type": "code",
   "execution_count": null,
   "id": "7b0ae08d",
   "metadata": {},
   "outputs": [],
   "source": [
    "pc_mutations[\"Variant_Classification\"].value_counts(dropna=False)"
   ]
  },
  {
   "cell_type": "code",
   "execution_count": null,
   "id": "ca8fdb6f",
   "metadata": {},
   "outputs": [],
   "source": [
    "# To get PIU vs LU, we used the locations in ptm_pfam_combine.csv which is used in the GPD implementation\n",
    "ptm_pfam_df = pd.read_csv(\"/data/ajayago/druid/datasets/ptm_pfam_combine.csv\", index_col = 0)\n",
    "ptm_pfam_df"
   ]
  },
  {
   "cell_type": "code",
   "execution_count": null,
   "id": "d67aa256",
   "metadata": {},
   "outputs": [],
   "source": [
    "GPD_unit = []\n",
    "for idx, row in pc_mutations.iterrows():\n",
    "    subset_ptm = ptm_pfam_df[ptm_pfam_df.gene_id == row[\"Gene\"]]\n",
    "    x = \"LU\"\n",
    "    for idx, r in subset_ptm.iterrows():\n",
    "        if (row[\"prot_start_pos\"] >= r[\"start_position\"]) & (row[\"prot_start_pos\"] <= r[\"end_position\"]) \\\n",
    "    | (row[\"prot_end_pos\"] >= r[\"start_position\"]) & (row[\"prot_end_pos\"] <= r[\"end_position\"]):\n",
    "            x = \"PIU\"\n",
    "            break\n",
    "    GPD_unit.append(x)\n",
    "\n",
    "pc_mutations[\"GPD_unit\"] = GPD_unit"
   ]
  },
  {
   "cell_type": "code",
   "execution_count": null,
   "id": "501d9ba8",
   "metadata": {},
   "outputs": [],
   "source": [
    "pc_mutations[\"GPD_unit\"].value_counts()"
   ]
  },
  {
   "cell_type": "code",
   "execution_count": null,
   "id": "cfa208e9",
   "metadata": {},
   "outputs": [],
   "source": [
    "piu_mutations = set(pc_mutations[pc_mutations[\"GPD_unit\"] == \"PIU\"][\"Hugo_Symbol\"] + \" \" + pc_mutations[pc_mutations[\"GPD_unit\"] == \"PIU\"][\"HGVSp\"].apply(lambda x: x.split(\"p.\")[1]))\n",
    "lu_mutations = set(pc_mutations[pc_mutations[\"GPD_unit\"] == \"LU\"][\"Hugo_Symbol\"] + \" \" + pc_mutations[pc_mutations[\"GPD_unit\"] == \"LU\"][\"HGVSp\"].apply(lambda x: x.split(\"p.\")[1]))\n",
    "len(piu_mutations), len(lu_mutations)"
   ]
  },
  {
   "cell_type": "code",
   "execution_count": null,
   "id": "3bc5c1f2",
   "metadata": {},
   "outputs": [],
   "source": [
    "# Map each point mutation to PIU/LU or NCU\n",
    "GPD_unit_merged1 = []\n",
    "for idx, row in merged_1.iterrows():\n",
    "    if row[\"mutation\"] in (piu_mutations):\n",
    "        GPD_unit_merged1.append(\"PIU\")\n",
    "    elif row[\"mutation\"] in (lu_mutations):\n",
    "        GPD_unit_merged1.append(\"LU\")\n",
    "    else:\n",
    "        GPD_unit_merged1.append(\"NCU\")"
   ]
  },
  {
   "cell_type": "code",
   "execution_count": null,
   "id": "efff8c74",
   "metadata": {},
   "outputs": [],
   "source": [
    "merged_1[\"GPD_unit\"] = GPD_unit_merged1"
   ]
  },
  {
   "cell_type": "code",
   "execution_count": null,
   "id": "c0deda8c",
   "metadata": {},
   "outputs": [],
   "source": [
    "merged_1"
   ]
  },
  {
   "cell_type": "markdown",
   "id": "158f43b0",
   "metadata": {},
   "source": [
    "### Output: GPD based Annovar annotation"
   ]
  },
  {
   "cell_type": "code",
   "execution_count": null,
   "id": "286e9eba",
   "metadata": {},
   "outputs": [],
   "source": [
    "patient_gene_matrix_xon17_piu = merged_1[merged_1.GPD_unit == \"PIU\"].pivot_table(index=\"DepMap_ID\", columns=\"Hugo_Symbol\", values=\"1plusxon17_score\", aggfunc=\"max\")\n",
    "patient_gene_matrix_xon17_piu.fillna(0, inplace=True)\n",
    "for g in GENES_324:\n",
    "    if g not in patient_gene_matrix_xon17_piu.columns:\n",
    "        patient_gene_matrix_xon17_piu[g] = 0\n",
    "\n",
    "patient_gene_matrix_xon17_piu"
   ]
  },
  {
   "cell_type": "code",
   "execution_count": null,
   "id": "4a3c9d6a",
   "metadata": {},
   "outputs": [],
   "source": [
    "patient_gene_matrix_xon17_lu = merged_1[merged_1.GPD_unit == \"LU\"].pivot_table(index=\"DepMap_ID\", columns=\"Hugo_Symbol\", values=\"1plusxon17_score\", aggfunc=\"max\")\n",
    "patient_gene_matrix_xon17_lu.fillna(0, inplace=True)\n",
    "for g in GENES_324:\n",
    "    if g not in patient_gene_matrix_xon17_lu.columns:\n",
    "        patient_gene_matrix_xon17_lu[g] = 0\n",
    "patient_gene_matrix_xon17_lu"
   ]
  },
  {
   "cell_type": "code",
   "execution_count": null,
   "id": "e78ca37c",
   "metadata": {},
   "outputs": [],
   "source": [
    "patient_gene_matrix_xon17_ncu = merged_1[merged_1.GPD_unit == \"NCU\"].pivot_table(index=\"DepMap_ID\", columns=\"Hugo_Symbol\", values=\"1plusxon17_score\", aggfunc=\"max\")\n",
    "patient_gene_matrix_xon17_ncu.fillna(0, inplace=True)\n",
    "for g in GENES_324:\n",
    "    if g not in patient_gene_matrix_xon17_ncu.columns:\n",
    "        patient_gene_matrix_xon17_ncu[g] = 0\n",
    "patient_gene_matrix_xon17_ncu"
   ]
  },
  {
   "cell_type": "code",
   "execution_count": null,
   "id": "38d0e9b4",
   "metadata": {},
   "outputs": [],
   "source": [
    "patient_gene_matrix_xon17_piu.shape, patient_gene_matrix_xon17_lu.shape, patient_gene_matrix_xon17_ncu.shape"
   ]
  },
  {
   "cell_type": "code",
   "execution_count": null,
   "id": "9150a65b",
   "metadata": {},
   "outputs": [],
   "source": [
    "len(set(patient_gene_matrix_xon17.index) - set(patient_gene_matrix_xon17_piu.index))"
   ]
  },
  {
   "cell_type": "code",
   "execution_count": null,
   "id": "d2443870",
   "metadata": {},
   "outputs": [],
   "source": [
    "# Add in missing patient IDs in each matrix\n",
    "patient_gene_matrix_xon17_piu.reset_index(inplace=True)\n",
    "patient_gene_matrix_xon17_lu.reset_index(inplace=True)\n",
    "patient_gene_matrix_xon17_ncu.reset_index(inplace=True)\n",
    "for t in set(patient_gene_matrix_xon17.index) - set(patient_gene_matrix_xon17_piu.DepMap_ID):\n",
    "    patient_gene_matrix_xon17_piu = (patient_gene_matrix_xon17_piu.append({\"DepMap_ID\": t}, ignore_index=True))\n",
    "patient_gene_matrix_xon17_piu.set_index(\"DepMap_ID\", inplace=True)    \n",
    "for t in set(patient_gene_matrix_xon17.index) - set(patient_gene_matrix_xon17_lu.DepMap_ID):\n",
    "    patient_gene_matrix_xon17_lu = (patient_gene_matrix_xon17_lu.append({\"DepMap_ID\": t}, ignore_index=True))\n",
    "patient_gene_matrix_xon17_lu.set_index(\"DepMap_ID\", inplace=True)\n",
    "for t in set(patient_gene_matrix_xon17.index) - set(patient_gene_matrix_xon17_ncu.DepMap_ID):\n",
    "    patient_gene_matrix_xon17_ncu = (patient_gene_matrix_xon17_ncu.append({\"DepMap_ID\": t}, ignore_index=True))\n",
    "patient_gene_matrix_xon17_ncu.set_index(\"DepMap_ID\", inplace=True)  "
   ]
  },
  {
   "cell_type": "code",
   "execution_count": null,
   "id": "ea12e517",
   "metadata": {},
   "outputs": [],
   "source": [
    "patient_gene_matrix_xon17_piu.shape, patient_gene_matrix_xon17_lu.shape, patient_gene_matrix_xon17_ncu.shape"
   ]
  },
  {
   "cell_type": "code",
   "execution_count": null,
   "id": "ea503a64",
   "metadata": {},
   "outputs": [],
   "source": [
    "patient_gene_matrix_xon17_piu.drop(\"index\", axis =1, inplace=True)\n",
    "patient_gene_matrix_xon17_lu.drop(\"index\", axis =1, inplace=True)\n",
    "patient_gene_matrix_xon17_ncu.drop(\"index\", axis =1, inplace=True)"
   ]
  },
  {
   "cell_type": "code",
   "execution_count": null,
   "id": "9b0d4790",
   "metadata": {},
   "outputs": [],
   "source": [
    "patient_gene_matrix_xon17_piu.fillna(0, inplace=True)\n",
    "patient_gene_matrix_xon17_lu.fillna(0, inplace=True)\n",
    "patient_gene_matrix_xon17_ncu.fillna(0, inplace=True)"
   ]
  },
  {
   "cell_type": "code",
   "execution_count": null,
   "id": "a93180b2",
   "metadata": {},
   "outputs": [],
   "source": [
    "patient_gene_matrix_xon17_piu.loc[patient_gene_matrix_xon17.index][GENES_324].to_csv(\"../data/processed/xon17_gpd_annotations/ccle_21q3_piu_annotated_df.csv\")"
   ]
  },
  {
   "cell_type": "code",
   "execution_count": null,
   "id": "ccff9834",
   "metadata": {},
   "outputs": [],
   "source": [
    "patient_gene_matrix_xon17_lu.loc[patient_gene_matrix_xon17.index][GENES_324].to_csv(\"../data/processed/xon17_gpd_annotations/ccle_21q3_lu_annotated_df.csv\")"
   ]
  },
  {
   "cell_type": "code",
   "execution_count": null,
   "id": "a0635cab",
   "metadata": {},
   "outputs": [],
   "source": [
    "patient_gene_matrix_xon17_ncu.loc[patient_gene_matrix_xon17.index][GENES_324].to_csv(\"../data/processed/xon17_gpd_annotations/ccle_21q3_ncu_annotated_df.csv\")"
   ]
  },
  {
   "cell_type": "code",
   "execution_count": null,
   "id": "9be93a8a",
   "metadata": {},
   "outputs": [],
   "source": [
    "pd.read_csv(\"../data/processed/xon17_gpd_annotations/ccle_21q3_piu_annotated_df.csv\").set_index(\"DepMap_ID\")"
   ]
  },
  {
   "cell_type": "code",
   "execution_count": null,
   "id": "969f8036",
   "metadata": {},
   "outputs": [],
   "source": [
    "merged_1.to_csv(\"../data/processed/ccle_21q3_annovar_gpd_annot_per_patient_per_mutation.csv\", index=False)"
   ]
  },
  {
   "cell_type": "markdown",
   "id": "2d0958fe",
   "metadata": {},
   "source": [
    "#### Combine Clinvar annotation, Annovar and GPD annotations"
   ]
  },
  {
   "cell_type": "code",
   "execution_count": null,
   "id": "abf3830e",
   "metadata": {},
   "outputs": [],
   "source": [
    "merged_clinvar_df = pd.merge(merged_1, clinvar_annot_df_overall.reset_index(), left_on=\"mutation\", right_on=\"input\", how=\"outer\").groupby(\"mutation\").aggregate(max)"
   ]
  },
  {
   "cell_type": "code",
   "execution_count": null,
   "id": "9c9e3b11",
   "metadata": {},
   "outputs": [],
   "source": [
    "merged_clinvar_df[(merged_clinvar_df.CLNSIG != \".\")&(~merged_clinvar_df.CLNSIG.isna())&(merged_clinvar_df.CLNSIG==\"Pathogenic\")][[\"GPD_unit\", \"CLNSIG\", ]]"
   ]
  },
  {
   "cell_type": "code",
   "execution_count": null,
   "id": "4492798e",
   "metadata": {},
   "outputs": [],
   "source": [
    "merged_clinvar_df.groupby([\"GPD_unit\", \"CLNSIG\"]).aggregate(\"count\")"
   ]
  },
  {
   "cell_type": "code",
   "execution_count": null,
   "id": "9cdfa42b",
   "metadata": {},
   "outputs": [],
   "source": [
    "merged_clinvar_df.columns"
   ]
  },
  {
   "cell_type": "code",
   "execution_count": null,
   "id": "bbc47776",
   "metadata": {},
   "outputs": [],
   "source": [
    "merged_1[merged_1.mutation == \"ABL1 G259G\"]"
   ]
  },
  {
   "cell_type": "code",
   "execution_count": null,
   "id": "ca0859ab",
   "metadata": {},
   "outputs": [],
   "source": [
    "merged_1[\"1plusxon17_score\"] = 1 + merged_1[CATEGORICAL_COLUMNS].sum(axis=1)/17\n",
    "merged_1"
   ]
  },
  {
   "cell_type": "code",
   "execution_count": null,
   "id": "0454cb40",
   "metadata": {},
   "outputs": [],
   "source": [
    "merged_1[merged_1.mutation == \"AKT1 E17K\"]"
   ]
  },
  {
   "cell_type": "code",
   "execution_count": null,
   "id": "49c00815",
   "metadata": {},
   "outputs": [],
   "source": []
  }
 ],
 "metadata": {
  "kernelspec": {
   "display_name": "Python [conda env:base2] *",
   "language": "python",
   "name": "conda-env-base2-py"
  },
  "language_info": {
   "codemirror_mode": {
    "name": "ipython",
    "version": 3
   },
   "file_extension": ".py",
   "mimetype": "text/x-python",
   "name": "python",
   "nbconvert_exporter": "python",
   "pygments_lexer": "ipython3",
   "version": "3.9.12"
  }
 },
 "nbformat": 4,
 "nbformat_minor": 5
}
