{
 "cells": [
  {
   "cell_type": "markdown",
   "id": "5f60f8f3",
   "metadata": {},
   "source": [
    "This notebook takes the ClinVar, GPD and Annovar annotations for each dataset and generates processed files for training. Each variant is put into 1 of 6 bins - PIU/LU/NCU and Pathogenic/VUS/Benign. Within each bucket, all variants in the same gene for a patient are aggregated using count(variants), max(Annovar score), sum(Annovar score) and mean(Annovar score)."
   ]
  },
  {
   "cell_type": "code",
   "execution_count": null,
   "id": "b0911701",
   "metadata": {},
   "outputs": [],
   "source": [
    "import pandas as pd\n",
    "import numpy as np"
   ]
  },
  {
   "cell_type": "code",
   "execution_count": null,
   "id": "4f4e74df",
   "metadata": {},
   "outputs": [],
   "source": [
    "import warnings\n",
    "warnings.filterwarnings(\"ignore\")"
   ]
  },
  {
   "cell_type": "code",
   "execution_count": null,
   "id": "210bcb1e",
   "metadata": {},
   "outputs": [],
   "source": [
    "PATHOGENIC_ANNOTATIONS = [\n",
    "    \"Pathogenic\",\n",
    "    \"Pathogenic|drug_response|other\",\n",
    "    \"Pathogenic/Likely_pathogenic\",\n",
    "    \"Likely_pathogenic\",\n",
    "    \"Pathogenic/Likely_pathogenic|other\",\n",
    "    \"drug_response\",\n",
    "    \"Likely_pathogenic|other\",\n",
    "    \"Pathogenic|risk_factor\",\n",
    "    \"Pathogenic/Likely_pathogenic|drug_response\",\n",
    "    \"Likely_risk_allele\",\n",
    "    \"risk_factor\",\n",
    "]\n",
    "VUS_ANNOTATIONS = [\n",
    "    \".\",\n",
    "    \"Uncertain_significance\",\n",
    "    \"Conflicting_interpretations_of_pathogenicity\",\n",
    "    \"not_provided\",\n",
    "    \"Conflicting_interpretations_of_pathogenicity|other\",\n",
    "    \"Uncertain_significance|drug_response\",\n",
    "    \"other\",\n",
    "]\n",
    "BENIGN_ANNOTATIONS = [\n",
    "    \"Likely_benign\",\n",
    "    \"Benign/Likely_benign\",\n",
    "    \"Benign\",\n",
    "]"
   ]
  },
  {
   "cell_type": "code",
   "execution_count": null,
   "id": "034978e0",
   "metadata": {},
   "outputs": [],
   "source": [
    "def get_clinvar_supercategory(x):\n",
    "    if x in PATHOGENIC_ANNOTATIONS:\n",
    "        return \"Pathogenic\"\n",
    "    elif x in VUS_ANNOTATIONS:\n",
    "        return \"VUS\"\n",
    "    elif x in BENIGN_ANNOTATIONS:\n",
    "        return \"Benign\"\n",
    "    else:\n",
    "        return \"NA\""
   ]
  },
  {
   "cell_type": "code",
   "execution_count": null,
   "id": "f00c2f44",
   "metadata": {},
   "outputs": [],
   "source": [
    "GENES_324 = list(pd.read_csv(\"../data/raw/gene2ind.txt\", header=None)[0])"
   ]
  },
  {
   "cell_type": "code",
   "execution_count": null,
   "id": "5b27b4e0",
   "metadata": {},
   "outputs": [],
   "source": [
    "def get_matrices(df, merged_df, criteria=\"GPD_unit\", criteria_value=\"PIU\", index_name = \"DepMap_ID\", column_name = \"Hugo_Symbol\"):\n",
    "    df_reduced = df[df[criteria] == criteria_value]\n",
    "    df_reduced_matrix = pd.pivot_table(df_reduced, index=index_name, columns=column_name, values=\"xon17_score\")\n",
    "    print(df_reduced_matrix.shape)\n",
    "    \n",
    "    # Adding missing features from GENES_324 and replacing NaNs with 0 and adding patients across all\n",
    "    for g in GENES_324:\n",
    "        if g not in df_reduced_matrix.columns:\n",
    "            df_reduced_matrix[g] = 0\n",
    "\n",
    "    all_patients = list(merged_df[index_name].unique())\n",
    "    df_reduced_matrix = df_reduced_matrix.reset_index()\n",
    "    for p in set(all_patients) - set(df_reduced_matrix[index_name]):\n",
    "        df_reduced_matrix = df_reduced_matrix.append({index_name: p}, ignore_index=True)\n",
    "\n",
    "    df_reduced_matrix.set_index(index_name, drop=True, inplace=True)\n",
    "    df_reduced_matrix.fillna(0, inplace=True)\n",
    "    df_reduced_matrix = df_reduced_matrix.sort_index()[GENES_324]\n",
    "    \n",
    "    return df_reduced_matrix"
   ]
  },
  {
   "cell_type": "markdown",
   "id": "ae681ff3",
   "metadata": {},
   "source": [
    "### CCLE dataset"
   ]
  },
  {
   "cell_type": "code",
   "execution_count": null,
   "id": "70c2e011",
   "metadata": {},
   "outputs": [],
   "source": [
    "ccle_annovar_gpd_annotated_df = pd.read_csv(\"../data/processed/ccle_21q3_annovar_gpd_annot_per_patient_per_mutation.csv\",)\n",
    "ccle_annovar_gpd_annotated_df"
   ]
  },
  {
   "cell_type": "code",
   "execution_count": null,
   "id": "d4e6833a",
   "metadata": {},
   "outputs": [],
   "source": [
    "ccle_annovar_gpd_annotated_df[\"xon17_score\"] = ccle_annovar_gpd_annotated_df[\"1plusxon17_score\"] - 1 # remvoing the 1\n",
    "ccle_annovar_gpd_annotated_df"
   ]
  },
  {
   "cell_type": "code",
   "execution_count": null,
   "id": "a6064d35",
   "metadata": {},
   "outputs": [],
   "source": [
    "ccle_clinvar_df = pd.read_csv(\"../data/processed/clinvar_anno_features_per_mutation_ccle.csv\", index_col=0)\n",
    "ccle_clinvar_df"
   ]
  },
  {
   "cell_type": "code",
   "execution_count": null,
   "id": "da4d9868",
   "metadata": {},
   "outputs": [],
   "source": [
    "ccle_clinvar_df.CLNSIG.value_counts()"
   ]
  },
  {
   "cell_type": "code",
   "execution_count": null,
   "id": "38afc1f3",
   "metadata": {},
   "outputs": [],
   "source": [
    "# remove duplicate mappings from input to ClinVar annotations\n",
    "ccle_clinvar_df = ccle_clinvar_df.reset_index().drop_duplicates(subset=[\"input\"])\n",
    "ccle_clinvar_df.shape"
   ]
  },
  {
   "cell_type": "code",
   "execution_count": null,
   "id": "6a32ef9b",
   "metadata": {},
   "outputs": [],
   "source": [
    "ccle_clinvar_df[\"ClinVar_annotations_categorized\"] = ccle_clinvar_df[\"CLNSIG\"].apply(get_clinvar_supercategory)\n",
    "ccle_clinvar_df[\"ClinVar_annotations_categorized\"].value_counts()"
   ]
  },
  {
   "cell_type": "code",
   "execution_count": null,
   "id": "833c3ee4",
   "metadata": {},
   "outputs": [],
   "source": [
    "merged_ccle = pd.merge(ccle_annovar_gpd_annotated_df, ccle_clinvar_df, left_on = \"mutation\", right_on=\"input\", how=\"left\")\n",
    "merged_ccle"
   ]
  },
  {
   "cell_type": "code",
   "execution_count": null,
   "id": "524fc339",
   "metadata": {},
   "outputs": [],
   "source": [
    "merged_ccle.Hugo_Symbol.isna().sum() # to ensure no NaNs exist"
   ]
  },
  {
   "cell_type": "markdown",
   "id": "4684baef",
   "metadata": {},
   "source": [
    "#### GPD based features"
   ]
  },
  {
   "cell_type": "code",
   "execution_count": null,
   "id": "b16f5c3a",
   "metadata": {},
   "outputs": [],
   "source": [
    "# Max feature\n",
    "ccle_gpd_max = merged_ccle.groupby([\"DepMap_ID\", \"Hugo_Symbol\", \"GPD_unit\"]).aggregate(\"max\")[[\"xon17_score\"]].reset_index()\n",
    "ccle_gpd_max"
   ]
  },
  {
   "cell_type": "code",
   "execution_count": null,
   "id": "483738d9",
   "metadata": {},
   "outputs": [],
   "source": [
    "ccle_gpd_max_lu_matrix = get_matrices(ccle_gpd_max, merged_ccle, criteria=\"GPD_unit\", criteria_value=\"LU\", index_name='DepMap_ID', column_name='Hugo_Symbol')\n",
    "ccle_gpd_max_piu_matrix = get_matrices(ccle_gpd_max, merged_ccle, criteria=\"GPD_unit\", criteria_value=\"PIU\", index_name='DepMap_ID', column_name='Hugo_Symbol')\n",
    "ccle_gpd_max_ncu_matrix = get_matrices(ccle_gpd_max, merged_ccle, criteria=\"GPD_unit\", criteria_value=\"NCU\", index_name='DepMap_ID', column_name='Hugo_Symbol')\n",
    "print(ccle_gpd_max_lu_matrix.shape)\n",
    "print(ccle_gpd_max_piu_matrix.shape)\n",
    "print(ccle_gpd_max_ncu_matrix.shape)"
   ]
  },
  {
   "cell_type": "code",
   "execution_count": null,
   "id": "eb824937",
   "metadata": {},
   "outputs": [],
   "source": [
    "# Sum feature\n",
    "ccle_gpd_sum = merged_ccle.groupby([\"DepMap_ID\", \"Hugo_Symbol\", \"GPD_unit\"]).aggregate(\"sum\")[[\"xon17_score\"]].reset_index()\n",
    "ccle_gpd_sum"
   ]
  },
  {
   "cell_type": "code",
   "execution_count": null,
   "id": "cf54285b",
   "metadata": {},
   "outputs": [],
   "source": [
    "ccle_gpd_sum_lu_matrix = get_matrices(ccle_gpd_sum, merged_ccle, criteria=\"GPD_unit\", criteria_value=\"LU\", index_name='DepMap_ID', column_name='Hugo_Symbol')\n",
    "ccle_gpd_sum_piu_matrix = get_matrices(ccle_gpd_sum, merged_ccle, criteria=\"GPD_unit\", criteria_value=\"PIU\", index_name='DepMap_ID', column_name='Hugo_Symbol')\n",
    "ccle_gpd_sum_ncu_matrix = get_matrices(ccle_gpd_sum, merged_ccle, criteria=\"GPD_unit\", criteria_value=\"NCU\", index_name='DepMap_ID', column_name='Hugo_Symbol')\n",
    "print(ccle_gpd_sum_lu_matrix.shape)\n",
    "print(ccle_gpd_sum_piu_matrix.shape)\n",
    "print(ccle_gpd_sum_ncu_matrix.shape)"
   ]
  },
  {
   "cell_type": "code",
   "execution_count": null,
   "id": "9a832678",
   "metadata": {},
   "outputs": [],
   "source": [
    "# Mean feature\n",
    "ccle_gpd_mean = merged_ccle.groupby([\"DepMap_ID\", \"Hugo_Symbol\", \"GPD_unit\"]).aggregate(\"mean\")[[\"xon17_score\"]].reset_index()\n",
    "ccle_gpd_mean"
   ]
  },
  {
   "cell_type": "code",
   "execution_count": null,
   "id": "c66dc905",
   "metadata": {},
   "outputs": [],
   "source": [
    "ccle_gpd_mean_lu_matrix = get_matrices(ccle_gpd_mean, merged_ccle, criteria=\"GPD_unit\", criteria_value=\"LU\", index_name='DepMap_ID', column_name='Hugo_Symbol')\n",
    "ccle_gpd_mean_piu_matrix = get_matrices(ccle_gpd_mean, merged_ccle, criteria=\"GPD_unit\", criteria_value=\"PIU\", index_name='DepMap_ID', column_name='Hugo_Symbol')\n",
    "ccle_gpd_mean_ncu_matrix = get_matrices(ccle_gpd_mean, merged_ccle, criteria=\"GPD_unit\", criteria_value=\"NCU\", index_name='DepMap_ID', column_name='Hugo_Symbol')\n",
    "print(ccle_gpd_mean_lu_matrix.shape)\n",
    "print(ccle_gpd_mean_piu_matrix.shape)\n",
    "print(ccle_gpd_mean_ncu_matrix.shape)"
   ]
  },
  {
   "cell_type": "code",
   "execution_count": null,
   "id": "7e9056b2",
   "metadata": {},
   "outputs": [],
   "source": [
    "# Count feature\n",
    "ccle_gpd_count = merged_ccle.groupby([\"DepMap_ID\", \"Hugo_Symbol\", \"GPD_unit\"]).aggregate(\"count\")[[\"xon17_score\"]].reset_index()\n",
    "ccle_gpd_count"
   ]
  },
  {
   "cell_type": "code",
   "execution_count": null,
   "id": "8a2ea054",
   "metadata": {},
   "outputs": [],
   "source": [
    "ccle_gpd_count_lu_matrix = get_matrices(ccle_gpd_count, merged_ccle, criteria=\"GPD_unit\", criteria_value=\"LU\", index_name='DepMap_ID', column_name='Hugo_Symbol')\n",
    "ccle_gpd_count_piu_matrix = get_matrices(ccle_gpd_count, merged_ccle, criteria=\"GPD_unit\", criteria_value=\"PIU\", index_name='DepMap_ID', column_name='Hugo_Symbol')\n",
    "ccle_gpd_count_ncu_matrix = get_matrices(ccle_gpd_count, merged_ccle, criteria=\"GPD_unit\", criteria_value=\"NCU\", index_name='DepMap_ID', column_name='Hugo_Symbol')\n",
    "print(ccle_gpd_count_lu_matrix.shape)\n",
    "print(ccle_gpd_count_piu_matrix.shape)\n",
    "print(ccle_gpd_count_ncu_matrix.shape)"
   ]
  },
  {
   "cell_type": "markdown",
   "id": "86c1ccb4",
   "metadata": {},
   "source": [
    "#### ClinVar based features"
   ]
  },
  {
   "cell_type": "code",
   "execution_count": null,
   "id": "ea033617",
   "metadata": {},
   "outputs": [],
   "source": [
    "# Max feature\n",
    "ccle_clinvar_max = merged_ccle.groupby([\"DepMap_ID\", \"Hugo_Symbol\", \"ClinVar_annotations_categorized\"]).aggregate(\"max\")[[\"xon17_score\"]].reset_index()\n",
    "ccle_clinvar_max"
   ]
  },
  {
   "cell_type": "code",
   "execution_count": null,
   "id": "819f15c0",
   "metadata": {},
   "outputs": [],
   "source": [
    "ccle_clinvar_max_pathogenic_matrix = get_matrices(ccle_clinvar_max, merged_ccle, criteria=\"ClinVar_annotations_categorized\", criteria_value=\"Pathogenic\", index_name='DepMap_ID', column_name='Hugo_Symbol')\n",
    "ccle_clinvar_max_vus_matrix = get_matrices(ccle_clinvar_max, merged_ccle, criteria=\"ClinVar_annotations_categorized\", criteria_value=\"VUS\", index_name='DepMap_ID', column_name='Hugo_Symbol')\n",
    "ccle_clinvar_max_benign_matrix = get_matrices(ccle_clinvar_max, merged_ccle, criteria=\"ClinVar_annotations_categorized\", criteria_value=\"Benign\", index_name='DepMap_ID', column_name='Hugo_Symbol')\n",
    "print(ccle_clinvar_max_pathogenic_matrix.shape)\n",
    "print(ccle_clinvar_max_vus_matrix.shape)\n",
    "print(ccle_clinvar_max_benign_matrix.shape)"
   ]
  },
  {
   "cell_type": "code",
   "execution_count": null,
   "id": "406c9b08",
   "metadata": {},
   "outputs": [],
   "source": [
    "# Sum feature\n",
    "ccle_clinvar_sum = merged_ccle.groupby([\"DepMap_ID\", \"Hugo_Symbol\", \"ClinVar_annotations_categorized\"]).aggregate(\"sum\")[[\"xon17_score\"]].reset_index()\n",
    "ccle_clinvar_sum"
   ]
  },
  {
   "cell_type": "code",
   "execution_count": null,
   "id": "da111f5e",
   "metadata": {},
   "outputs": [],
   "source": [
    "ccle_clinvar_sum_pathogenic_matrix = get_matrices(ccle_clinvar_sum, merged_ccle, criteria=\"ClinVar_annotations_categorized\", criteria_value=\"Pathogenic\", index_name='DepMap_ID', column_name='Hugo_Symbol')\n",
    "ccle_clinvar_sum_vus_matrix = get_matrices(ccle_clinvar_sum, merged_ccle, criteria=\"ClinVar_annotations_categorized\", criteria_value=\"VUS\", index_name='DepMap_ID', column_name='Hugo_Symbol')\n",
    "ccle_clinvar_sum_benign_matrix = get_matrices(ccle_clinvar_sum, merged_ccle, criteria=\"ClinVar_annotations_categorized\", criteria_value=\"Benign\", index_name='DepMap_ID', column_name='Hugo_Symbol')\n",
    "print(ccle_clinvar_sum_pathogenic_matrix.shape)\n",
    "print(ccle_clinvar_sum_vus_matrix.shape)\n",
    "print(ccle_clinvar_sum_benign_matrix.shape)"
   ]
  },
  {
   "cell_type": "code",
   "execution_count": null,
   "id": "3a59142a",
   "metadata": {},
   "outputs": [],
   "source": [
    "# Mean feature\n",
    "ccle_clinvar_mean = merged_ccle.groupby([\"DepMap_ID\", \"Hugo_Symbol\", \"ClinVar_annotations_categorized\"]).aggregate(\"mean\")[[\"xon17_score\"]].reset_index()\n",
    "ccle_clinvar_mean"
   ]
  },
  {
   "cell_type": "code",
   "execution_count": null,
   "id": "f55e8420",
   "metadata": {},
   "outputs": [],
   "source": [
    "ccle_clinvar_mean_pathogenic_matrix = get_matrices(ccle_clinvar_mean, merged_ccle, criteria=\"ClinVar_annotations_categorized\", criteria_value=\"Pathogenic\", index_name='DepMap_ID', column_name='Hugo_Symbol')\n",
    "ccle_clinvar_mean_vus_matrix = get_matrices(ccle_clinvar_mean, merged_ccle, criteria=\"ClinVar_annotations_categorized\", criteria_value=\"VUS\", index_name='DepMap_ID', column_name='Hugo_Symbol')\n",
    "ccle_clinvar_mean_benign_matrix = get_matrices(ccle_clinvar_mean, merged_ccle, criteria=\"ClinVar_annotations_categorized\", criteria_value=\"Benign\", index_name='DepMap_ID', column_name='Hugo_Symbol')\n",
    "print(ccle_clinvar_mean_pathogenic_matrix.shape)\n",
    "print(ccle_clinvar_mean_vus_matrix.shape)\n",
    "print(ccle_clinvar_mean_benign_matrix.shape)"
   ]
  },
  {
   "cell_type": "code",
   "execution_count": null,
   "id": "e2bbd28d",
   "metadata": {},
   "outputs": [],
   "source": [
    "# Count feature\n",
    "ccle_clinvar_count = merged_ccle.groupby([\"DepMap_ID\", \"Hugo_Symbol\", \"ClinVar_annotations_categorized\"]).aggregate(\"count\")[[\"xon17_score\"]].reset_index()\n",
    "ccle_clinvar_count"
   ]
  },
  {
   "cell_type": "code",
   "execution_count": null,
   "id": "58c4b18d",
   "metadata": {},
   "outputs": [],
   "source": [
    "ccle_clinvar_count_pathogenic_matrix = get_matrices(ccle_clinvar_count, merged_ccle, criteria=\"ClinVar_annotations_categorized\", criteria_value=\"Pathogenic\", index_name='DepMap_ID', column_name='Hugo_Symbol')\n",
    "ccle_clinvar_count_vus_matrix = get_matrices(ccle_clinvar_count, merged_ccle, criteria=\"ClinVar_annotations_categorized\", criteria_value=\"VUS\", index_name='DepMap_ID', column_name='Hugo_Symbol')\n",
    "ccle_clinvar_count_benign_matrix = get_matrices(ccle_clinvar_count, merged_ccle, criteria=\"ClinVar_annotations_categorized\", criteria_value=\"Benign\", index_name='DepMap_ID', column_name='Hugo_Symbol')\n",
    "print(ccle_clinvar_count_pathogenic_matrix.shape)\n",
    "print(ccle_clinvar_count_vus_matrix.shape)\n",
    "print(ccle_clinvar_count_benign_matrix.shape)"
   ]
  },
  {
   "cell_type": "code",
   "execution_count": null,
   "id": "cf1a1ca9",
   "metadata": {},
   "outputs": [],
   "source": [
    "# Add suffixes to identify columns\n",
    "ccle_gpd_max_piu_matrix = ccle_gpd_max_piu_matrix.add_suffix('_piu_max')\n",
    "ccle_gpd_sum_piu_matrix = ccle_gpd_sum_piu_matrix.add_suffix(\"_piu_sum\")\n",
    "ccle_gpd_mean_piu_matrix = ccle_gpd_mean_piu_matrix.add_suffix(\"_piu_mean\")\n",
    "ccle_gpd_count_piu_matrix = ccle_gpd_count_piu_matrix.add_suffix(\"_piu_count\")\n",
    "ccle_gpd_max_lu_matrix = ccle_gpd_max_lu_matrix.add_suffix(\"_lu_max\")\n",
    "ccle_gpd_sum_lu_matrix = ccle_gpd_sum_lu_matrix.add_suffix(\"_lu_sum\")\n",
    "ccle_gpd_mean_lu_matrix = ccle_gpd_mean_lu_matrix.add_suffix(\"_lu_mean\")\n",
    "ccle_gpd_count_lu_matrix = ccle_gpd_count_ncu_matrix.add_suffix(\"_lu_count\")\n",
    "ccle_gpd_max_ncu_matrix = ccle_gpd_max_ncu_matrix.add_suffix(\"_ncu_max\")\n",
    "ccle_gpd_sum_ncu_matrix = ccle_gpd_sum_ncu_matrix.add_suffix(\"_ncu_sum\")\n",
    "ccle_gpd_mean_ncu_matrix = ccle_gpd_mean_ncu_matrix.add_suffix(\"_ncu_mean\")\n",
    "ccle_gpd_count_ncu_matrix = ccle_gpd_count_ncu_matrix.add_suffix(\"_ncu_count\")\n",
    "\n",
    "ccle_clinvar_max_pathogenic_matrix = ccle_clinvar_max_pathogenic_matrix.add_suffix(\"_pathogenic_max\")\n",
    "ccle_clinvar_sum_pathogenic_matrix = ccle_clinvar_sum_pathogenic_matrix.add_suffix(\"_pathogenic_sum\")\n",
    "ccle_clinvar_mean_pathogenic_matrix = ccle_clinvar_mean_pathogenic_matrix.add_suffix(\"_pathogenic_mean\")\n",
    "ccle_clinvar_count_pathogenic_matrix = ccle_clinvar_count_pathogenic_matrix.add_suffix(\"_pathogenic_count\")\n",
    "ccle_clinvar_max_vus_matrix = ccle_clinvar_max_vus_matrix.add_suffix(\"_vus_max\")\n",
    "ccle_clinvar_sum_vus_matrix = ccle_clinvar_sum_vus_matrix.add_suffix(\"_vus_sum\")\n",
    "ccle_clinvar_mean_vus_matrix = ccle_clinvar_mean_vus_matrix.add_suffix(\"_vus_mean\")\n",
    "ccle_clinvar_count_vus_matrix = ccle_clinvar_count_vus_matrix.add_suffix(\"_vus_count\")\n",
    "ccle_clinvar_max_benign_matrix = ccle_clinvar_max_benign_matrix.add_suffix(\"_benign_max\")\n",
    "ccle_clinvar_sum_benign_matrix = ccle_clinvar_sum_benign_matrix.add_suffix(\"_benign_sum\")\n",
    "ccle_clinvar_mean_benign_matrix = ccle_clinvar_mean_benign_matrix.add_suffix(\"_benign_mean\")\n",
    "ccle_clinvar_count_benign_matrix = ccle_clinvar_count_benign_matrix.add_suffix(\"_benign_count\")"
   ]
  },
  {
   "cell_type": "code",
   "execution_count": null,
   "id": "aa44095a",
   "metadata": {},
   "outputs": [],
   "source": [
    "# PIU - Max, Sum, Mean, Count, LU - Max, Sum, Mean, Count, NCU - Max, Sum, Mean, Count, Pathogenic - Max, Sum, Mean, Count, VUS - Max, Sum, Mean, Count, Benign - Max, Sum, Mean, Count\n",
    "ccle_feature_matrix = pd.concat([\n",
    "    ccle_gpd_max_piu_matrix, ccle_gpd_sum_piu_matrix, ccle_gpd_mean_piu_matrix, ccle_gpd_count_piu_matrix,\n",
    "    ccle_gpd_max_lu_matrix, ccle_gpd_sum_lu_matrix, ccle_gpd_mean_lu_matrix, ccle_gpd_count_lu_matrix,\n",
    "    ccle_gpd_max_ncu_matrix, ccle_gpd_sum_ncu_matrix, ccle_gpd_mean_ncu_matrix, ccle_gpd_count_ncu_matrix,\n",
    "    ccle_clinvar_max_pathogenic_matrix, ccle_clinvar_sum_pathogenic_matrix, ccle_clinvar_mean_pathogenic_matrix, ccle_clinvar_count_pathogenic_matrix,\n",
    "    ccle_clinvar_max_vus_matrix, ccle_clinvar_sum_vus_matrix, ccle_clinvar_mean_vus_matrix, ccle_clinvar_count_vus_matrix,\n",
    "    ccle_clinvar_max_benign_matrix, ccle_clinvar_sum_benign_matrix, ccle_clinvar_mean_benign_matrix, ccle_clinvar_count_benign_matrix,\n",
    "], axis = 1)\n",
    "ccle_feature_matrix.shape"
   ]
  },
  {
   "cell_type": "code",
   "execution_count": null,
   "id": "64dff622",
   "metadata": {},
   "outputs": [],
   "source": [
    "ccle_feature_matrix.to_csv(\"../data/processed/clinvar_gpd_annovar_annotated_ccle_feature_matrix.csv\")"
   ]
  },
  {
   "cell_type": "markdown",
   "id": "b70ef31b",
   "metadata": {},
   "source": [
    "### TCGA dataset"
   ]
  },
  {
   "cell_type": "code",
   "execution_count": null,
   "id": "f9063fb1",
   "metadata": {},
   "outputs": [],
   "source": [
    "tcga_annovar_gpd_annotated_df = pd.read_csv(\"../data/processed/tcga_annovar_gpd_annot_per_patient_per_mutation.csv\",)\n",
    "tcga_annovar_gpd_annotated_df"
   ]
  },
  {
   "cell_type": "code",
   "execution_count": null,
   "id": "5441b08f",
   "metadata": {},
   "outputs": [],
   "source": [
    "tcga_annovar_gpd_annotated_df[\"xon17_score\"] = tcga_annovar_gpd_annotated_df[\"1plusxon17_score\"] - 1 # remvoing the 1\n",
    "tcga_annovar_gpd_annotated_df"
   ]
  },
  {
   "cell_type": "code",
   "execution_count": null,
   "id": "cd1ef72e",
   "metadata": {},
   "outputs": [],
   "source": [
    "tcga_clinvar_df = pd.read_csv(\"../data/processed/clinvar_anno_features_per_mutation_tcga.csv\", index_col=0)\n",
    "tcga_clinvar_df"
   ]
  },
  {
   "cell_type": "code",
   "execution_count": null,
   "id": "5d6a3c48",
   "metadata": {},
   "outputs": [],
   "source": [
    "tcga_clinvar_df.CLNSIG.value_counts()"
   ]
  },
  {
   "cell_type": "code",
   "execution_count": null,
   "id": "9b1325c3",
   "metadata": {},
   "outputs": [],
   "source": [
    "# remove duplicate mappings from input to ClinVar annotations\n",
    "tcga_clinvar_df = tcga_clinvar_df.reset_index().drop_duplicates(subset=[\"input\"])\n",
    "tcga_clinvar_df.shape"
   ]
  },
  {
   "cell_type": "code",
   "execution_count": null,
   "id": "3f339eeb",
   "metadata": {},
   "outputs": [],
   "source": [
    "tcga_clinvar_df[\"ClinVar_annotations_categorized\"] = tcga_clinvar_df[\"CLNSIG\"].apply(get_clinvar_supercategory)\n",
    "tcga_clinvar_df[\"ClinVar_annotations_categorized\"].value_counts()"
   ]
  },
  {
   "cell_type": "code",
   "execution_count": null,
   "id": "9da7c08c",
   "metadata": {},
   "outputs": [],
   "source": [
    "merged_tcga = pd.merge(tcga_annovar_gpd_annotated_df, tcga_clinvar_df, left_on = \"point_mutation\", right_on=\"input\", how=\"left\")\n",
    "merged_tcga"
   ]
  },
  {
   "cell_type": "code",
   "execution_count": null,
   "id": "d6ab7edb",
   "metadata": {},
   "outputs": [],
   "source": [
    "merged_tcga.gene.isna().sum() # to ensure no NaNs exist"
   ]
  },
  {
   "cell_type": "markdown",
   "id": "ffd2136b",
   "metadata": {},
   "source": [
    "#### GPD based features"
   ]
  },
  {
   "cell_type": "code",
   "execution_count": null,
   "id": "f4ef964e",
   "metadata": {},
   "outputs": [],
   "source": [
    "# Max feature\n",
    "tcga_gpd_max = merged_tcga.groupby([\"submitter_id\", \"gene\", \"GPD_unit\"]).aggregate(\"max\")[[\"xon17_score\"]].reset_index()\n",
    "tcga_gpd_max"
   ]
  },
  {
   "cell_type": "code",
   "execution_count": null,
   "id": "8bf8991a",
   "metadata": {},
   "outputs": [],
   "source": [
    "tcga_gpd_max_lu_matrix = get_matrices(tcga_gpd_max, merged_tcga, criteria=\"GPD_unit\", criteria_value=\"LU\", index_name='submitter_id', column_name='gene')\n",
    "tcga_gpd_max_piu_matrix = get_matrices(tcga_gpd_max, merged_tcga, criteria=\"GPD_unit\", criteria_value=\"PIU\", index_name='submitter_id', column_name='gene')\n",
    "tcga_gpd_max_ncu_matrix = get_matrices(tcga_gpd_max, merged_tcga, criteria=\"GPD_unit\", criteria_value=\"NCU\", index_name='submitter_id', column_name='gene')\n",
    "print(tcga_gpd_max_lu_matrix.shape)\n",
    "print(tcga_gpd_max_piu_matrix.shape)\n",
    "print(tcga_gpd_max_ncu_matrix.shape)"
   ]
  },
  {
   "cell_type": "code",
   "execution_count": null,
   "id": "1a2581c7",
   "metadata": {},
   "outputs": [],
   "source": [
    "# Sum feature\n",
    "tcga_gpd_sum = merged_tcga.groupby([\"submitter_id\", \"gene\", \"GPD_unit\"]).aggregate(\"sum\")[[\"xon17_score\"]].reset_index()\n",
    "tcga_gpd_sum"
   ]
  },
  {
   "cell_type": "code",
   "execution_count": null,
   "id": "c47ad212",
   "metadata": {},
   "outputs": [],
   "source": [
    "tcga_gpd_sum_lu_matrix = get_matrices(tcga_gpd_sum, merged_tcga, criteria=\"GPD_unit\", criteria_value=\"LU\", index_name='submitter_id', column_name='gene')\n",
    "tcga_gpd_sum_piu_matrix = get_matrices(tcga_gpd_sum, merged_tcga, criteria=\"GPD_unit\", criteria_value=\"PIU\", index_name='submitter_id', column_name='gene')\n",
    "tcga_gpd_sum_ncu_matrix = get_matrices(tcga_gpd_sum, merged_tcga, criteria=\"GPD_unit\", criteria_value=\"NCU\", index_name='submitter_id', column_name='gene')\n",
    "print(tcga_gpd_sum_lu_matrix.shape)\n",
    "print(tcga_gpd_sum_piu_matrix.shape)\n",
    "print(tcga_gpd_sum_ncu_matrix.shape)"
   ]
  },
  {
   "cell_type": "code",
   "execution_count": null,
   "id": "7830c02e",
   "metadata": {},
   "outputs": [],
   "source": [
    "# Mean feature\n",
    "tcga_gpd_mean = merged_tcga.groupby([\"submitter_id\", \"gene\", \"GPD_unit\"]).aggregate(\"mean\")[[\"xon17_score\"]].reset_index()\n",
    "tcga_gpd_mean"
   ]
  },
  {
   "cell_type": "code",
   "execution_count": null,
   "id": "48069ea4",
   "metadata": {},
   "outputs": [],
   "source": [
    "tcga_gpd_mean_lu_matrix = get_matrices(tcga_gpd_mean, merged_tcga, criteria=\"GPD_unit\", criteria_value=\"LU\", index_name='submitter_id', column_name='gene')\n",
    "tcga_gpd_mean_piu_matrix = get_matrices(tcga_gpd_mean, merged_tcga, criteria=\"GPD_unit\", criteria_value=\"PIU\", index_name='submitter_id', column_name='gene')\n",
    "tcga_gpd_mean_ncu_matrix = get_matrices(tcga_gpd_mean, merged_tcga, criteria=\"GPD_unit\", criteria_value=\"NCU\", index_name='submitter_id', column_name='gene')\n",
    "print(tcga_gpd_mean_lu_matrix.shape)\n",
    "print(tcga_gpd_mean_piu_matrix.shape)\n",
    "print(tcga_gpd_mean_ncu_matrix.shape)"
   ]
  },
  {
   "cell_type": "code",
   "execution_count": null,
   "id": "96c87c55",
   "metadata": {},
   "outputs": [],
   "source": [
    "# Count feature\n",
    "tcga_gpd_count = merged_tcga.groupby([\"submitter_id\", \"gene\", \"GPD_unit\"]).aggregate(\"count\")[[\"xon17_score\"]].reset_index()\n",
    "tcga_gpd_count"
   ]
  },
  {
   "cell_type": "code",
   "execution_count": null,
   "id": "9f9aae34",
   "metadata": {},
   "outputs": [],
   "source": [
    "tcga_gpd_count_lu_matrix = get_matrices(tcga_gpd_count, merged_tcga, criteria=\"GPD_unit\", criteria_value=\"LU\", index_name='submitter_id', column_name='gene')\n",
    "tcga_gpd_count_piu_matrix = get_matrices(tcga_gpd_count, merged_tcga, criteria=\"GPD_unit\", criteria_value=\"PIU\", index_name='submitter_id', column_name='gene')\n",
    "tcga_gpd_count_ncu_matrix = get_matrices(tcga_gpd_count, merged_tcga, criteria=\"GPD_unit\", criteria_value=\"NCU\", index_name='submitter_id', column_name='gene')\n",
    "print(tcga_gpd_count_lu_matrix.shape)\n",
    "print(tcga_gpd_count_piu_matrix.shape)\n",
    "print(tcga_gpd_count_ncu_matrix.shape)"
   ]
  },
  {
   "cell_type": "markdown",
   "id": "d2d954dc",
   "metadata": {},
   "source": [
    "#### ClinVar based features"
   ]
  },
  {
   "cell_type": "code",
   "execution_count": null,
   "id": "ed8f258e",
   "metadata": {},
   "outputs": [],
   "source": [
    "# Max feature\n",
    "tcga_clinvar_max = merged_tcga.groupby([\"submitter_id\", \"gene\", \"ClinVar_annotations_categorized\"]).aggregate(\"max\")[[\"xon17_score\"]].reset_index()\n",
    "tcga_clinvar_max"
   ]
  },
  {
   "cell_type": "code",
   "execution_count": null,
   "id": "711ffd73",
   "metadata": {},
   "outputs": [],
   "source": [
    "tcga_clinvar_max_pathogenic_matrix = get_matrices(tcga_clinvar_max, merged_tcga, criteria=\"ClinVar_annotations_categorized\", criteria_value=\"Pathogenic\", index_name='submitter_id', column_name='gene')\n",
    "tcga_clinvar_max_vus_matrix = get_matrices(tcga_clinvar_max, merged_tcga, criteria=\"ClinVar_annotations_categorized\", criteria_value=\"VUS\", index_name='submitter_id', column_name='gene')\n",
    "tcga_clinvar_max_benign_matrix = get_matrices(tcga_clinvar_max, merged_tcga, criteria=\"ClinVar_annotations_categorized\", criteria_value=\"Benign\", index_name='submitter_id', column_name='gene')\n",
    "print(tcga_clinvar_max_pathogenic_matrix.shape)\n",
    "print(tcga_clinvar_max_vus_matrix.shape)\n",
    "print(tcga_clinvar_max_benign_matrix.shape)"
   ]
  },
  {
   "cell_type": "code",
   "execution_count": null,
   "id": "076650c2",
   "metadata": {},
   "outputs": [],
   "source": [
    "# Sum feature\n",
    "tcga_clinvar_sum = merged_tcga.groupby([\"submitter_id\", \"gene\", \"ClinVar_annotations_categorized\"]).aggregate(\"sum\")[[\"xon17_score\"]].reset_index()\n",
    "tcga_clinvar_sum"
   ]
  },
  {
   "cell_type": "code",
   "execution_count": null,
   "id": "abca4965",
   "metadata": {},
   "outputs": [],
   "source": [
    "tcga_clinvar_sum_pathogenic_matrix = get_matrices(tcga_clinvar_sum, merged_tcga, criteria=\"ClinVar_annotations_categorized\", criteria_value=\"Pathogenic\", index_name='submitter_id', column_name='gene')\n",
    "tcga_clinvar_sum_vus_matrix = get_matrices(tcga_clinvar_sum, merged_tcga, criteria=\"ClinVar_annotations_categorized\", criteria_value=\"VUS\", index_name='submitter_id', column_name='gene')\n",
    "tcga_clinvar_sum_benign_matrix = get_matrices(tcga_clinvar_sum, merged_tcga, criteria=\"ClinVar_annotations_categorized\", criteria_value=\"Benign\", index_name='submitter_id', column_name='gene')\n",
    "print(tcga_clinvar_sum_pathogenic_matrix.shape)\n",
    "print(tcga_clinvar_sum_vus_matrix.shape)\n",
    "print(tcga_clinvar_sum_benign_matrix.shape)"
   ]
  },
  {
   "cell_type": "code",
   "execution_count": null,
   "id": "26adeb46",
   "metadata": {},
   "outputs": [],
   "source": [
    "# Mean feature\n",
    "tcga_clinvar_mean = merged_tcga.groupby([\"submitter_id\", \"gene\", \"ClinVar_annotations_categorized\"]).aggregate(\"mean\")[[\"xon17_score\"]].reset_index()\n",
    "tcga_clinvar_mean"
   ]
  },
  {
   "cell_type": "code",
   "execution_count": null,
   "id": "69349e00",
   "metadata": {},
   "outputs": [],
   "source": [
    "tcga_clinvar_mean_pathogenic_matrix = get_matrices(tcga_clinvar_mean, merged_tcga, criteria=\"ClinVar_annotations_categorized\", criteria_value=\"Pathogenic\", index_name='submitter_id', column_name='gene')\n",
    "tcga_clinvar_mean_vus_matrix = get_matrices(tcga_clinvar_mean, merged_tcga, criteria=\"ClinVar_annotations_categorized\", criteria_value=\"VUS\", index_name='submitter_id', column_name='gene')\n",
    "tcga_clinvar_mean_benign_matrix = get_matrices(tcga_clinvar_mean, merged_tcga, criteria=\"ClinVar_annotations_categorized\", criteria_value=\"Benign\", index_name='submitter_id', column_name='gene')\n",
    "print(tcga_clinvar_mean_pathogenic_matrix.shape)\n",
    "print(tcga_clinvar_mean_vus_matrix.shape)\n",
    "print(tcga_clinvar_mean_benign_matrix.shape)"
   ]
  },
  {
   "cell_type": "code",
   "execution_count": null,
   "id": "a4fc8edc",
   "metadata": {},
   "outputs": [],
   "source": [
    "# Count feature\n",
    "tcga_clinvar_count = merged_tcga.groupby([\"submitter_id\", \"gene\", \"ClinVar_annotations_categorized\"]).aggregate(\"count\")[[\"xon17_score\"]].reset_index()\n",
    "tcga_clinvar_count"
   ]
  },
  {
   "cell_type": "code",
   "execution_count": null,
   "id": "32c332d4",
   "metadata": {},
   "outputs": [],
   "source": [
    "tcga_clinvar_count_pathogenic_matrix = get_matrices(tcga_clinvar_count, merged_tcga, criteria=\"ClinVar_annotations_categorized\", criteria_value=\"Pathogenic\", index_name='submitter_id', column_name='gene')\n",
    "tcga_clinvar_count_vus_matrix = get_matrices(tcga_clinvar_count, merged_tcga, criteria=\"ClinVar_annotations_categorized\", criteria_value=\"VUS\", index_name='submitter_id', column_name='gene')\n",
    "tcga_clinvar_count_benign_matrix = get_matrices(tcga_clinvar_count, merged_tcga, criteria=\"ClinVar_annotations_categorized\", criteria_value=\"Benign\", index_name='submitter_id', column_name='gene')\n",
    "print(tcga_clinvar_count_pathogenic_matrix.shape)\n",
    "print(tcga_clinvar_count_vus_matrix.shape)\n",
    "print(tcga_clinvar_count_benign_matrix.shape)"
   ]
  },
  {
   "cell_type": "code",
   "execution_count": null,
   "id": "80040670",
   "metadata": {},
   "outputs": [],
   "source": [
    "# Add suffixes to identify columns\n",
    "tcga_gpd_max_piu_matrix = tcga_gpd_max_piu_matrix.add_suffix('_piu_max')\n",
    "tcga_gpd_sum_piu_matrix = tcga_gpd_sum_piu_matrix.add_suffix(\"_piu_sum\")\n",
    "tcga_gpd_mean_piu_matrix = tcga_gpd_mean_piu_matrix.add_suffix(\"_piu_mean\")\n",
    "tcga_gpd_count_piu_matrix = tcga_gpd_count_piu_matrix.add_suffix(\"_piu_count\")\n",
    "tcga_gpd_max_lu_matrix = tcga_gpd_max_lu_matrix.add_suffix(\"_lu_max\")\n",
    "tcga_gpd_sum_lu_matrix = tcga_gpd_sum_lu_matrix.add_suffix(\"_lu_sum\")\n",
    "tcga_gpd_mean_lu_matrix = tcga_gpd_mean_lu_matrix.add_suffix(\"_lu_mean\")\n",
    "tcga_gpd_count_lu_matrix = tcga_gpd_count_ncu_matrix.add_suffix(\"_lu_count\")\n",
    "tcga_gpd_max_ncu_matrix = tcga_gpd_max_ncu_matrix.add_suffix(\"_ncu_max\")\n",
    "tcga_gpd_sum_ncu_matrix = tcga_gpd_sum_ncu_matrix.add_suffix(\"_ncu_sum\")\n",
    "tcga_gpd_mean_ncu_matrix = tcga_gpd_mean_ncu_matrix.add_suffix(\"_ncu_mean\")\n",
    "tcga_gpd_count_ncu_matrix = tcga_gpd_count_ncu_matrix.add_suffix(\"_ncu_count\")\n",
    "\n",
    "tcga_clinvar_max_pathogenic_matrix = tcga_clinvar_max_pathogenic_matrix.add_suffix(\"_pathogenic_max\")\n",
    "tcga_clinvar_sum_pathogenic_matrix = tcga_clinvar_sum_pathogenic_matrix.add_suffix(\"_pathogenic_sum\")\n",
    "tcga_clinvar_mean_pathogenic_matrix = tcga_clinvar_mean_pathogenic_matrix.add_suffix(\"_pathogenic_mean\")\n",
    "tcga_clinvar_count_pathogenic_matrix = tcga_clinvar_count_pathogenic_matrix.add_suffix(\"_pathogenic_count\")\n",
    "tcga_clinvar_max_vus_matrix = tcga_clinvar_max_vus_matrix.add_suffix(\"_vus_max\")\n",
    "tcga_clinvar_sum_vus_matrix = tcga_clinvar_sum_vus_matrix.add_suffix(\"_vus_sum\")\n",
    "tcga_clinvar_mean_vus_matrix = tcga_clinvar_mean_vus_matrix.add_suffix(\"_vus_mean\")\n",
    "tcga_clinvar_count_vus_matrix = tcga_clinvar_count_vus_matrix.add_suffix(\"_vus_count\")\n",
    "tcga_clinvar_max_benign_matrix = tcga_clinvar_max_benign_matrix.add_suffix(\"_benign_max\")\n",
    "tcga_clinvar_sum_benign_matrix = tcga_clinvar_sum_benign_matrix.add_suffix(\"_benign_sum\")\n",
    "tcga_clinvar_mean_benign_matrix = tcga_clinvar_mean_benign_matrix.add_suffix(\"_benign_mean\")\n",
    "tcga_clinvar_count_benign_matrix = tcga_clinvar_count_benign_matrix.add_suffix(\"_benign_count\")"
   ]
  },
  {
   "cell_type": "code",
   "execution_count": null,
   "id": "0b595757",
   "metadata": {},
   "outputs": [],
   "source": [
    "# PIU - Max, Sum, Mean, Count, LU - Max, Sum, Mean, Count, NCU - Max, Sum, Mean, Count, Pathogenic - Max, Sum, Mean, Count, VUS - Max, Sum, Mean, Count, Benign - Max, Sum, Mean, Count\n",
    "tcga_feature_matrix = pd.concat([\n",
    "    tcga_gpd_max_piu_matrix, tcga_gpd_sum_piu_matrix, tcga_gpd_mean_piu_matrix, tcga_gpd_count_piu_matrix,\n",
    "    tcga_gpd_max_lu_matrix, tcga_gpd_sum_lu_matrix, tcga_gpd_mean_lu_matrix, tcga_gpd_count_lu_matrix,\n",
    "    tcga_gpd_max_ncu_matrix, tcga_gpd_sum_ncu_matrix, tcga_gpd_mean_ncu_matrix, tcga_gpd_count_ncu_matrix,\n",
    "    tcga_clinvar_max_pathogenic_matrix, tcga_clinvar_sum_pathogenic_matrix, tcga_clinvar_mean_pathogenic_matrix, tcga_clinvar_count_pathogenic_matrix,\n",
    "    tcga_clinvar_max_vus_matrix, tcga_clinvar_sum_vus_matrix, tcga_clinvar_mean_vus_matrix, tcga_clinvar_count_vus_matrix,\n",
    "    tcga_clinvar_max_benign_matrix, tcga_clinvar_sum_benign_matrix, tcga_clinvar_mean_benign_matrix, tcga_clinvar_count_benign_matrix,\n",
    "], axis = 1)\n",
    "tcga_feature_matrix.shape"
   ]
  },
  {
   "cell_type": "code",
   "execution_count": null,
   "id": "63f1d1ab",
   "metadata": {},
   "outputs": [],
   "source": [
    "tcga_feature_matrix.to_csv(\"../data/processed/clinvar_gpd_annovar_annotated_tcga_feature_matrix.csv\")"
   ]
  },
  {
   "cell_type": "code",
   "execution_count": null,
   "id": "bca90aef",
   "metadata": {},
   "outputs": [],
   "source": [
    "tcga_feature_matrix"
   ]
  },
  {
   "cell_type": "code",
   "execution_count": null,
   "id": "2a70b1af",
   "metadata": {},
   "outputs": [],
   "source": []
  }
 ],
 "metadata": {
  "kernelspec": {
   "display_name": "Python [conda env:base2] *",
   "language": "python",
   "name": "conda-env-base2-py"
  },
  "language_info": {
   "codemirror_mode": {
    "name": "ipython",
    "version": 3
   },
   "file_extension": ".py",
   "mimetype": "text/x-python",
   "name": "python",
   "nbconvert_exporter": "python",
   "pygments_lexer": "ipython3",
   "version": "3.9.12"
  }
 },
 "nbformat": 4,
 "nbformat_minor": 5
}
