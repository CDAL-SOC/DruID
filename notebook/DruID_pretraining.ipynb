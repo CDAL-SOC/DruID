{
 "cells": [
  {
   "cell_type": "markdown",
   "id": "6198d977",
   "metadata": {},
   "source": [
    "This notebook performs pretraining using the ClinVar, GPD and Annovar annotations for 324 FoundationOne genes."
   ]
  },
  {
   "cell_type": "code",
   "execution_count": 1,
   "id": "0a65583d-33b1-4440-b0bf-f66fe7fd40c9",
   "metadata": {
    "execution": {
     "iopub.execute_input": "2022-10-13T02:55:46.140809Z",
     "iopub.status.busy": "2022-10-13T02:55:46.139850Z",
     "iopub.status.idle": "2022-10-13T02:55:46.158104Z",
     "shell.execute_reply": "2022-10-13T02:55:46.157020Z",
     "shell.execute_reply.started": "2022-10-13T02:55:46.140658Z"
    },
    "tags": []
   },
   "outputs": [],
   "source": [
    "import sys\n",
    "sys.path.append(\"../src/\")"
   ]
  },
  {
   "cell_type": "code",
   "execution_count": 3,
   "id": "6b7985d7-2b48-44cb-a531-3531904fdf83",
   "metadata": {
    "execution": {
     "iopub.execute_input": "2022-10-13T02:55:46.160638Z",
     "iopub.status.busy": "2022-10-13T02:55:46.160179Z",
     "iopub.status.idle": "2022-10-13T02:55:49.378079Z",
     "shell.execute_reply": "2022-10-13T02:55:49.377303Z",
     "shell.execute_reply.started": "2022-10-13T02:55:46.160604Z"
    },
    "tags": []
   },
   "outputs": [],
   "source": [
    "import numpy as np\n",
    "import pandas as pd\n",
    "\n",
    "import datetime\n",
    "import logging\n",
    "import os\n",
    "import time\n",
    "import torch\n",
    "\n",
    "from torch import nn\n",
    "from torch.nn import functional as F\n",
    "\n",
    "from functools import cached_property\n",
    "\n",
    "from torch.nn import Linear, ReLU, Sequential\n",
    "\n",
    "from sklearn.metrics import average_precision_score, ndcg_score, roc_auc_score\n",
    "\n",
    "from datasets_drug_filtered import (\n",
    "    AggCategoricalAnnotatedCellLineDatasetFilteredByDrug,\n",
    "    AggCategoricalAnnotatedTcgaDatasetFilteredByDrug,\n",
    ")\n",
    "# from metric import NdcgMetric\n",
    "from utils import get_kld_loss, get_zinb_loss, get_zinorm_loss\n",
    "\n",
    "# from testbed import EvaluationTestbed\n",
    "from seaborn import scatterplot\n",
    "\n",
    "from sklearn.metrics import pairwise_distances"
   ]
  },
  {
   "cell_type": "code",
   "execution_count": 4,
   "id": "ec19c354",
   "metadata": {},
   "outputs": [],
   "source": [
    "sample_id = 0 # replace with "
   ]
  },
  {
   "cell_type": "markdown",
   "id": "11e4b80d-fa06-46b6-a092-9777d83d0bac",
   "metadata": {
    "tags": []
   },
   "source": [
    "## Model Definition - Gene expression"
   ]
  },
  {
   "cell_type": "code",
   "execution_count": 5,
   "id": "db2873a5-3fae-4bbb-84a4-a6806a88aae5",
   "metadata": {
    "execution": {
     "iopub.execute_input": "2022-10-13T02:55:50.839431Z",
     "iopub.status.busy": "2022-10-13T02:55:50.839140Z",
     "iopub.status.idle": "2022-10-13T02:55:50.843191Z",
     "shell.execute_reply": "2022-10-13T02:55:50.842609Z",
     "shell.execute_reply.started": "2022-10-13T02:55:50.839411Z"
    },
    "tags": []
   },
   "outputs": [],
   "source": [
    "device = torch.device(\"cuda:1\" if torch.cuda.is_available() else \"cpu\")"
   ]
  },
  {
   "cell_type": "code",
   "execution_count": 6,
   "id": "873792d4-be2a-48b4-85af-0839845bd442",
   "metadata": {
    "execution": {
     "iopub.execute_input": "2022-10-13T02:55:49.379425Z",
     "iopub.status.busy": "2022-10-13T02:55:49.379188Z",
     "iopub.status.idle": "2022-10-13T02:55:50.837354Z",
     "shell.execute_reply": "2022-10-13T02:55:50.836667Z",
     "shell.execute_reply.started": "2022-10-13T02:55:49.379404Z"
    },
    "tags": []
   },
   "outputs": [
    {
     "name": "stdout",
     "output_type": "stream",
     "text": [
      "#\n",
      "zinb_layers_mu: \n",
      "OrderedDict([('mu', Linear(in_features=7776, out_features=7776, bias=True))])\n",
      "#\n",
      "zinb_layers_theta: \n",
      "OrderedDict([('theta', Linear(in_features=7776, out_features=7776, bias=True))])\n",
      "#\n",
      "zinb_layers_pi: \n",
      "OrderedDict([('pi', Linear(in_features=7776, out_features=7776, bias=True)), ('pi-actf', Sigmoid())])\n",
      "#\n",
      "U: encoder \n",
      "Sequential(\n",
      "  (enc-0): Linear(in_features=7776, out_features=128, bias=True)\n",
      "  (act-0): Tanh()\n",
      "  (enc-1): Linear(in_features=128, out_features=64, bias=True)\n",
      "  (act-1): Tanh()\n",
      ")\n",
      "#\n",
      "mu_layer: \n",
      "Linear(in_features=64, out_features=32, bias=True)\n",
      "#\n",
      "sigma_layer: \n",
      "Linear(in_features=64, out_features=32, bias=True)\n",
      "#\n",
      "U: decoder \n",
      "Sequential(\n",
      "  (-dec-0): Linear(in_features=32, out_features=64, bias=True)\n",
      "  (-act-0): Tanh()\n",
      "  (dec-0): Linear(in_features=64, out_features=128, bias=True)\n",
      "  (act-0): Tanh()\n",
      "  (dec-1): Linear(in_features=128, out_features=7776, bias=True)\n",
      "  (act-1): Tanh()\n",
      ")\n",
      "#\n",
      "zinb_layers_mu: \n",
      "OrderedDict([('mu', Linear(in_features=7776, out_features=7776, bias=True))])\n",
      "#\n",
      "zinb_layers_theta: \n",
      "OrderedDict([('theta', Linear(in_features=7776, out_features=7776, bias=True))])\n",
      "#\n",
      "zinb_layers_pi: \n",
      "OrderedDict([('pi', Linear(in_features=7776, out_features=7776, bias=True)), ('pi-actf', Sigmoid())])\n",
      "#\n",
      "U: encoder \n",
      "Sequential(\n",
      "  (enc-0): Linear(in_features=7776, out_features=128, bias=True)\n",
      "  (act-0): Tanh()\n",
      "  (enc-1): Linear(in_features=128, out_features=64, bias=True)\n",
      "  (act-1): Tanh()\n",
      ")\n",
      "#\n",
      "mu_layer: \n",
      "Linear(in_features=64, out_features=32, bias=True)\n",
      "#\n",
      "sigma_layer: \n",
      "Linear(in_features=64, out_features=32, bias=True)\n",
      "#\n",
      "U: decoder \n",
      "Sequential(\n",
      "  (-dec-0): Linear(in_features=32, out_features=64, bias=True)\n",
      "  (-act-0): Tanh()\n",
      "  (dec-0): Linear(in_features=64, out_features=128, bias=True)\n",
      "  (act-0): Tanh()\n",
      "  (dec-1): Linear(in_features=128, out_features=7776, bias=True)\n",
      "  (act-1): Tanh()\n",
      ")\n"
     ]
    }
   ],
   "source": [
    "input_dim_vae = 324 * 6 * 4\n",
    "k_list = [128, 64] # original\n",
    "# k_list = [1024, 128]\n",
    "actf_list = [\"tanh\", \"tanh\"]\n",
    "is_real = True\n",
    "eps = 1e-10\n",
    "ridge_lambda = 0.05\n",
    "is_mean = True\n",
    "weight_decay = 1e-4\n",
    "\n",
    "# The below modules are expected to be available in the scope where this module is instialized\n",
    "from ffnzinb import ffnzinb\n",
    "from vae import vae\n",
    "\n",
    "ffb_zinb_model1 = ffnzinb(input_dim_vae).cuda(device)\n",
    "vae_model1 = vae(input_dim_vae, k_list, actf_list, is_real).cuda(device)\n",
    "\n",
    "ffb_zinb_model2 = ffnzinb(input_dim_vae).cuda(device)\n",
    "vae_model2 = vae(input_dim_vae, k_list, actf_list, is_real).cuda(device)"
   ]
  },
  {
   "cell_type": "code",
   "execution_count": 7,
   "id": "1f779fae-f9b1-40ff-a750-f99ab417e61d",
   "metadata": {
    "execution": {
     "iopub.execute_input": "2022-10-13T02:55:50.844185Z",
     "iopub.status.busy": "2022-10-13T02:55:50.843997Z",
     "iopub.status.idle": "2022-10-13T02:55:50.883694Z",
     "shell.execute_reply": "2022-10-13T02:55:50.882273Z",
     "shell.execute_reply.started": "2022-10-13T02:55:50.844167Z"
    },
    "tags": []
   },
   "outputs": [],
   "source": [
    "from utils import get_kld_loss, get_zinb_loss, get_zinorm_loss\n",
    "\n",
    "# alignment loss\n",
    "def coral(source, target):\n",
    "\n",
    "    d = source.size(1)  # dim vector\n",
    "\n",
    "    source_c = compute_covariance(source)\n",
    "    target_c = compute_covariance(target)\n",
    "\n",
    "    loss = torch.sum(torch.mul((source_c - target_c), (source_c - target_c)))\n",
    "\n",
    "    #     loss = loss / (4 * d * d)\n",
    "    return loss\n",
    "\n",
    "\n",
    "def compute_covariance(input_data):\n",
    "    \"\"\"\n",
    "    Compute Covariance matrix of the input data\n",
    "    \"\"\"\n",
    "    n = input_data.size(0)  # batch_size\n",
    "\n",
    "    # Check if using gpu or cpu\n",
    "    if input_data.is_cuda:\n",
    "        device = torch.device(\"cuda:1\")\n",
    "    else:\n",
    "        device = torch.device(\"cpu\")\n",
    "\n",
    "    id_row = torch.ones(n).resize(1, n).to(device=device)\n",
    "    sum_column = torch.mm(id_row, input_data)\n",
    "    mean_column = torch.div(sum_column, n)\n",
    "    term_mul_2 = torch.mm(mean_column.t(), mean_column)\n",
    "    d_t_d = torch.mm(input_data.t(), input_data)\n",
    "    c = torch.add(d_t_d, (-1 * term_mul_2)) * 1 / (n - 1)\n",
    "\n",
    "    return c\n",
    "\n",
    "\n",
    "def get_cell_line_tcga(vae_model, zinb_model):\n",
    "\n",
    "    with torch.no_grad():\n",
    "\n",
    "        test_dataset = AggCategoricalAnnotatedCellLineDatasetFilteredByDrug(\n",
    "            is_train=False, filter_for=\"tcga\", sample_id = sample_id\n",
    "        )\n",
    "        test_depmap_ids, drug_names, _ = list(\n",
    "            test_dataset[: len(test_dataset)].values()\n",
    "        )\n",
    "        uniq_test_depmap_ids = np.unique(np.array(test_depmap_ids))\n",
    "\n",
    "        test_model_in = torch.tensor(\n",
    "            test_dataset.clinvar_gpd_annovar_annotated.loc[uniq_test_depmap_ids].to_numpy(),\n",
    "            device=device,\n",
    "            dtype=torch.float,\n",
    "        )\n",
    "\n",
    "        x_enc, X_test_mu, logvar, X_recons = vae_model(test_model_in)\n",
    "        X_mu, X_theta, X_pi = zinb_model(X_recons)\n",
    "\n",
    "        error = F.mse_loss(\n",
    "            X_mu.detach(), test_model_in.detach(), reduction=\"sum\"\n",
    "        ).item()\n",
    "\n",
    "    return error"
   ]
  },
  {
   "cell_type": "code",
   "execution_count": 8,
   "id": "84d9a74c-7b10-45a8-9353-3e1d78b5cdb6",
   "metadata": {
    "execution": {
     "iopub.execute_input": "2022-10-13T02:55:50.886243Z",
     "iopub.status.busy": "2022-10-13T02:55:50.885422Z",
     "iopub.status.idle": "2022-10-13T02:55:58.421438Z",
     "shell.execute_reply": "2022-10-13T02:55:58.420554Z",
     "shell.execute_reply.started": "2022-10-13T02:55:50.886199Z"
    },
    "scrolled": true,
    "tags": []
   },
   "outputs": [
    {
     "name": "stderr",
     "output_type": "stream",
     "text": [
      "/home/ajayago/anaconda3/envs/base2/lib/python3.9/site-packages/torch/_tensor.py:586: UserWarning: non-inplace resize is deprecated\n",
      "  warnings.warn(\"non-inplace resize is deprecated\")\n"
     ]
    },
    {
     "name": "stdout",
     "output_type": "stream",
     "text": [
      "epoch [1/50], loss:1.277349\n"
     ]
    },
    {
     "name": "stderr",
     "output_type": "stream",
     "text": [
      "/home/ajayago/anaconda3/envs/base2/lib/python3.9/site-packages/torch/_tensor.py:586: UserWarning: non-inplace resize is deprecated\n",
      "  warnings.warn(\"non-inplace resize is deprecated\")\n"
     ]
    },
    {
     "name": "stdout",
     "output_type": "stream",
     "text": [
      "epoch [2/50], loss:0.940689\n"
     ]
    },
    {
     "name": "stderr",
     "output_type": "stream",
     "text": [
      "/home/ajayago/anaconda3/envs/base2/lib/python3.9/site-packages/torch/_tensor.py:586: UserWarning: non-inplace resize is deprecated\n",
      "  warnings.warn(\"non-inplace resize is deprecated\")\n",
      "/home/ajayago/anaconda3/envs/base2/lib/python3.9/site-packages/torch/_tensor.py:586: UserWarning: non-inplace resize is deprecated\n",
      "  warnings.warn(\"non-inplace resize is deprecated\")\n"
     ]
    },
    {
     "name": "stdout",
     "output_type": "stream",
     "text": [
      "epoch [3/50], loss:0.656264\n",
      "epoch [4/50], loss:0.507137\n"
     ]
    },
    {
     "name": "stderr",
     "output_type": "stream",
     "text": [
      "/home/ajayago/anaconda3/envs/base2/lib/python3.9/site-packages/torch/_tensor.py:586: UserWarning: non-inplace resize is deprecated\n",
      "  warnings.warn(\"non-inplace resize is deprecated\")\n",
      "/home/ajayago/anaconda3/envs/base2/lib/python3.9/site-packages/torch/_tensor.py:586: UserWarning: non-inplace resize is deprecated\n",
      "  warnings.warn(\"non-inplace resize is deprecated\")\n"
     ]
    },
    {
     "name": "stdout",
     "output_type": "stream",
     "text": [
      "epoch [5/50], loss:0.425920\n",
      "epoch [6/50], loss:0.378338\n"
     ]
    },
    {
     "name": "stderr",
     "output_type": "stream",
     "text": [
      "/home/ajayago/anaconda3/envs/base2/lib/python3.9/site-packages/torch/_tensor.py:586: UserWarning: non-inplace resize is deprecated\n",
      "  warnings.warn(\"non-inplace resize is deprecated\")\n",
      "/home/ajayago/anaconda3/envs/base2/lib/python3.9/site-packages/torch/_tensor.py:586: UserWarning: non-inplace resize is deprecated\n",
      "  warnings.warn(\"non-inplace resize is deprecated\")\n"
     ]
    },
    {
     "name": "stdout",
     "output_type": "stream",
     "text": [
      "epoch [7/50], loss:0.337705\n",
      "epoch [8/50], loss:0.309702\n"
     ]
    },
    {
     "name": "stderr",
     "output_type": "stream",
     "text": [
      "/home/ajayago/anaconda3/envs/base2/lib/python3.9/site-packages/torch/_tensor.py:586: UserWarning: non-inplace resize is deprecated\n",
      "  warnings.warn(\"non-inplace resize is deprecated\")\n",
      "/home/ajayago/anaconda3/envs/base2/lib/python3.9/site-packages/torch/_tensor.py:586: UserWarning: non-inplace resize is deprecated\n",
      "  warnings.warn(\"non-inplace resize is deprecated\")\n"
     ]
    },
    {
     "name": "stdout",
     "output_type": "stream",
     "text": [
      "epoch [9/50], loss:0.288941\n",
      "epoch [10/50], loss:0.271330\n"
     ]
    },
    {
     "name": "stderr",
     "output_type": "stream",
     "text": [
      "/home/ajayago/anaconda3/envs/base2/lib/python3.9/site-packages/torch/_tensor.py:586: UserWarning: non-inplace resize is deprecated\n",
      "  warnings.warn(\"non-inplace resize is deprecated\")\n"
     ]
    },
    {
     "name": "stdout",
     "output_type": "stream",
     "text": [
      "epoch [11/50], loss:0.250265\n"
     ]
    },
    {
     "name": "stderr",
     "output_type": "stream",
     "text": [
      "/home/ajayago/anaconda3/envs/base2/lib/python3.9/site-packages/torch/_tensor.py:586: UserWarning: non-inplace resize is deprecated\n",
      "  warnings.warn(\"non-inplace resize is deprecated\")\n",
      "/home/ajayago/anaconda3/envs/base2/lib/python3.9/site-packages/torch/_tensor.py:586: UserWarning: non-inplace resize is deprecated\n",
      "  warnings.warn(\"non-inplace resize is deprecated\")\n"
     ]
    },
    {
     "name": "stdout",
     "output_type": "stream",
     "text": [
      "epoch [12/50], loss:0.231707\n",
      "epoch [13/50], loss:0.217306\n"
     ]
    },
    {
     "name": "stderr",
     "output_type": "stream",
     "text": [
      "/home/ajayago/anaconda3/envs/base2/lib/python3.9/site-packages/torch/_tensor.py:586: UserWarning: non-inplace resize is deprecated\n",
      "  warnings.warn(\"non-inplace resize is deprecated\")\n",
      "/home/ajayago/anaconda3/envs/base2/lib/python3.9/site-packages/torch/_tensor.py:586: UserWarning: non-inplace resize is deprecated\n",
      "  warnings.warn(\"non-inplace resize is deprecated\")\n"
     ]
    },
    {
     "name": "stdout",
     "output_type": "stream",
     "text": [
      "epoch [14/50], loss:0.208442\n",
      "epoch [15/50], loss:0.203055\n"
     ]
    },
    {
     "name": "stderr",
     "output_type": "stream",
     "text": [
      "/home/ajayago/anaconda3/envs/base2/lib/python3.9/site-packages/torch/_tensor.py:586: UserWarning: non-inplace resize is deprecated\n",
      "  warnings.warn(\"non-inplace resize is deprecated\")\n",
      "/home/ajayago/anaconda3/envs/base2/lib/python3.9/site-packages/torch/_tensor.py:586: UserWarning: non-inplace resize is deprecated\n",
      "  warnings.warn(\"non-inplace resize is deprecated\")\n"
     ]
    },
    {
     "name": "stdout",
     "output_type": "stream",
     "text": [
      "epoch [16/50], loss:0.199637\n",
      "epoch [17/50], loss:0.194367\n"
     ]
    },
    {
     "name": "stderr",
     "output_type": "stream",
     "text": [
      "/home/ajayago/anaconda3/envs/base2/lib/python3.9/site-packages/torch/_tensor.py:586: UserWarning: non-inplace resize is deprecated\n",
      "  warnings.warn(\"non-inplace resize is deprecated\")\n",
      "/home/ajayago/anaconda3/envs/base2/lib/python3.9/site-packages/torch/_tensor.py:586: UserWarning: non-inplace resize is deprecated\n",
      "  warnings.warn(\"non-inplace resize is deprecated\")\n"
     ]
    },
    {
     "name": "stdout",
     "output_type": "stream",
     "text": [
      "epoch [18/50], loss:0.188004\n",
      "epoch [19/50], loss:0.178567\n"
     ]
    },
    {
     "name": "stderr",
     "output_type": "stream",
     "text": [
      "/home/ajayago/anaconda3/envs/base2/lib/python3.9/site-packages/torch/_tensor.py:586: UserWarning: non-inplace resize is deprecated\n",
      "  warnings.warn(\"non-inplace resize is deprecated\")\n",
      "/home/ajayago/anaconda3/envs/base2/lib/python3.9/site-packages/torch/_tensor.py:586: UserWarning: non-inplace resize is deprecated\n",
      "  warnings.warn(\"non-inplace resize is deprecated\")\n"
     ]
    },
    {
     "name": "stdout",
     "output_type": "stream",
     "text": [
      "epoch [20/50], loss:0.167325\n",
      "epoch [21/50], loss:0.154403\n"
     ]
    },
    {
     "name": "stderr",
     "output_type": "stream",
     "text": [
      "/home/ajayago/anaconda3/envs/base2/lib/python3.9/site-packages/torch/_tensor.py:586: UserWarning: non-inplace resize is deprecated\n",
      "  warnings.warn(\"non-inplace resize is deprecated\")\n"
     ]
    },
    {
     "name": "stdout",
     "output_type": "stream",
     "text": [
      "epoch [22/50], loss:0.142167\n"
     ]
    },
    {
     "name": "stderr",
     "output_type": "stream",
     "text": [
      "/home/ajayago/anaconda3/envs/base2/lib/python3.9/site-packages/torch/_tensor.py:586: UserWarning: non-inplace resize is deprecated\n",
      "  warnings.warn(\"non-inplace resize is deprecated\")\n",
      "/home/ajayago/anaconda3/envs/base2/lib/python3.9/site-packages/torch/_tensor.py:586: UserWarning: non-inplace resize is deprecated\n",
      "  warnings.warn(\"non-inplace resize is deprecated\")\n"
     ]
    },
    {
     "name": "stdout",
     "output_type": "stream",
     "text": [
      "epoch [23/50], loss:0.129109\n",
      "epoch [24/50], loss:0.117697\n"
     ]
    },
    {
     "name": "stderr",
     "output_type": "stream",
     "text": [
      "/home/ajayago/anaconda3/envs/base2/lib/python3.9/site-packages/torch/_tensor.py:586: UserWarning: non-inplace resize is deprecated\n",
      "  warnings.warn(\"non-inplace resize is deprecated\")\n",
      "/home/ajayago/anaconda3/envs/base2/lib/python3.9/site-packages/torch/_tensor.py:586: UserWarning: non-inplace resize is deprecated\n",
      "  warnings.warn(\"non-inplace resize is deprecated\")\n"
     ]
    },
    {
     "name": "stdout",
     "output_type": "stream",
     "text": [
      "epoch [25/50], loss:0.108433\n",
      "epoch [26/50], loss:0.101021\n"
     ]
    },
    {
     "name": "stderr",
     "output_type": "stream",
     "text": [
      "/home/ajayago/anaconda3/envs/base2/lib/python3.9/site-packages/torch/_tensor.py:586: UserWarning: non-inplace resize is deprecated\n",
      "  warnings.warn(\"non-inplace resize is deprecated\")\n",
      "/home/ajayago/anaconda3/envs/base2/lib/python3.9/site-packages/torch/_tensor.py:586: UserWarning: non-inplace resize is deprecated\n",
      "  warnings.warn(\"non-inplace resize is deprecated\")\n"
     ]
    },
    {
     "name": "stdout",
     "output_type": "stream",
     "text": [
      "epoch [27/50], loss:0.095384\n",
      "epoch [28/50], loss:0.090952\n"
     ]
    },
    {
     "name": "stderr",
     "output_type": "stream",
     "text": [
      "/home/ajayago/anaconda3/envs/base2/lib/python3.9/site-packages/torch/_tensor.py:586: UserWarning: non-inplace resize is deprecated\n",
      "  warnings.warn(\"non-inplace resize is deprecated\")\n",
      "/home/ajayago/anaconda3/envs/base2/lib/python3.9/site-packages/torch/_tensor.py:586: UserWarning: non-inplace resize is deprecated\n",
      "  warnings.warn(\"non-inplace resize is deprecated\")\n"
     ]
    },
    {
     "name": "stdout",
     "output_type": "stream",
     "text": [
      "epoch [29/50], loss:0.087775\n",
      "epoch [30/50], loss:0.085474\n"
     ]
    },
    {
     "name": "stderr",
     "output_type": "stream",
     "text": [
      "/home/ajayago/anaconda3/envs/base2/lib/python3.9/site-packages/torch/_tensor.py:586: UserWarning: non-inplace resize is deprecated\n",
      "  warnings.warn(\"non-inplace resize is deprecated\")\n"
     ]
    },
    {
     "name": "stdout",
     "output_type": "stream",
     "text": [
      "epoch [31/50], loss:0.084376\n",
      "epoch [32/50], loss:0.083110\n"
     ]
    },
    {
     "name": "stderr",
     "output_type": "stream",
     "text": [
      "/home/ajayago/anaconda3/envs/base2/lib/python3.9/site-packages/torch/_tensor.py:586: UserWarning: non-inplace resize is deprecated\n",
      "  warnings.warn(\"non-inplace resize is deprecated\")\n",
      "/home/ajayago/anaconda3/envs/base2/lib/python3.9/site-packages/torch/_tensor.py:586: UserWarning: non-inplace resize is deprecated\n",
      "  warnings.warn(\"non-inplace resize is deprecated\")\n"
     ]
    },
    {
     "name": "stdout",
     "output_type": "stream",
     "text": [
      "epoch [33/50], loss:0.082417\n",
      "epoch [34/50], loss:0.082516\n",
      "Training converged, exiting\n"
     ]
    },
    {
     "name": "stderr",
     "output_type": "stream",
     "text": [
      "/home/ajayago/anaconda3/envs/base2/lib/python3.9/site-packages/torch/_tensor.py:586: UserWarning: non-inplace resize is deprecated\n",
      "  warnings.warn(\"non-inplace resize is deprecated\")\n"
     ]
    }
   ],
   "source": [
    "num_iterations = 50\n",
    "learning_rate = 1e-3\n",
    "convg_thres = 1e-4\n",
    "\n",
    "\n",
    "criterion = nn.MSELoss(reduction=\"mean\")\n",
    "\n",
    "params_list = []\n",
    "params_list += list(vae_model1.parameters())\n",
    "params_list += list(ffb_zinb_model1.parameters())\n",
    "params_list += list(vae_model2.parameters())\n",
    "params_list += list(ffb_zinb_model2.parameters())\n",
    "\n",
    "optimizer = torch.optim.Adam(params_list, lr=learning_rate, weight_decay=weight_decay)\n",
    "\n",
    "\n",
    "train_cell_line_dataset = AggCategoricalAnnotatedCellLineDatasetFilteredByDrug(\n",
    "    is_train=True, filter_for=\"tcga\", sample_id = sample_id\n",
    ")\n",
    "train_depmap_ids, drug_names, _ = list(\n",
    "    train_cell_line_dataset[: len(train_cell_line_dataset)].values()\n",
    ")\n",
    "uniq_train_depmap_ids = np.unique(np.array(train_depmap_ids))\n",
    "\n",
    "train_pdx_dataset = AggCategoricalAnnotatedTcgaDatasetFilteredByDrug(is_train=True, filter_for=\"tcga\", sample_id = sample_id)\n",
    "\n",
    "train_pdx_ids, drug_names, _ = list(\n",
    "    train_pdx_dataset[: len(train_pdx_dataset)].values()\n",
    ")\n",
    "uniq_train_pdx_ids = np.unique(np.array(train_pdx_ids))\n",
    "\n",
    "train_losses = []\n",
    "val_errors = []\n",
    "best_error = None\n",
    "for epoch in range(num_iterations):\n",
    "\n",
    "    optimizer.zero_grad()\n",
    "    model1_in = torch.tensor(\n",
    "        train_cell_line_dataset.clinvar_gpd_annovar_annotated.loc[uniq_train_depmap_ids].to_numpy(),\n",
    "        device=device,\n",
    "        dtype=torch.float,\n",
    "    )\n",
    "    model2_in = torch.tensor(\n",
    "        train_pdx_dataset.clinvar_gpd_annovar_annotated.loc[uniq_train_pdx_ids].to_numpy(),\n",
    "        device=device,\n",
    "        dtype=torch.float,\n",
    "    )\n",
    "\n",
    "    # ===================forward=====================\n",
    "    x_enc1, X_train_mu1, logvar1, X_recons1 = vae_model1(model1_in)\n",
    "    X_mu1, X_theta1, X_pi1 = ffb_zinb_model1(X_recons1)\n",
    "\n",
    "    x_enc2, X_train_mu2, logvar2, X_recons2 = vae_model2(model2_in)\n",
    "    X_mu2, X_theta2, X_pi2 = ffb_zinb_model2(X_recons2)\n",
    "\n",
    "    coral_loss = coral(X_train_mu1, X_train_mu2)\n",
    "\n",
    "    loss_zinb1 = get_zinb_loss(\n",
    "        model1_in,\n",
    "        X_mu1,\n",
    "        X_theta1,\n",
    "        X_pi1,\n",
    "        is_mean=True,\n",
    "        eps=eps,\n",
    "        ridge_lambda=ridge_lambda,\n",
    "    )\n",
    "    loss_vae1 = get_kld_loss(X_train_mu1, logvar1, is_mean=True)\n",
    "\n",
    "    loss_zinb2 = get_zinb_loss(\n",
    "        model2_in,\n",
    "        X_mu2,\n",
    "        X_theta2,\n",
    "        X_pi2,\n",
    "        is_mean=True,\n",
    "        eps=eps,\n",
    "        ridge_lambda=ridge_lambda,\n",
    "    )\n",
    "    loss_vae2 = get_kld_loss(X_train_mu2, logvar2, is_mean=True)\n",
    "\n",
    "    loss_epoch = loss_zinb1 + loss_vae1 + coral_loss + loss_zinb2 + loss_vae2\n",
    "\n",
    "    loss_epoch.backward()\n",
    "\n",
    "    optimizer.step()\n",
    "    train_losses.append(loss_epoch.item())\n",
    "    if epoch % 10 == 0:\n",
    "        curr_error = get_cell_line_tcga(vae_model1, ffb_zinb_model1)\n",
    "        val_errors.append(curr_error)\n",
    "        if (best_error is None) or (curr_error < best_error):\n",
    "            best_error = curr_error\n",
    "            \n",
    "            if epoch > 20:\n",
    "                torch.save(\n",
    "                    vae_model1.state_dict(),\n",
    "                    f\"../data/model_checkpoints/druid_with_tcga_filtered_drug_sample{sample_id}_unsupervised_vae_model_cell_line_domain_clinvar_gpd_annovar_annotated_v4.pt\",\n",
    "                )\n",
    "                torch.save(\n",
    "                    ffb_zinb_model1.state_dict(),\n",
    "                    f\"../data/model_checkpoints/druid_with_tcga_filtered_drug_sample{sample_id}_unsupervised_zinb_model_cell_line_domain_clinvar_gpd_annovar_annotated_v4.pt\",\n",
    "                )\n",
    "\n",
    "                torch.save(\n",
    "                    vae_model2.state_dict(),\n",
    "                    f\"../data/model_checkpoints/druid_with_tcga_filtered_drug_sample{sample_id}_unsupervised_vae_model_other_domain_clinvar_gpd_annovar_annotated_v4.pt\",\n",
    "                )\n",
    "                torch.save(\n",
    "                    ffb_zinb_model2.state_dict(),\n",
    "                    f\"../data/model_checkpoints/druid_with_tcga_filtered_drug_sample{sample_id}_unsupervised_zinb_model_other_domain_clinvar_gpd_annovar_annotated_v4.pt\",\n",
    "                )\n",
    "\n",
    "    print(\n",
    "        \"epoch [{}/{}], loss:{:.6f}\".format(\n",
    "            epoch + 1, num_iterations, loss_epoch.item()\n",
    "        )\n",
    "    )\n",
    "\n",
    "    if (len(train_losses) > 2) and abs(\n",
    "        train_losses[-1] - train_losses[-2]\n",
    "    ) < convg_thres:\n",
    "        print(\"Training converged, exiting\")\n",
    "        break"
   ]
  },
  {
   "cell_type": "code",
   "execution_count": 9,
   "id": "6d1316d5-8876-4a4f-b884-17339d2913cc",
   "metadata": {
    "execution": {
     "iopub.execute_input": "2022-10-13T02:58:49.836219Z",
     "iopub.status.busy": "2022-10-13T02:58:49.835590Z",
     "iopub.status.idle": "2022-10-13T02:58:49.865080Z",
     "shell.execute_reply": "2022-10-13T02:58:49.863297Z",
     "shell.execute_reply.started": "2022-10-13T02:58:49.836165Z"
    },
    "tags": []
   },
   "outputs": [
    {
     "data": {
      "text/plain": [
       "<All keys matched successfully>"
      ]
     },
     "execution_count": 9,
     "metadata": {},
     "output_type": "execute_result"
    }
   ],
   "source": [
    "vae_model1.load_state_dict(\n",
    "    torch.load(\n",
    "        f\"../data/model_checkpoints/druid_with_tcga_filtered_drug_sample{sample_id}_unsupervised_vae_model_cell_line_domain_clinvar_gpd_annovar_annotated_v4.pt\",\n",
    "        map_location=\"cuda:1\",\n",
    "    )\n",
    ")\n",
    "ffb_zinb_model1.load_state_dict(\n",
    "    torch.load(\n",
    "        f\"../data/model_checkpoints/druid_with_tcga_filtered_drug_sample{sample_id}_unsupervised_zinb_model_cell_line_domain_clinvar_gpd_annovar_annotated_v4.pt\",\n",
    "        map_location=\"cuda:1\",\n",
    "    )\n",
    ")\n",
    "vae_model2.load_state_dict(\n",
    "    torch.load(\n",
    "        f\"../data/model_checkpoints/druid_with_tcga_filtered_drug_sample{sample_id}_unsupervised_vae_model_other_domain_clinvar_gpd_annovar_annotated_v4.pt\",\n",
    "        map_location=\"cuda:1\",\n",
    "    )\n",
    ")\n",
    "ffb_zinb_model2.load_state_dict(\n",
    "    torch.load(\n",
    "        f\"../data/model_checkpoints/druid_with_tcga_filtered_drug_sample{sample_id}_unsupervised_zinb_model_other_domain_clinvar_gpd_annovar_annotated_v4.pt\",\n",
    "        map_location=\"cuda:1\",\n",
    "    )\n",
    ")"
   ]
  },
  {
   "cell_type": "code",
   "execution_count": 10,
   "id": "d390926b-955a-42bf-9368-d8292cbf3a9f",
   "metadata": {
    "execution": {
     "iopub.execute_input": "2022-10-13T02:58:51.584129Z",
     "iopub.status.busy": "2022-10-13T02:58:51.583357Z",
     "iopub.status.idle": "2022-10-13T02:58:51.595064Z",
     "shell.execute_reply": "2022-10-13T02:58:51.594037Z",
     "shell.execute_reply.started": "2022-10-13T02:58:51.584076Z"
    },
    "tags": []
   },
   "outputs": [
    {
     "data": {
      "text/plain": [
       "ffnzinb(\n",
       "  (zinb_layers_mu): Sequential(\n",
       "    (mu): Linear(in_features=7776, out_features=7776, bias=True)\n",
       "  )\n",
       "  (zinb_layers_theta): Sequential(\n",
       "    (theta): Linear(in_features=7776, out_features=7776, bias=True)\n",
       "  )\n",
       "  (zinb_layers_pi): Sequential(\n",
       "    (pi): Linear(in_features=7776, out_features=7776, bias=True)\n",
       "    (pi-actf): Sigmoid()\n",
       "  )\n",
       ")"
      ]
     },
     "execution_count": 10,
     "metadata": {},
     "output_type": "execute_result"
    }
   ],
   "source": [
    "vae_model1.eval()\n",
    "ffb_zinb_model1.eval()\n",
    "vae_model2.eval()\n",
    "ffb_zinb_model2.eval()"
   ]
  },
  {
   "cell_type": "code",
   "execution_count": null,
   "id": "a564da1b",
   "metadata": {},
   "outputs": [],
   "source": []
  }
 ],
 "metadata": {
  "kernelspec": {
   "display_name": "base2",
   "language": "python",
   "name": "base2"
  },
  "language_info": {
   "codemirror_mode": {
    "name": "ipython",
    "version": 3
   },
   "file_extension": ".py",
   "mimetype": "text/x-python",
   "name": "python",
   "nbconvert_exporter": "python",
   "pygments_lexer": "ipython3",
   "version": "3.9.12"
  }
 },
 "nbformat": 4,
 "nbformat_minor": 5
}
