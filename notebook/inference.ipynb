{
 "cells": [
  {
   "cell_type": "markdown",
   "id": "df65a65d",
   "metadata": {},
   "source": [
    "Uses Morgan fingerprints, VAE repr for cell lines and patients, for ClinVar, GPD and Annovar based annotations, to perform inference from a pretrained DruID model."
   ]
  },
  {
   "cell_type": "markdown",
   "metadata": {},
   "source": [
    "### Load libraries"
   ]
  },
  {
   "cell_type": "code",
   "execution_count": null,
   "id": "12974b10",
   "metadata": {},
   "outputs": [],
   "source": [
    "import sys\n",
    "\n",
    "sys.path.append(\"../src/\")"
   ]
  },
  {
   "cell_type": "code",
   "execution_count": null,
   "id": "42d7968d",
   "metadata": {},
   "outputs": [],
   "source": [
    "import numpy as np\n",
    "import pandas as pd\n",
    "\n",
    "import torch\n",
    "\n",
    "from torch import nn\n",
    "from torch.nn import functional as F\n",
    "\n",
    "from functools import cached_property\n",
    "\n",
    "from torch.nn import Linear, ReLU, Sequential\n",
    "\n",
    "from sklearn.metrics import average_precision_score, ndcg_score, roc_auc_score\n",
    "from torch.utils.data import Dataset,DataLoader\n",
    "import torch.nn as nn\n",
    "import torch.optim as optim\n",
    "\n",
    "from datasets_drug_filtered import (\n",
    "    AggCategoricalAnnotatedCellLineDatasetFilteredByDrug,\n",
    "    AggCategoricalAnnotatedTcgaDatasetFilteredByDrug,\n",
    ")\n",
    "\n",
    "from utils import get_kld_loss, get_zinb_loss\n",
    "\n",
    "from seaborn import scatterplot\n",
    "\n",
    "from sklearn.metrics import pairwise_distances"
   ]
  },
  {
   "cell_type": "code",
   "execution_count": null,
   "id": "001d010d",
   "metadata": {},
   "outputs": [],
   "source": [
    "# To avoid randomness in DataLoaders - https://pytorch.org/docs/stable/notes/randomness.html\n",
    "def seed_worker(worker_id):\n",
    "    worker_seed = torch.initial_seed() % 2**32\n",
    "    numpy.random.seed(worker_seed)\n",
    "    random.seed(worker_seed)\n",
    "    \n",
    "g = torch.Generator()\n",
    "g.manual_seed(0)"
   ]
  },
  {
   "cell_type": "code",
   "execution_count": null,
   "id": "e35a10bf",
   "metadata": {},
   "outputs": [],
   "source": [
    "sample_id = 0"
   ]
  },
  {
   "cell_type": "markdown",
   "id": "b8dbad16",
   "metadata": {},
   "source": [
    "### Model Definition"
   ]
  },
  {
   "cell_type": "code",
   "execution_count": null,
   "id": "6ad465a7",
   "metadata": {},
   "outputs": [],
   "source": [
    "from vae import vae"
   ]
  },
  {
   "cell_type": "code",
   "execution_count": null,
   "id": "89b51b54",
   "metadata": {},
   "outputs": [],
   "source": [
    "class CellLineEmbedder(nn.Module):\n",
    "    @cached_property\n",
    "    def device(self):\n",
    "        return torch.device(\"cuda:1\" if torch.cuda.is_available() else \"cpu\")\n",
    "    \n",
    "    def __init__(\n",
    "        self,\n",
    "        checkpoint_base_path=\"../data/model_checkpoints\",\n",
    "    ):\n",
    "        super(CellLineEmbedder, self).__init__()\n",
    "        self.checkpoint_base_path = checkpoint_base_path\n",
    "\n",
    "        input_dim_vae = 324 * 6 * 4\n",
    "        k_list = [128, 64]\n",
    "        actf_list = [\"tanh\", \"tanh\"]\n",
    "        is_real = True\n",
    "\n",
    "        # The below modules are expected to be available in the scope where this module is instialized\n",
    "\n",
    "        self.vae_model1 = vae(input_dim_vae, k_list, actf_list, is_real)\n",
    "        self.vae_model1 = (\n",
    "            self.vae_model1.cuda() if self.device.type == \"cuda\" else self.vae_model1\n",
    "        )\n",
    "\n",
    "        self.vae_model2 = vae(input_dim_vae, k_list, actf_list, is_real)\n",
    "        self.vae_model2 = (\n",
    "            self.vae_model2.cuda() if self.device.type == \"cuda\" else self.vae_model2\n",
    "        )\n",
    "\n",
    "        self.vae_model1_raw_mutation = vae(input_dim_vae, k_list, actf_list, is_real)\n",
    "        self.vae_model1_raw_mutation = (\n",
    "            self.vae_model1_raw_mutation.cuda()\n",
    "            if self.device.type == \"cuda\"\n",
    "            else self.vae_model1_raw_mutation\n",
    "        )\n",
    "\n",
    "        self.vae_model2_raw_mutation = vae(input_dim_vae, k_list, actf_list, is_real)\n",
    "        self.vae_model2_raw_mutation = (\n",
    "            self.vae_model2_raw_mutation.cuda()\n",
    "            if self.device.type == \"cuda\"\n",
    "            else self.vae_model2_raw_mutation\n",
    "        )\n",
    "\n",
    "    def __str__(self):\n",
    "        return f\"CellLineEmbedder\"\n",
    "\n",
    "    def load_model(self):\n",
    "        \n",
    "        self.vae_model1_raw_mutation.load_state_dict(\n",
    "            torch.load(\n",
    "                f\"{self.checkpoint_base_path}/druid_with_tcga_filtered_drug_sample{sample_id}_unsupervised_vae_model_cell_line_domain_clinvar_gpd_annovar_annotated_v4.pt\",\n",
    "                map_location=str(self.device),\n",
    "            )\n",
    "        )\n",
    "        \n",
    "        self.vae_model2_raw_mutation.load_state_dict(\n",
    "            torch.load(\n",
    "                f\"{self.checkpoint_base_path}/druid_with_tcga_filtered_drug_sample{sample_id}_unsupervised_vae_model_other_domain_clinvar_gpd_annovar_annotated_v4.pt\",\n",
    "                map_location=str(self.device),\n",
    "            )\n",
    "        )\n",
    "        \n",
    "        \n",
    "    def forward(self, x):\n",
    "        # Get cell line representation from annotated encoder\n",
    "        _, cell_line_emb, _, _ = self.vae_model1_raw_mutation(x)\n",
    "        return cell_line_emb"
   ]
  },
  {
   "cell_type": "code",
   "execution_count": null,
   "id": "66dca1df",
   "metadata": {},
   "outputs": [],
   "source": [
    "class PatientEmbedder(nn.Module):\n",
    "    @cached_property\n",
    "    def device(self):\n",
    "        return torch.device(\"cuda:1\" if torch.cuda.is_available() else \"cpu\")\n",
    "    \n",
    "    def __init__(\n",
    "        self,\n",
    "        checkpoint_base_path=\"../data/model_checkpoints\",\n",
    "    ):\n",
    "        super(PatientEmbedder, self).__init__()\n",
    "        self.checkpoint_base_path = checkpoint_base_path\n",
    "\n",
    "        input_dim_vae = 324 * 6 * 4\n",
    "        k_list = [128, 64]\n",
    "        actf_list = [\"tanh\", \"tanh\"]\n",
    "        is_real = True\n",
    "\n",
    "        # The below modules are expected to be available in the scope where this module is instialized\n",
    "\n",
    "        self.vae_model1 = vae(input_dim_vae, k_list, actf_list, is_real)\n",
    "        self.vae_model1 = (\n",
    "            self.vae_model1.cuda() if self.device.type == \"cuda\" else self.vae_model1\n",
    "        )\n",
    "\n",
    "        self.vae_model2 = vae(input_dim_vae, k_list, actf_list, is_real)\n",
    "        self.vae_model2 = (\n",
    "            self.vae_model2.cuda() if self.device.type == \"cuda\" else self.vae_model2\n",
    "        )\n",
    "\n",
    "        self.vae_model1_raw_mutation = vae(input_dim_vae, k_list, actf_list, is_real)\n",
    "        self.vae_model1_raw_mutation = (\n",
    "            self.vae_model1_raw_mutation.cuda()\n",
    "            if self.device.type == \"cuda\"\n",
    "            else self.vae_model1_raw_mutation\n",
    "        )\n",
    "\n",
    "        self.vae_model2_raw_mutation = vae(input_dim_vae, k_list, actf_list, is_real)\n",
    "        self.vae_model2_raw_mutation = (\n",
    "            self.vae_model2_raw_mutation.cuda()\n",
    "            if self.device.type == \"cuda\"\n",
    "            else self.vae_model2_raw_mutation\n",
    "        )\n",
    "\n",
    "    def __str__(self):\n",
    "        return f\"PatientEmbedder\"\n",
    "\n",
    "    def load_model(self):\n",
    "        \n",
    "        self.vae_model1_raw_mutation.load_state_dict(\n",
    "            torch.load(\n",
    "                f\"{self.checkpoint_base_path}/druid_with_tcga_filtered_drug_sample{sample_id}_unsupervised_vae_model_cell_line_domain_clinvar_gpd_annovar_annotated_v4.pt\",\n",
    "                map_location=str(self.device),\n",
    "            )\n",
    "        )\n",
    "        \n",
    "        self.vae_model2_raw_mutation.load_state_dict(\n",
    "            torch.load(\n",
    "                f\"{self.checkpoint_base_path}/druid_with_tcga_filtered_drug_sample{sample_id}_unsupervised_vae_model_other_domain_clinvar_gpd_annovar_annotated_v4.pt\",\n",
    "                map_location=str(self.device),\n",
    "            )\n",
    "        )\n",
    "        \n",
    "        \n",
    "    def forward(self, x):\n",
    "        # Get patient representation from annotated encoder\n",
    "        _, patient_emb, _, _ = self.vae_model2_raw_mutation(x)\n",
    "        return patient_emb"
   ]
  },
  {
   "cell_type": "code",
   "execution_count": null,
   "id": "40803f94",
   "metadata": {},
   "outputs": [],
   "source": [
    "# drug_names = [drug_name]\n",
    "drug_names = ['CISPLATIN', 'PACLITAXEL']\n",
    "uniq_drug_names = np.unique(np.array(drug_names))\n",
    "drug_names_to_idx_map = dict(zip(uniq_drug_names, range(len(uniq_drug_names))))"
   ]
  },
  {
   "cell_type": "code",
   "execution_count": null,
   "id": "d203bd83",
   "metadata": {},
   "outputs": [],
   "source": [
    "drug_fp = pd.read_csv(\"../data/processed/drug_morgan_fingerprints.csv\", index_col=0)\n",
    "drug_fp"
   ]
  },
  {
   "cell_type": "markdown",
   "id": "1f9ed0ab",
   "metadata": {},
   "source": [
    "### Creating the datasets"
   ]
  },
  {
   "cell_type": "code",
   "execution_count": null,
   "id": "707babc2",
   "metadata": {},
   "outputs": [],
   "source": [
    "tcga_dataset_test = AggCategoricalAnnotatedTcgaDatasetFilteredByDrug(is_train=False, filter_for=\"tcga\", sample_id=sample_id)\n",
    "tcga_dataset_test.tcga_response"
   ]
  },
  {
   "cell_type": "code",
   "execution_count": null,
   "id": "5053b73d",
   "metadata": {},
   "outputs": [],
   "source": [
    "tcga_test_features = []\n",
    "tcga_test_y = []\n",
    "for idx, row in tcga_dataset_test.tcga_response.iterrows():\n",
    "    row_inp = []\n",
    "    row_inp.extend(tcga_dataset_test.clinvar_gpd_annovar_annotated.loc[row[\"submitter_id\"]].values)\n",
    "    row_inp.extend(drug_fp.loc[row[\"drug_name\"]].values)\n",
    "    row_inp.append(row[\"response\"])\n",
    "    tcga_test_y.append(row[\"response\"])\n",
    "    tcga_test_features.append(row_inp)"
   ]
  },
  {
   "cell_type": "code",
   "execution_count": null,
   "id": "b09b8ff2",
   "metadata": {},
   "outputs": [],
   "source": [
    "len(row_inp)"
   ]
  },
  {
   "cell_type": "code",
   "execution_count": null,
   "id": "5f66aba2",
   "metadata": {},
   "outputs": [],
   "source": [
    "from torch.utils.data import DataLoader, Dataset"
   ]
  },
  {
   "cell_type": "code",
   "execution_count": null,
   "id": "bb2da188",
   "metadata": {},
   "outputs": [],
   "source": [
    "# load basic set of params\n",
    "from dotmap import DotMap\n",
    "import yaml\n",
    "import wandb\n",
    "with open(f'./config/config_tcga_sample{sample_id}.yml', 'r') as f:\n",
    "    args = DotMap(yaml.safe_load(f))\n",
    "print(args)\n",
    "np.random.seed(args.seed)"
   ]
  },
  {
   "cell_type": "code",
   "execution_count": null,
   "id": "2c42a2c5",
   "metadata": {},
   "outputs": [],
   "source": [
    "seed = args.seed"
   ]
  },
  {
   "cell_type": "code",
   "execution_count": null,
   "id": "205a11fd",
   "metadata": {},
   "outputs": [],
   "source": [
    "# finetuned params\n",
    "lr_main_optim = 1e-5\n",
    "lr_cl_optim = 1e-4\n",
    "lr_patient_optim = 1e-3\n",
    "lr_drug_optim = 1e-4\n",
    "args.lr_main_optim = lr_main_optim\n",
    "args.lr_cl_optim = lr_cl_optim\n",
    "args.lr_patient_optim = lr_patient_optim\n",
    "args.lr_drug_optim = lr_drug_optim\n",
    "args.device = 1\n",
    "args.epochs = 50\n",
    "batch_size = args.batch_size"
   ]
  },
  {
   "cell_type": "code",
   "execution_count": null,
   "id": "3557581c",
   "metadata": {},
   "outputs": [],
   "source": [
    "args"
   ]
  },
  {
   "cell_type": "code",
   "execution_count": null,
   "id": "fb463654",
   "metadata": {},
   "outputs": [],
   "source": [
    "class CustomDataset(Dataset):\n",
    "    def __init__(self, train_features):\n",
    "        self.train_features = train_features\n",
    "\n",
    "    def __len__(self):\n",
    "        return len(self.train_features)\n",
    "\n",
    "    def __getitem__(self, idx):\n",
    "        return torch.Tensor(self.train_features[idx][:-1]), self.train_features[idx][-1]"
   ]
  },
  {
   "cell_type": "code",
   "execution_count": null,
   "id": "28adca3a",
   "metadata": {},
   "outputs": [],
   "source": [
    "tcga_test_data = CustomDataset(tcga_test_features)\n",
    "tcga_test_dataloader = DataLoader(tcga_test_data, batch_size=batch_size, shuffle=False, generator=g, worker_init_fn=seed_worker)"
   ]
  },
  {
   "cell_type": "code",
   "execution_count": null,
   "metadata": {},
   "outputs": [],
   "source": [
    "len(tcga_test_features)"
   ]
  },
  {
   "cell_type": "code",
   "execution_count": null,
   "id": "454f6a06",
   "metadata": {},
   "outputs": [],
   "source": [
    "test_loaders = {\n",
    "    \"RECIST_prediction\": tcga_test_dataloader,\n",
    "}"
   ]
  },
  {
   "cell_type": "code",
   "execution_count": null,
   "id": "ee1b0cf0",
   "metadata": {},
   "outputs": [],
   "source": [
    "datasets = {\n",
    "                'RECIST_prediction': ['tcga'],\n",
    "                'AUDRC_prediction': ['ccle'],\n",
    "}"
   ]
  },
  {
   "cell_type": "markdown",
   "metadata": {},
   "source": [
    "### DruID Model"
   ]
  },
  {
   "cell_type": "code",
   "execution_count": null,
   "id": "71d7d776",
   "metadata": {},
   "outputs": [],
   "source": [
    "class DruID(nn.Module):\n",
    "    '''\n",
    "    Used for training 2 tasks - cell line-drug AUDRC prediction(regression) and patient-drug RECIST prediction(classification)\n",
    "    300 dimensional input for drugs\n",
    "    '''\n",
    "    def __init__(self,single=False):\n",
    "        super(DruID, self).__init__()\n",
    "        # drug embedder network\n",
    "        self.drug_embedder = self.fnn(2048, 128, 64, 32)\n",
    "        # cell line embedder network\n",
    "        self.cell_line_embedder = CellLineEmbedder(checkpoint_base_path=f'../data/model_checkpoints/')\n",
    "        # self.cell_line_embedder.load_model() # load pretrained VAE model\n",
    "        # patient embedder network\n",
    "        self.patient_embedder = PatientEmbedder(checkpoint_base_path=f'../data/model_checkpoints/')\n",
    "        # self.patient_embedder.load_model() # load pretrained VAE model\n",
    "        # prediction heads\n",
    "        self.recist_predictor = nn.Sequential(self.fnn(64, 64, 16, 1), ) # takes as input concatenated representation of patient and drug\n",
    "        self.audrc_predictor = nn.Sequential(self.fnn(64, 64, 16, 1), ) # takes as input concatenated representation of cell line and drug\n",
    "\n",
    "        self.AUDRC_specific = nn.ModuleDict({'embedder': self.cell_line_embedder,\n",
    "                                              'predictor': self.audrc_predictor})\n",
    "        self.RECIST_specific = nn.ModuleDict({'embedder': self.patient_embedder,\n",
    "                                                'predictor': self.recist_predictor})\n",
    "\n",
    "        self.name = 'DruID'\n",
    "        self.device = torch.device(f'cuda:1' if torch.cuda.is_available() else 'cpu')\n",
    "        \n",
    "    def fnn(self, In, hidden1, hidden2, out):\n",
    "        return nn.Sequential(nn.Linear(In, hidden1), nn.ReLU(), \n",
    "                             nn.Linear(hidden1, hidden2), nn.ReLU(), \n",
    "                             nn.Linear(hidden2, out))\n",
    "\n",
    "    def forward(self,x1,x2): # x1 is patient data, x2 is cell lines - each row is of the form [mutations 324*24*6, drug fingerprint of 2048 dim]\n",
    "        # input is of dim (batch_size, 7776+2048)\n",
    "        # drug input\n",
    "        patient_drug_input = x1[:, 324*6*4:].to(self.device, torch.float32)\n",
    "        cl_drug_input = x2[:, 324*6*4:].to(self.device, torch.float32)\n",
    "    \n",
    "        # mutation profile\n",
    "        patient_mut_input = torch.Tensor(x1[:,:324*6*4]).to(self.device, torch.float32)\n",
    "        cl_mut_input = torch.Tensor(x2[:,:324*6*4]).to(self.device, torch.float32)\n",
    "        \n",
    "        # drug embedding\n",
    "        patient_drug_emb = self.drug_embedder(patient_drug_input)\n",
    "        cl_drug_emb = self.drug_embedder(cl_drug_input)\n",
    "        \n",
    "        # mutation embedding\n",
    "        patient_mut_emb = self.patient_embedder(patient_mut_input)\n",
    "        cl_mut_emb = self.cell_line_embedder(cl_mut_input)\n",
    "        \n",
    "        # concat and pass through prediction heads\n",
    "        patient_drug_cat_emb = torch.cat((patient_mut_emb, patient_drug_emb), dim=1)\n",
    "        cl_drug_cat_emb = torch.cat((cl_mut_emb, cl_drug_emb), dim=1)\n",
    "        \n",
    "        # prediction heads\n",
    "        recist_prediction = self.recist_predictor(patient_drug_cat_emb)\n",
    "        audrc_prediction = self.audrc_predictor(cl_drug_cat_emb)\n",
    "        \n",
    "        return recist_prediction, audrc_prediction\n"
   ]
  },
  {
   "cell_type": "code",
   "execution_count": null,
   "id": "e4849585",
   "metadata": {},
   "outputs": [],
   "source": [
    "torch.manual_seed(seed)\n",
    "torch.cuda.manual_seed(seed)\n",
    "\n",
    "tasks = ['RECIST_prediction', 'AUDRC_prediction']  # prediction tasks; model consumes in this order; important\n",
    "\n",
    "# model related\n",
    "model = eval(f'{args.model}()')\n",
    "device = torch.device(f'cuda:{args.device}' if torch.cuda.is_available() else 'cpu')\n",
    "print(f'Using {device} device...')\n",
    "model = model.to(device)\n",
    "\n",
    "## Pretrained DruID model related:\n",
    "# Uncomment below line if loading pretrained model weights for DruID (Eg: in TCGA, we load pretrained weights from IMAC-OV DruID model)\n",
    "# model.load_state_dict(torch.load(f\"/data/ajayago/druid/paper_intermediate_pretrained/model_checkpoints/druid_MTL_raw_mutations_sample{sample_id}/rad51_drug_fp_clinvar_gpd_annovar_annotated_drug_trs_{wand_run_2_load}_all_drugs.pth\"))\n",
    "# Uncomment below lines if freeze some layers like drug, cell line and patient embedder etc from pretrained model\n",
    "# for param in model.drug_embedder.parameters():\n",
    "#     param.requires_grad = False\n",
    "# for param in model.cell_line_embedder.parameters():\n",
    "#     param.requires_grad = False\n",
    "# for param in model.patient_embedder.parameters():\n",
    "#     param.requires_grad = False\n",
    "\n",
    "specific_submodels = {\n",
    "                      'RECIST_prediction': model.RECIST_specific,\n",
    "                      'AUDRC_prediction': model.AUDRC_specific\n",
    "                     }\n",
    "common_submodel = model.drug_embedder\n"
   ]
  },
  {
   "cell_type": "markdown",
   "id": "4735f6d6",
   "metadata": {},
   "source": [
    "### Inference"
   ]
  },
  {
   "cell_type": "code",
   "execution_count": null,
   "id": "680eac37",
   "metadata": {},
   "outputs": [],
   "source": [
    "# comment if training\n",
    "model.load_state_dict(torch.load(f\"../data/model_checkpoints/DruID.pth\"))"
   ]
  },
  {
   "cell_type": "code",
   "execution_count": null,
   "id": "b551b874",
   "metadata": {},
   "outputs": [],
   "source": [
    "model"
   ]
  },
  {
   "cell_type": "code",
   "execution_count": null,
   "metadata": {},
   "outputs": [],
   "source": [
    "model.eval()\n",
    "y_preds = []\n",
    "for idx, (inp, y) in enumerate(tcga_test_dataloader):\n",
    "    # drug input\n",
    "    patient_drug_input = inp[:, 324*6*4:].to(device, torch.float32)\n",
    "    # mutation profile\n",
    "    patient_mut_input = inp[:, :324*6*4].to(device, torch.float32)\n",
    "\n",
    "    # drug embedding\n",
    "    patient_drug_emb = model.drug_embedder(patient_drug_input)\n",
    "\n",
    "    # mutation embedding\n",
    "    patient_mut_emb = model.patient_embedder(patient_mut_input)\n",
    "\n",
    "    # concat and pass through prediction heads\n",
    "    patient_drug_cat_emb = torch.cat((patient_mut_emb, patient_drug_emb), dim=1)\n",
    "\n",
    "    recist_prediction = model.recist_predictor(patient_drug_cat_emb)\n",
    "    y_preds.extend(list(recist_prediction.flatten().detach().cpu().numpy()))"
   ]
  },
  {
   "cell_type": "markdown",
   "id": "effbe9e8-0d74-4175-b204-0b3f8da0be56",
   "metadata": {},
   "source": [
    "### Metrics"
   ]
  },
  {
   "cell_type": "code",
   "execution_count": null,
   "id": "559fcf2f",
   "metadata": {},
   "outputs": [],
   "source": [
    "from scipy import stats\n",
    "from numpy import argmax\n",
    "from sklearn.metrics import roc_curve"
   ]
  },
  {
   "cell_type": "code",
   "execution_count": null,
   "metadata": {},
   "outputs": [],
   "source": [
    "len(y_preds)"
   ]
  },
  {
   "cell_type": "code",
   "execution_count": null,
   "metadata": {},
   "outputs": [],
   "source": [
    "y_true = tcga_dataset_test.tcga_response[tcga_dataset_test.tcga_response.drug_name == \"CISPLATIN\"]\n",
    "y_pred = tcga_dataset_test.tcga_response.copy()\n",
    "y_pred[\"response\"] = y_preds\n",
    "y_pred"
   ]
  },
  {
   "cell_type": "code",
   "execution_count": null,
   "id": "dcb7f552-3a4f-44a1-a7bc-7bc4e051adaa",
   "metadata": {
    "execution": {
     "iopub.execute_input": "2022-10-18T15:04:04.194068Z",
     "iopub.status.busy": "2022-10-18T15:04:04.193367Z",
     "iopub.status.idle": "2022-10-18T15:04:05.907943Z",
     "shell.execute_reply": "2022-10-18T15:04:05.905953Z",
     "shell.execute_reply.started": "2022-10-18T15:04:04.194010Z"
    },
    "scrolled": false,
    "tags": []
   },
   "outputs": [],
   "source": [
    "\n",
    "y_pred_pivotted = y_pred.pivot_table(\n",
    "                \"response\", \"submitter_id\", \"drug_name\"\n",
    "            )\n",
    "y_pred_pivotted = y_pred_pivotted.fillna(0) # in case there are NaNs\n",
    "dict_idx_drug = pd.DataFrame(y_pred_pivotted.columns).to_dict()[\"drug_name\"]\n",
    "dict_id_drug = {}\n",
    "\n",
    "for patient_id, predictions in y_pred_pivotted.iterrows():\n",
    "\n",
    "    cur_pred_scores = predictions.values\n",
    "    cur_recom_drug_idx = np.argsort(cur_pred_scores)[:-11:-1]\n",
    "    #\n",
    "    dict_recom_drug = {}\n",
    "    for idx, cur_idx in enumerate(cur_recom_drug_idx):\n",
    "        dict_recom_drug[\n",
    "            dict_idx_drug[cur_idx]\n",
    "        ] = f\"{cur_pred_scores[cur_idx]} ({idx+1})\"\n",
    "    #\n",
    "    dict_id_drug[patient_id] = dict_recom_drug\n",
    "\n",
    "predictions_display_tcga = pd.DataFrame.from_dict(dict_id_drug)\n",
    "\n",
    "na_mask = y_pred.response.isna()\n",
    "if na_mask.sum():\n",
    "    print(\n",
    "        f\"Found {na_mask.sum()} rows with invalid response values\"\n",
    "    )\n",
    "    y_pred = y_pred[~na_mask]\n",
    "    y_true = y_true.loc[~(na_mask.values)]\n",
    "na_mask = y_true.response.isna()\n",
    "y_true = y_true[~na_mask]\n",
    "y_pred = y_pred[~na_mask]\n",
    "print(y_pred.shape)\n",
    "y_pred.head()\n",
    "y_combined = y_pred.merge(y_true, on=[\"submitter_id\", \"drug_name\"])\n",
    "\n",
    "from sklearn.metrics import average_precision_score, ndcg_score, roc_auc_score, f1_score, accuracy_score, precision_score, recall_score\n",
    "\n",
    "drugs_with_enough_support = [\"CISPLATIN\"]\n",
    "\n",
    "for drug_name in drugs_with_enough_support:\n",
    "    try:\n",
    "        roc = roc_auc_score(\n",
    "            y_true[y_true.drug_name == drug_name].response.values,\n",
    "            y_pred[y_pred.drug_name == drug_name].response.values,\n",
    "            average=\"micro\",\n",
    "        )\n",
    "        aupr = average_precision_score(\n",
    "            y_true[y_true.drug_name == drug_name].response.values,\n",
    "            y_pred[y_pred.drug_name == drug_name].response.values,\n",
    "            average=\"micro\",\n",
    "        )\n",
    "        # Choosing the right threshold for F1, accuracy and precision calculation from ref: https://machinelearningmastery.com/threshold-moving-for-imbalanced-classification/\n",
    "        fpr, tpr, thresholds = roc_curve(\n",
    "            y_true[y_true.drug_name == drug_name].response.values,\n",
    "            y_pred[y_pred.drug_name == drug_name].response.values,\n",
    "        )\n",
    "        J = tpr - fpr\n",
    "        ix = argmax(J)\n",
    "        best_thresh = thresholds[ix]\n",
    "        \n",
    "        f1 = f1_score(\n",
    "            y_true[y_true.drug_name == drug_name].response.values,\n",
    "            (y_pred[y_pred.drug_name == drug_name].response.values > best_thresh).astype(int),\n",
    "        )\n",
    "        acc_score = accuracy_score(\n",
    "            y_true[y_true.drug_name == drug_name].response.values,\n",
    "            (y_pred[y_pred.drug_name == drug_name].response.values > best_thresh).astype(int),\n",
    "        )\n",
    "        prec_score = precision_score(\n",
    "            y_true[y_true.drug_name == drug_name].response.values,\n",
    "            (y_pred[y_pred.drug_name == drug_name].response.values > best_thresh).astype(int),\n",
    "        )\n",
    "        rec_score = recall_score(\n",
    "            y_true[y_true.drug_name == drug_name].response.values,\n",
    "            (y_pred[y_pred.drug_name == drug_name].response.values > best_thresh).astype(int),\n",
    "        )\n",
    "        spearman_stats = stats.spearmanr(\n",
    "            y_true[y_true.drug_name == drug_name].response.values,\n",
    "            y_pred[y_pred.drug_name == drug_name].response.values,\n",
    "        )\n",
    "        mw_stats = stats.mannwhitneyu(\n",
    "            y_combined[\n",
    "                (y_combined.drug_name == drug_name) & (y_combined.response_y == 0)\n",
    "            ].response_x.values,\n",
    "            y_combined[\n",
    "                (y_combined.drug_name == drug_name) & (y_combined.response_y == 1)\n",
    "            ].response_x.values,\n",
    "            alternative=\"greater\",\n",
    "        )\n",
    "        denominator = (\n",
    "            y_combined[\n",
    "                (y_combined.drug_name == drug_name) & (y_combined.response_y == 0)\n",
    "            ].shape[0]\n",
    "            * y_combined[\n",
    "                (y_combined.drug_name == drug_name) & (y_combined.response_y == 1)\n",
    "            ].shape[0]\n",
    "        )\n",
    "        print(f\"AUROC for {drug_name}: {roc}\")\n",
    "        print(f\"AUPR for {drug_name}: {aupr}\")\n",
    "        print(f\"F1 for {drug_name}: {f1}\")\n",
    "        print(f\"Accuracy Score for {drug_name}: {acc_score}\")\n",
    "        print(f\"Precision Score for {drug_name}: {prec_score}\")\n",
    "        print(f\"Recall Score for {drug_name}: {rec_score}\")\n",
    "        print(\n",
    "            f\"Spearman for {drug_name}: {round(spearman_stats.correlation, 4)} (p-val: {round(spearman_stats.pvalue, 4)})\"\n",
    "        )\n",
    "        print(\n",
    "            f\"Mann-Whitney for {drug_name}: {round(mw_stats.statistic/denominator, 4)} (p-val: {round(mw_stats.pvalue, 4)})\"\n",
    "        )\n",
    "    except Exception as e:\n",
    "        print(f\"Error processing {drug_name} - {e}\")\n",
    "\n"
   ]
  },
  {
   "cell_type": "code",
   "execution_count": null,
   "metadata": {},
   "outputs": [],
   "source": []
  }
 ],
 "metadata": {
  "kernelspec": {
   "display_name": "base2",
   "language": "python",
   "name": "base2"
  },
  "language_info": {
   "codemirror_mode": {
    "name": "ipython",
    "version": 3
   },
   "file_extension": ".py",
   "mimetype": "text/x-python",
   "name": "python",
   "nbconvert_exporter": "python",
   "pygments_lexer": "ipython3",
   "version": "3.9.12"
  }
 },
 "nbformat": 4,
 "nbformat_minor": 5
}
