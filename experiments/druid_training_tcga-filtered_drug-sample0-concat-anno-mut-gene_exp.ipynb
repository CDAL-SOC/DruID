{
 "cells": [
  {
   "cell_type": "code",
   "execution_count": null,
   "id": "0a65583d-33b1-4440-b0bf-f66fe7fd40c9",
   "metadata": {
    "execution": {
     "iopub.execute_input": "2022-10-13T02:55:46.140809Z",
     "iopub.status.busy": "2022-10-13T02:55:46.139850Z",
     "iopub.status.idle": "2022-10-13T02:55:46.158104Z",
     "shell.execute_reply": "2022-10-13T02:55:46.157020Z",
     "shell.execute_reply.started": "2022-10-13T02:55:46.140658Z"
    },
    "tags": []
   },
   "outputs": [],
   "source": [
    "import sys\n",
    "\n",
    "sys.path.append(\"../src/\")"
   ]
  },
  {
   "cell_type": "code",
   "execution_count": null,
   "id": "6b7985d7-2b48-44cb-a531-3531904fdf83",
   "metadata": {
    "execution": {
     "iopub.execute_input": "2022-10-13T02:55:46.160638Z",
     "iopub.status.busy": "2022-10-13T02:55:46.160179Z",
     "iopub.status.idle": "2022-10-13T02:55:49.378079Z",
     "shell.execute_reply": "2022-10-13T02:55:49.377303Z",
     "shell.execute_reply.started": "2022-10-13T02:55:46.160604Z"
    },
    "tags": []
   },
   "outputs": [],
   "source": [
    "import numpy as np\n",
    "import pandas as pd\n",
    "\n",
    "import datetime\n",
    "import logging\n",
    "import os\n",
    "import time\n",
    "import torch\n",
    "\n",
    "from torch import nn\n",
    "from torch.nn import functional as F\n",
    "\n",
    "from functools import cached_property\n",
    "\n",
    "from torch.nn import Linear, ReLU, Sequential\n",
    "\n",
    "from sklearn.metrics import average_precision_score, ndcg_score, roc_auc_score\n",
    "\n",
    "from datasets_drug_filtered import (\n",
    "    AggCategoricalAnnotatedCellLineDatasetFilteredByDrug,\n",
    "    AggCategoricalAnnotatedTcgaDatasetFilteredByDrug,\n",
    ")\n",
    "from utils import get_kld_loss, get_zinb_loss, get_zinorm_loss\n",
    "\n",
    "from seaborn import scatterplot\n",
    "\n",
    "from sklearn.metrics import pairwise_distances"
   ]
  },
  {
   "cell_type": "code",
   "execution_count": null,
   "id": "ec19c354",
   "metadata": {},
   "outputs": [],
   "source": [
    "sample_id = 0"
   ]
  },
  {
   "cell_type": "markdown",
   "id": "11e4b80d-fa06-46b6-a092-9777d83d0bac",
   "metadata": {
    "tags": []
   },
   "source": [
    "## Model Definition - Concatenated raw mutation and CNV"
   ]
  },
  {
   "cell_type": "code",
   "execution_count": null,
   "id": "db2873a5-3fae-4bbb-84a4-a6806a88aae5",
   "metadata": {
    "execution": {
     "iopub.execute_input": "2022-10-13T02:55:50.839431Z",
     "iopub.status.busy": "2022-10-13T02:55:50.839140Z",
     "iopub.status.idle": "2022-10-13T02:55:50.843191Z",
     "shell.execute_reply": "2022-10-13T02:55:50.842609Z",
     "shell.execute_reply.started": "2022-10-13T02:55:50.839411Z"
    },
    "tags": []
   },
   "outputs": [],
   "source": [
    "device = torch.device(\"cuda:1\" if torch.cuda.is_available() else \"cpu\")"
   ]
  },
  {
   "cell_type": "code",
   "execution_count": null,
   "id": "873792d4-be2a-48b4-85af-0839845bd442",
   "metadata": {
    "execution": {
     "iopub.execute_input": "2022-10-13T02:55:49.379425Z",
     "iopub.status.busy": "2022-10-13T02:55:49.379188Z",
     "iopub.status.idle": "2022-10-13T02:55:50.837354Z",
     "shell.execute_reply": "2022-10-13T02:55:50.836667Z",
     "shell.execute_reply.started": "2022-10-13T02:55:49.379404Z"
    },
    "tags": []
   },
   "outputs": [],
   "source": [
    "input_dim_vae = 324 * (24+1) # anno mut and gene exp concatenated\n",
    "k_list = [128, 16]\n",
    "# k_list = [512, 128]\n",
    "actf_list = [\"tanh\", \"tanh\"]\n",
    "is_real = True\n",
    "eps = 1e-10\n",
    "ridge_lambda = 0.05\n",
    "is_mean = True\n",
    "weight_decay = 1e-4\n",
    "\n",
    "# The below modules are expected to be available in the scope where this module is instialized\n",
    "from ffnzinb import ffnzinb\n",
    "from vae import vae\n",
    "\n",
    "ffb_zinb_model1 = ffnzinb(input_dim_vae).cuda(device)\n",
    "vae_model1 = vae(input_dim_vae, k_list, actf_list, is_real).cuda(device)\n",
    "\n",
    "ffb_zinb_model2 = ffnzinb(input_dim_vae).cuda(device)\n",
    "vae_model2 = vae(input_dim_vae, k_list, actf_list, is_real).cuda(device)"
   ]
  },
  {
   "cell_type": "code",
   "execution_count": null,
   "id": "1f779fae-f9b1-40ff-a750-f99ab417e61d",
   "metadata": {
    "execution": {
     "iopub.execute_input": "2022-10-13T02:55:50.844185Z",
     "iopub.status.busy": "2022-10-13T02:55:50.843997Z",
     "iopub.status.idle": "2022-10-13T02:55:50.883694Z",
     "shell.execute_reply": "2022-10-13T02:55:50.882273Z",
     "shell.execute_reply.started": "2022-10-13T02:55:50.844167Z"
    },
    "tags": []
   },
   "outputs": [],
   "source": [
    "from utils import get_kld_loss, get_zinb_loss, get_zinorm_loss\n",
    "\n",
    "# alignment loss\n",
    "def coral(source, target):\n",
    "\n",
    "    d = source.size(1)  # dim vector\n",
    "\n",
    "    source_c = compute_covariance(source)\n",
    "    target_c = compute_covariance(target)\n",
    "\n",
    "    loss = torch.sum(torch.mul((source_c - target_c), (source_c - target_c)))\n",
    "\n",
    "    #     loss = loss / (4 * d * d)\n",
    "    return loss\n",
    "\n",
    "\n",
    "def compute_covariance(input_data):\n",
    "    \"\"\"\n",
    "    Compute Covariance matrix of the input data\n",
    "    \"\"\"\n",
    "    n = input_data.size(0)  # batch_size\n",
    "\n",
    "    # Check if using gpu or cpu\n",
    "    if input_data.is_cuda:\n",
    "        device = torch.device(\"cuda:1\")\n",
    "    else:\n",
    "        device = torch.device(\"cpu\")\n",
    "\n",
    "    id_row = torch.ones(n).resize(1, n).to(device=device)\n",
    "    sum_column = torch.mm(id_row, input_data)\n",
    "    mean_column = torch.div(sum_column, n)\n",
    "    term_mul_2 = torch.mm(mean_column.t(), mean_column)\n",
    "    d_t_d = torch.mm(input_data.t(), input_data)\n",
    "    c = torch.add(d_t_d, (-1 * term_mul_2)) * 1 / (n - 1)\n",
    "\n",
    "    return c\n",
    "\n",
    "\n",
    "def get_cell_line_tcga(vae_model, zinb_model):\n",
    "\n",
    "    with torch.no_grad():\n",
    "\n",
    "        test_dataset = AggCategoricalAnnotatedCellLineDatasetFilteredByDrug(\n",
    "            is_train=False, filter_for=\"tcga\", sample_id = sample_id\n",
    "        )\n",
    "        test_depmap_ids, drug_names, _ = list(\n",
    "            test_dataset[: len(test_dataset)].values()\n",
    "        )\n",
    "        uniq_test_depmap_ids = np.unique(np.array(test_depmap_ids))\n",
    "\n",
    "        test_model_in = torch.tensor(\n",
    "            test_dataset.concatenated_anno_mutation_gene_exp.loc[uniq_test_depmap_ids].to_numpy(),\n",
    "            device=device,\n",
    "            dtype=torch.float,\n",
    "        )\n",
    "\n",
    "        x_enc, X_test_mu, logvar, X_recons = vae_model(test_model_in)\n",
    "        X_mu, X_theta, X_pi = zinb_model(X_recons)\n",
    "\n",
    "        error = F.mse_loss(\n",
    "            X_mu.detach(), test_model_in.detach(), reduction=\"sum\"\n",
    "        ).item()\n",
    "\n",
    "    return error"
   ]
  },
  {
   "cell_type": "code",
   "execution_count": null,
   "id": "84d9a74c-7b10-45a8-9353-3e1d78b5cdb6",
   "metadata": {
    "execution": {
     "iopub.execute_input": "2022-10-13T02:55:50.886243Z",
     "iopub.status.busy": "2022-10-13T02:55:50.885422Z",
     "iopub.status.idle": "2022-10-13T02:55:58.421438Z",
     "shell.execute_reply": "2022-10-13T02:55:58.420554Z",
     "shell.execute_reply.started": "2022-10-13T02:55:50.886199Z"
    },
    "scrolled": true,
    "tags": []
   },
   "outputs": [],
   "source": [
    "num_iterations = 1000\n",
    "learning_rate = 1e-5\n",
    "convg_thres = 1e-5\n",
    "\n",
    "\n",
    "criterion = nn.MSELoss(reduction=\"mean\")\n",
    "\n",
    "params_list = []\n",
    "params_list += list(vae_model1.parameters())\n",
    "params_list += list(ffb_zinb_model1.parameters())\n",
    "params_list += list(vae_model2.parameters())\n",
    "params_list += list(ffb_zinb_model2.parameters())\n",
    "\n",
    "optimizer = torch.optim.Adam(params_list, lr=learning_rate, weight_decay=weight_decay)\n",
    "\n",
    "\n",
    "train_cell_line_dataset = AggCategoricalAnnotatedCellLineDatasetFilteredByDrug(\n",
    "    is_train=True, filter_for=\"tcga\", sample_id = sample_id\n",
    ")\n",
    "train_depmap_ids, drug_names, _ = list(\n",
    "    train_cell_line_dataset[: len(train_cell_line_dataset)].values()\n",
    ")\n",
    "uniq_train_depmap_ids = np.unique(np.array(train_depmap_ids))\n",
    "\n",
    "train_pdx_dataset = AggCategoricalAnnotatedTcgaDatasetFilteredByDrug(is_train=True, filter_for=\"tcga\", sample_id = sample_id)\n",
    "\n",
    "train_pdx_ids, drug_names, _ = list(\n",
    "    train_pdx_dataset[: len(train_pdx_dataset)].values()\n",
    ")\n",
    "uniq_train_pdx_ids = np.unique(np.array(train_pdx_ids))\n",
    "\n",
    "train_losses = []\n",
    "val_errors = []\n",
    "best_error = None\n",
    "for epoch in range(num_iterations):\n",
    "\n",
    "    optimizer.zero_grad()\n",
    "    model1_in = torch.tensor(\n",
    "        train_cell_line_dataset.concatenated_anno_mutation_gene_exp.loc[uniq_train_depmap_ids].to_numpy(),\n",
    "        device=device,\n",
    "        dtype=torch.float,\n",
    "    )\n",
    "    model2_in = torch.tensor(\n",
    "        train_pdx_dataset.concatenated_anno_mutation_gene_exp.loc[uniq_train_pdx_ids].to_numpy(),\n",
    "        device=device,\n",
    "        dtype=torch.float,\n",
    "    )\n",
    "\n",
    "    # ===================forward=====================\n",
    "    x_enc1, X_train_mu1, logvar1, X_recons1 = vae_model1(model1_in)\n",
    "    X_mu1, X_theta1, X_pi1 = ffb_zinb_model1(X_recons1)\n",
    "\n",
    "    x_enc2, X_train_mu2, logvar2, X_recons2 = vae_model2(model2_in)\n",
    "    X_mu2, X_theta2, X_pi2 = ffb_zinb_model2(X_recons2)\n",
    "\n",
    "    coral_loss = coral(X_train_mu1, X_train_mu2)\n",
    "\n",
    "    loss_zinb1 = get_zinorm_loss(\n",
    "        model1_in,\n",
    "        X_mu1,\n",
    "        X_theta1,\n",
    "        X_pi1,\n",
    "        is_mean=True,\n",
    "        eps=eps,\n",
    "        ridge_lambda=ridge_lambda,\n",
    "    )\n",
    "    loss_vae1 = get_kld_loss(X_train_mu1, logvar1, is_mean=True)\n",
    "\n",
    "    loss_zinb2 = get_zinorm_loss(\n",
    "        model2_in,\n",
    "        X_mu2,\n",
    "        X_theta2,\n",
    "        X_pi2,\n",
    "        is_mean=True,\n",
    "        eps=eps,\n",
    "        ridge_lambda=ridge_lambda,\n",
    "    )\n",
    "    loss_vae2 = get_kld_loss(X_train_mu2, logvar2, is_mean=True)\n",
    "    \n",
    "#     print(loss_zinb1)\n",
    "#     print(loss_vae1)\n",
    "#     print(coral_loss)\n",
    "#     print(loss_zinb2)\n",
    "#     print(loss_vae2)\n",
    "\n",
    "    loss_epoch = loss_zinb1 + loss_vae1 + coral_loss + loss_zinb2 + loss_vae2\n",
    "\n",
    "    loss_epoch.backward()\n",
    "\n",
    "    optimizer.step()\n",
    "    train_losses.append(loss_epoch.item())\n",
    "    if epoch % 10 == 0:\n",
    "        curr_error = get_cell_line_tcga(vae_model1, ffb_zinb_model1)\n",
    "        val_errors.append(curr_error)\n",
    "        if (best_error is None) or (curr_error < best_error):\n",
    "            best_error = curr_error\n",
    "            if epoch > 20:\n",
    "                torch.save(\n",
    "                    vae_model1.state_dict(),\n",
    "                    f\"../data/model_checkpoints/2B_druid_with_tcga_filtered_drug_sample{sample_id}/unsupervised_vae_model_cell_line_domain_concatenated_anno_mutation_gene_exp.pt\",\n",
    "                )\n",
    "                torch.save(\n",
    "                    ffb_zinb_model1.state_dict(),\n",
    "                    f\"../data/model_checkpoints/2B_druid_with_tcga_filtered_drug_sample{sample_id}/unsupervised_zinb_model_cell_line_domain_concatenated_anno_mutation_gene_exp.pt\",\n",
    "                )\n",
    "\n",
    "                torch.save(\n",
    "                    vae_model2.state_dict(),\n",
    "                    f\"../data/model_checkpoints/2B_druid_with_tcga_filtered_drug_sample{sample_id}/unsupervised_vae_model_other_domain_concatenated_anno_mutation_gene_exp.pt\",\n",
    "                )\n",
    "                torch.save(\n",
    "                    ffb_zinb_model2.state_dict(),\n",
    "                    f\"../data/model_checkpoints/2B_druid_with_tcga_filtered_drug_sample{sample_id}/unsupervised_zinb_model_other_domain_concatenated_anno_mutation_gene_exp.pt\",\n",
    "                )\n",
    "\n",
    "    print(\n",
    "        \"epoch [{}/{}], loss:{:.6f}\".format(\n",
    "            epoch + 1, num_iterations, loss_epoch.item()\n",
    "        )\n",
    "    )\n",
    "\n",
    "    if (len(train_losses) > 2) and abs(\n",
    "        train_losses[-1] - train_losses[-2]\n",
    "    ) < convg_thres:\n",
    "        print(\"Training converged, exiting\")\n",
    "        break"
   ]
  },
  {
   "cell_type": "code",
   "execution_count": null,
   "id": "7887560e",
   "metadata": {},
   "outputs": [],
   "source": [
    "# updated_gene_exp = train_pdx_dataset.gene_exp.reset_index()\n",
    "# for id in set(uniq_train_pdx_ids) - set(train_pdx_dataset.gene_exp.index):\n",
    "#     updated_gene_exp = updated_gene_exp.append({\"tcga_id\": id}, ignore_index=True)\n",
    "# updated_gene_exp.set_index(\"tcga_id\", drop=True).fillna(0).loc[uniq_train_pdx_ids]"
   ]
  },
  {
   "cell_type": "code",
   "execution_count": null,
   "id": "f10ef152-23f7-4ff4-a0af-9df7abffd20f",
   "metadata": {
    "execution": {
     "iopub.execute_input": "2022-10-13T02:55:58.423370Z",
     "iopub.status.busy": "2022-10-13T02:55:58.422855Z",
     "iopub.status.idle": "2022-10-13T02:55:58.633813Z",
     "shell.execute_reply": "2022-10-13T02:55:58.632686Z",
     "shell.execute_reply.started": "2022-10-13T02:55:58.423340Z"
    },
    "tags": []
   },
   "outputs": [],
   "source": [
    "pd.DataFrame(train_losses).plot()"
   ]
  },
  {
   "cell_type": "code",
   "execution_count": null,
   "id": "60de3362-3688-4e5b-8319-5e943d38b8b4",
   "metadata": {
    "execution": {
     "iopub.execute_input": "2022-10-13T02:56:26.249184Z",
     "iopub.status.busy": "2022-10-13T02:56:26.248516Z",
     "iopub.status.idle": "2022-10-13T02:56:26.392282Z",
     "shell.execute_reply": "2022-10-13T02:56:26.391694Z",
     "shell.execute_reply.started": "2022-10-13T02:56:26.249130Z"
    },
    "tags": []
   },
   "outputs": [],
   "source": [
    "get_cell_line_tcga(vae_model1, ffb_zinb_model1)"
   ]
  },
  {
   "cell_type": "code",
   "execution_count": null,
   "id": "6d1316d5-8876-4a4f-b884-17339d2913cc",
   "metadata": {
    "execution": {
     "iopub.execute_input": "2022-10-13T02:58:49.836219Z",
     "iopub.status.busy": "2022-10-13T02:58:49.835590Z",
     "iopub.status.idle": "2022-10-13T02:58:49.865080Z",
     "shell.execute_reply": "2022-10-13T02:58:49.863297Z",
     "shell.execute_reply.started": "2022-10-13T02:58:49.836165Z"
    },
    "tags": []
   },
   "outputs": [],
   "source": [
    "vae_model1.load_state_dict(\n",
    "    torch.load(\n",
    "        f\"../data/model_checkpoints/2B_druid_with_tcga_filtered_drug_sample{sample_id}/unsupervised_vae_model_cell_line_domain_concatenated_anno_mutation_gene_exp.pt\",\n",
    "        map_location=\"cuda:0\",\n",
    "    )\n",
    ")\n",
    "ffb_zinb_model1.load_state_dict(\n",
    "    torch.load(\n",
    "        f\"../data/model_checkpoints/2B_druid_with_tcga_filtered_drug_sample{sample_id}/unsupervised_zinb_model_cell_line_domain_concatenated_anno_mutation_gene_exp.pt\",\n",
    "        map_location=\"cuda:0\",\n",
    "    )\n",
    ")\n",
    "vae_model2.load_state_dict(\n",
    "    torch.load(\n",
    "        f\"../data/model_checkpoints/2B_druid_with_tcga_filtered_drug_sample{sample_id}/unsupervised_vae_model_other_domain_concatenated_anno_mutation_gene_exp.pt\",\n",
    "        map_location=\"cuda:0\",\n",
    "    )\n",
    ")\n",
    "ffb_zinb_model2.load_state_dict(\n",
    "    torch.load(\n",
    "        f\"../data/model_checkpoints/2B_druid_with_tcga_filtered_drug_sample{sample_id}/unsupervised_zinb_model_other_domain_concatenated_anno_mutation_gene_exp.pt\",\n",
    "        map_location=\"cuda:0\",\n",
    "    )\n",
    ")"
   ]
  },
  {
   "cell_type": "code",
   "execution_count": null,
   "id": "d390926b-955a-42bf-9368-d8292cbf3a9f",
   "metadata": {
    "execution": {
     "iopub.execute_input": "2022-10-13T02:58:51.584129Z",
     "iopub.status.busy": "2022-10-13T02:58:51.583357Z",
     "iopub.status.idle": "2022-10-13T02:58:51.595064Z",
     "shell.execute_reply": "2022-10-13T02:58:51.594037Z",
     "shell.execute_reply.started": "2022-10-13T02:58:51.584076Z"
    },
    "tags": []
   },
   "outputs": [],
   "source": [
    "vae_model1.eval()\n",
    "ffb_zinb_model1.eval()\n",
    "vae_model2.eval()\n",
    "ffb_zinb_model2.eval()"
   ]
  },
  {
   "cell_type": "code",
   "execution_count": null,
   "id": "f64bcf2d",
   "metadata": {},
   "outputs": [],
   "source": [
    "train_pdx_dataset.tcga_response[train_pdx_dataset.tcga_response.submitter_id.isin(uniq_train_pdx_ids)].drug_name.value_counts()"
   ]
  },
  {
   "cell_type": "code",
   "execution_count": null,
   "id": "42792f01",
   "metadata": {},
   "outputs": [],
   "source": []
  }
 ],
 "metadata": {
  "kernelspec": {
   "display_name": "base2",
   "language": "python",
   "name": "base2"
  },
  "language_info": {
   "codemirror_mode": {
    "name": "ipython",
    "version": 3
   },
   "file_extension": ".py",
   "mimetype": "text/x-python",
   "name": "python",
   "nbconvert_exporter": "python",
   "pygments_lexer": "ipython3",
   "version": "3.9.12"
  }
 },
 "nbformat": 4,
 "nbformat_minor": 5
}
